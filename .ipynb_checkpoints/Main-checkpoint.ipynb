{
 "cells": [
  {
   "cell_type": "code",
   "execution_count": 9,
   "id": "d833d7b0",
   "metadata": {
    "ExecuteTime": {
     "end_time": "2023-05-31T13:32:11.747789Z",
     "start_time": "2023-05-31T13:32:11.333004Z"
    }
   },
   "outputs": [],
   "source": [
    "from sqlalchemy import create_engine, MetaData, Table, Column, Integer, String\n",
    "from sqlalchemy.orm import sessionmaker\n",
    "import pandas as pd"
   ]
  },
  {
   "cell_type": "markdown",
   "id": "6df000bb",
   "metadata": {},
   "source": [
    "# 1.0 Get Data "
   ]
  },
  {
   "cell_type": "code",
   "execution_count": 3,
   "id": "9b67f1cc",
   "metadata": {
    "ExecuteTime": {
     "end_time": "2023-05-31T13:29:29.057438Z",
     "start_time": "2023-05-31T13:29:29.053730Z"
    }
   },
   "outputs": [],
   "source": [
    "host = 'interview-2.ck1h5ksgzpiq.us-east-1.rds.amazonaws.com'  \n",
    "porta = 3306\n",
    "usuario = 'hotinterview'\n",
    "senha = '6cT4jk9QWPhQC9KXWKDd'\n",
    "schema = 'innodb'\n",
    "tabela = 'sales_data'\n",
    "\n",
    "url_conexao = f'mysql+pymysql://{usuario}:{senha}@{host}:{porta}/{schema}'"
   ]
  },
  {
   "cell_type": "code",
   "execution_count": 6,
   "id": "558d7593",
   "metadata": {
    "ExecuteTime": {
     "end_time": "2023-05-31T13:30:05.651802Z",
     "start_time": "2023-05-31T13:30:05.617340Z"
    }
   },
   "outputs": [],
   "source": [
    "engine = create_engine(url_conexao, echo=True)  # Use \"echo=True\" para ver as mensagens de log"
   ]
  },
  {
   "cell_type": "code",
   "execution_count": 13,
   "id": "1e4dc822",
   "metadata": {
    "ExecuteTime": {
     "end_time": "2023-05-31T13:35:44.796496Z",
     "start_time": "2023-05-31T13:35:44.787435Z"
    }
   },
   "outputs": [],
   "source": [
    "Session = sessionmaker(bind=engine)\n",
    "session = Session()\n",
    "session.close()"
   ]
  },
  {
   "cell_type": "code",
   "execution_count": 14,
   "id": "9cc95a6b",
   "metadata": {
    "ExecuteTime": {
     "end_time": "2023-05-31T13:36:44.013134Z",
     "start_time": "2023-05-31T13:35:46.527830Z"
    }
   },
   "outputs": [
    {
     "name": "stdout",
     "output_type": "stream",
     "text": [
      "2023-05-31 10:35:46,532 INFO sqlalchemy.engine.Engine BEGIN (implicit)\n",
      "2023-05-31 10:35:46,536 INFO sqlalchemy.engine.Engine DESCRIBE `innodb`.`SELECT * FROM sales_data`\n",
      "2023-05-31 10:35:46,539 INFO sqlalchemy.engine.Engine [raw sql] {}\n",
      "2023-05-31 10:35:46,766 INFO sqlalchemy.engine.Engine SELECT * FROM sales_data\n",
      "2023-05-31 10:35:46,768 INFO sqlalchemy.engine.Engine [raw sql] {}\n",
      "2023-05-31 10:36:43,610 INFO sqlalchemy.engine.Engine ROLLBACK\n"
     ]
    }
   ],
   "source": [
    "query = 'SELECT * FROM sales_data'\n",
    "df = pd.read_sql(query, engine)"
   ]
  },
  {
   "cell_type": "code",
   "execution_count": null,
   "id": "bc353164",
   "metadata": {},
   "outputs": [],
   "source": []
  },
  {
   "cell_type": "code",
   "execution_count": null,
   "id": "ba84e1dc",
   "metadata": {},
   "outputs": [],
   "source": []
  },
  {
   "cell_type": "markdown",
   "id": "af381ee9",
   "metadata": {},
   "source": [
    "# 2.0 Observações iniciais "
   ]
  },
  {
   "cell_type": "markdown",
   "id": "a5b1eb1c",
   "metadata": {},
   "source": [
    "- purchase_id: Identificação da compra na Hotmart;\n",
    "- product_id: Identificação do produto na Hotmart;\n",
    "- affiliate_id: Identificação do afiliado na Hotmart;\n",
    "- producer_id: Identificação do produtor na Hotmart;\n",
    "- buyer_id: Identificação do comprador na Hotmart;\n",
    "- purchase_date: Data e hora em que a compra foi realizada;\n",
    "- product_creation_date: Data e hora em que o produto foi criado na Hotmart;\n",
    "- product_category: categoria do produto na Hotmart. Exemplo: e-book,\n",
    "software, curso online, e-tickets, etc.;\n",
    "- product_niche: nicho de mercado que o produto faz parte. Exemplo:\n",
    "educação, saúde e bem-estar, sexualidade, etc.;\n",
    "- purchase_value: valor da compra. Esse dado, assim como nicho e categoria foi\n",
    "codificado para manter a confidencialidade. O valor apresentado no dataset é\n",
    "o z-score do valor real;\n",
    "- affiliate_commission_percentual: percentual de comissão que o afiliado\n",
    "receberá da compra;\n",
    "- purchase_device: tipo de dispositivo utilizado no momento da compra, como:\n",
    "Desktop, Mobile, Tablet, ou Outros;\n",
    "- purchase_origin: endereço do site do qual a pessoa veio antes da compra. Por\n",
    "exemplo, se uma pessoa veio do Facebook, Youtube, ou até mesmo de outra\n",
    "página no site oficial do produto;\n",
    "- is_origin_page_social_network: informa se essa compra veio de uma URL do\n",
    "Facebook, Youtube, Instagram, Pinterest, ou Twitter.\n",
    "\n",
    "## Algumas regras de negócio\n",
    "- Quando a compra for feita diretamente pelo produtor, ou seja, quando não\n",
    "houver afiliado intermediando a compra, o campo\n",
    "affiliate_commission_percentual terá valor 0, e o campo affiliate_id será\n",
    "igual ao producer_id;\n",
    "- No campo purchase_origin nós apenas consideramos o host do site. Isso quer\n",
    "dizer que, se uma pessoa veio do site www.meuproduto.com/promocoes,\n",
    "esse campo só irá retornar o valor www.meuproduto.com;"
   ]
  },
  {
   "cell_type": "code",
   "execution_count": 17,
   "id": "f323af96",
   "metadata": {
    "ExecuteTime": {
     "end_time": "2023-05-31T13:40:41.491443Z",
     "start_time": "2023-05-31T13:40:41.118734Z"
    }
   },
   "outputs": [
    {
     "data": {
      "text/html": [
       "<div>\n",
       "<style scoped>\n",
       "    .dataframe tbody tr th:only-of-type {\n",
       "        vertical-align: middle;\n",
       "    }\n",
       "\n",
       "    .dataframe tbody tr th {\n",
       "        vertical-align: top;\n",
       "    }\n",
       "\n",
       "    .dataframe thead th {\n",
       "        text-align: right;\n",
       "    }\n",
       "</style>\n",
       "<table border=\"1\" class=\"dataframe\">\n",
       "  <thead>\n",
       "    <tr style=\"text-align: right;\">\n",
       "      <th></th>\n",
       "      <th>purchase_id</th>\n",
       "      <th>product_id</th>\n",
       "      <th>affiliate_id</th>\n",
       "      <th>producer_id</th>\n",
       "      <th>buyer_id</th>\n",
       "      <th>purchase_date</th>\n",
       "      <th>product_creation_date</th>\n",
       "      <th>product_category</th>\n",
       "      <th>product_niche</th>\n",
       "      <th>purchase_value</th>\n",
       "      <th>affiliate_commission_percentual</th>\n",
       "      <th>purchase_device</th>\n",
       "      <th>purchase_origin</th>\n",
       "      <th>is_origin_page_social_network</th>\n",
       "      <th>Venda</th>\n",
       "    </tr>\n",
       "  </thead>\n",
       "  <tbody>\n",
       "    <tr>\n",
       "      <th>199</th>\n",
       "      <td>10839481</td>\n",
       "      <td>118733</td>\n",
       "      <td>958412</td>\n",
       "      <td>958412</td>\n",
       "      <td>4984688</td>\n",
       "      <td>2016-01-01 00:04:44</td>\n",
       "      <td>2014-10-04 13:43:24</td>\n",
       "      <td>Phisical book</td>\n",
       "      <td>Organization</td>\n",
       "      <td>-0.428800</td>\n",
       "      <td>0.0</td>\n",
       "      <td>eReaders</td>\n",
       "      <td>Origin adf0</td>\n",
       "      <td>0,0</td>\n",
       "      <td>1</td>\n",
       "    </tr>\n",
       "    <tr>\n",
       "      <th>200</th>\n",
       "      <td>10839484</td>\n",
       "      <td>181119</td>\n",
       "      <td>213339</td>\n",
       "      <td>213339</td>\n",
       "      <td>5917688</td>\n",
       "      <td>2016-01-01 00:05:27</td>\n",
       "      <td>2015-10-22 11:05:58</td>\n",
       "      <td>Phisical book</td>\n",
       "      <td>Organization</td>\n",
       "      <td>0.204131</td>\n",
       "      <td>0.0</td>\n",
       "      <td>Desktop</td>\n",
       "      <td>Origin 3c5a</td>\n",
       "      <td>0,0</td>\n",
       "      <td>1</td>\n",
       "    </tr>\n",
       "    <tr>\n",
       "      <th>201</th>\n",
       "      <td>10839485</td>\n",
       "      <td>155827</td>\n",
       "      <td>2035132</td>\n",
       "      <td>2035132</td>\n",
       "      <td>718553</td>\n",
       "      <td>2016-01-01 00:05:29</td>\n",
       "      <td>2015-06-08 14:28:20</td>\n",
       "      <td>Podcast</td>\n",
       "      <td>Anxiety management</td>\n",
       "      <td>-0.377930</td>\n",
       "      <td>0.0</td>\n",
       "      <td>eReaders</td>\n",
       "      <td>Origin 14ad</td>\n",
       "      <td>0,0</td>\n",
       "      <td>1</td>\n",
       "    </tr>\n",
       "    <tr>\n",
       "      <th>202</th>\n",
       "      <td>10839488</td>\n",
       "      <td>168608</td>\n",
       "      <td>3630929</td>\n",
       "      <td>3630929</td>\n",
       "      <td>5917691</td>\n",
       "      <td>2016-01-01 00:06:30</td>\n",
       "      <td>2015-08-18 14:41:40</td>\n",
       "      <td>Phisical book</td>\n",
       "      <td>Negotiation</td>\n",
       "      <td>-0.503885</td>\n",
       "      <td>0.0</td>\n",
       "      <td>eReaders</td>\n",
       "      <td>Origin 55a8</td>\n",
       "      <td>0,0</td>\n",
       "      <td>1</td>\n",
       "    </tr>\n",
       "    <tr>\n",
       "      <th>203</th>\n",
       "      <td>10839491</td>\n",
       "      <td>130465</td>\n",
       "      <td>275005</td>\n",
       "      <td>275005</td>\n",
       "      <td>5550404</td>\n",
       "      <td>2016-01-01 00:06:50</td>\n",
       "      <td>2014-12-30 17:41:32</td>\n",
       "      <td>Phisical book</td>\n",
       "      <td>Media training</td>\n",
       "      <td>-0.415472</td>\n",
       "      <td>0.0</td>\n",
       "      <td>Desktop</td>\n",
       "      <td>Origin 659b</td>\n",
       "      <td>0,0</td>\n",
       "      <td>1</td>\n",
       "    </tr>\n",
       "    <tr>\n",
       "      <th>...</th>\n",
       "      <td>...</td>\n",
       "      <td>...</td>\n",
       "      <td>...</td>\n",
       "      <td>...</td>\n",
       "      <td>...</td>\n",
       "      <td>...</td>\n",
       "      <td>...</td>\n",
       "      <td>...</td>\n",
       "      <td>...</td>\n",
       "      <td>...</td>\n",
       "      <td>...</td>\n",
       "      <td>...</td>\n",
       "      <td>...</td>\n",
       "      <td>...</td>\n",
       "      <td>...</td>\n",
       "    </tr>\n",
       "    <tr>\n",
       "      <th>1599823</th>\n",
       "      <td>14011995</td>\n",
       "      <td>238362</td>\n",
       "      <td>7586641</td>\n",
       "      <td>7586641</td>\n",
       "      <td>5736172</td>\n",
       "      <td>2016-06-30 23:59:57</td>\n",
       "      <td>2016-06-16 12:10:46</td>\n",
       "      <td>Phisical book</td>\n",
       "      <td>Personal finance</td>\n",
       "      <td>-0.345361</td>\n",
       "      <td>0.0</td>\n",
       "      <td>eReaders</td>\n",
       "      <td>Origin 3022</td>\n",
       "      <td>0,0</td>\n",
       "      <td>1</td>\n",
       "    </tr>\n",
       "    <tr>\n",
       "      <th>1599824</th>\n",
       "      <td>14012431</td>\n",
       "      <td>61279</td>\n",
       "      <td>589022</td>\n",
       "      <td>589022</td>\n",
       "      <td>946067</td>\n",
       "      <td>2016-06-30 21:40:11</td>\n",
       "      <td>2013-06-15 16:41:06</td>\n",
       "      <td>Phisical book</td>\n",
       "      <td>Personal finance</td>\n",
       "      <td>-0.471786</td>\n",
       "      <td>0.0</td>\n",
       "      <td>Smart TV</td>\n",
       "      <td>Origin ef2b</td>\n",
       "      <td>0,0</td>\n",
       "      <td>1</td>\n",
       "    </tr>\n",
       "    <tr>\n",
       "      <th>1599825</th>\n",
       "      <td>14343996</td>\n",
       "      <td>215242</td>\n",
       "      <td>1186145</td>\n",
       "      <td>1186145</td>\n",
       "      <td>6473172</td>\n",
       "      <td>2016-05-13 16:45:42</td>\n",
       "      <td>2016-03-26 17:59:47</td>\n",
       "      <td>Phisical book</td>\n",
       "      <td>Negotiation</td>\n",
       "      <td>-0.359158</td>\n",
       "      <td>0.0</td>\n",
       "      <td>Smart TV</td>\n",
       "      <td>Origin ef2b</td>\n",
       "      <td>0,0</td>\n",
       "      <td>1</td>\n",
       "    </tr>\n",
       "    <tr>\n",
       "      <th>1599826</th>\n",
       "      <td>14344113</td>\n",
       "      <td>215242</td>\n",
       "      <td>1186145</td>\n",
       "      <td>1186145</td>\n",
       "      <td>6473172</td>\n",
       "      <td>2016-06-22 14:39:05</td>\n",
       "      <td>2016-03-26 17:59:47</td>\n",
       "      <td>Phisical book</td>\n",
       "      <td>Negotiation</td>\n",
       "      <td>-0.359158</td>\n",
       "      <td>0.0</td>\n",
       "      <td>Smart TV</td>\n",
       "      <td>Origin ef2b</td>\n",
       "      <td>0,0</td>\n",
       "      <td>1</td>\n",
       "    </tr>\n",
       "    <tr>\n",
       "      <th>1599827</th>\n",
       "      <td>14357203</td>\n",
       "      <td>215242</td>\n",
       "      <td>1186145</td>\n",
       "      <td>1186145</td>\n",
       "      <td>6473172</td>\n",
       "      <td>2016-04-11 19:37:25</td>\n",
       "      <td>2016-03-26 17:59:47</td>\n",
       "      <td>Phisical book</td>\n",
       "      <td>Negotiation</td>\n",
       "      <td>-0.359158</td>\n",
       "      <td>0.0</td>\n",
       "      <td>Tablet</td>\n",
       "      <td>Origin 3fcc</td>\n",
       "      <td>0,0</td>\n",
       "      <td>1</td>\n",
       "    </tr>\n",
       "  </tbody>\n",
       "</table>\n",
       "<p>1338727 rows × 15 columns</p>\n",
       "</div>"
      ],
      "text/plain": [
       "         purchase_id  product_id  affiliate_id  producer_id  buyer_id  \\\n",
       "199         10839481      118733        958412       958412   4984688   \n",
       "200         10839484      181119        213339       213339   5917688   \n",
       "201         10839485      155827       2035132      2035132    718553   \n",
       "202         10839488      168608       3630929      3630929   5917691   \n",
       "203         10839491      130465        275005       275005   5550404   \n",
       "...              ...         ...           ...          ...       ...   \n",
       "1599823     14011995      238362       7586641      7586641   5736172   \n",
       "1599824     14012431       61279        589022       589022    946067   \n",
       "1599825     14343996      215242       1186145      1186145   6473172   \n",
       "1599826     14344113      215242       1186145      1186145   6473172   \n",
       "1599827     14357203      215242       1186145      1186145   6473172   \n",
       "\n",
       "              purchase_date product_creation_date product_category  \\\n",
       "199     2016-01-01 00:04:44   2014-10-04 13:43:24    Phisical book   \n",
       "200     2016-01-01 00:05:27   2015-10-22 11:05:58    Phisical book   \n",
       "201     2016-01-01 00:05:29   2015-06-08 14:28:20          Podcast   \n",
       "202     2016-01-01 00:06:30   2015-08-18 14:41:40    Phisical book   \n",
       "203     2016-01-01 00:06:50   2014-12-30 17:41:32    Phisical book   \n",
       "...                     ...                   ...              ...   \n",
       "1599823 2016-06-30 23:59:57   2016-06-16 12:10:46    Phisical book   \n",
       "1599824 2016-06-30 21:40:11   2013-06-15 16:41:06    Phisical book   \n",
       "1599825 2016-05-13 16:45:42   2016-03-26 17:59:47    Phisical book   \n",
       "1599826 2016-06-22 14:39:05   2016-03-26 17:59:47    Phisical book   \n",
       "1599827 2016-04-11 19:37:25   2016-03-26 17:59:47    Phisical book   \n",
       "\n",
       "              product_niche  purchase_value  affiliate_commission_percentual  \\\n",
       "199            Organization       -0.428800                              0.0   \n",
       "200            Organization        0.204131                              0.0   \n",
       "201      Anxiety management       -0.377930                              0.0   \n",
       "202             Negotiation       -0.503885                              0.0   \n",
       "203          Media training       -0.415472                              0.0   \n",
       "...                     ...             ...                              ...   \n",
       "1599823    Personal finance       -0.345361                              0.0   \n",
       "1599824    Personal finance       -0.471786                              0.0   \n",
       "1599825         Negotiation       -0.359158                              0.0   \n",
       "1599826         Negotiation       -0.359158                              0.0   \n",
       "1599827         Negotiation       -0.359158                              0.0   \n",
       "\n",
       "        purchase_device purchase_origin is_origin_page_social_network  Venda  \n",
       "199            eReaders     Origin adf0                           0,0      1  \n",
       "200             Desktop     Origin 3c5a                           0,0      1  \n",
       "201            eReaders     Origin 14ad                           0,0      1  \n",
       "202            eReaders     Origin 55a8                           0,0      1  \n",
       "203             Desktop     Origin 659b                           0,0      1  \n",
       "...                 ...             ...                           ...    ...  \n",
       "1599823        eReaders     Origin 3022                           0,0      1  \n",
       "1599824        Smart TV     Origin ef2b                           0,0      1  \n",
       "1599825        Smart TV     Origin ef2b                           0,0      1  \n",
       "1599826        Smart TV     Origin ef2b                           0,0      1  \n",
       "1599827          Tablet     Origin 3fcc                           0,0      1  \n",
       "\n",
       "[1338727 rows x 15 columns]"
      ]
     },
     "execution_count": 17,
     "metadata": {},
     "output_type": "execute_result"
    }
   ],
   "source": [
    "ss\n",
    "df[df['product_id'aaAa]]axsaq"
   ]
  },
  {
   "cell_type": "code",
   "execution_count": 15,
   "id": "9d9c6718",
   "metadata": {
    "ExecuteTime": {
     "end_time": "2023-05-31T13:36:47.689759Z",
     "start_time": "2023-05-31T13:36:47.677570Z"
    }
   },
   "outputs": [
    {
     "data": {
      "text/plain": [
       "(1599828, 15)"
      ]
     },
     "execution_count": 15,
     "metadata": {},
     "output_type": "execute_result"
    }
   ],
   "source": [
    "df.shape"
   ]
  }
 ],
 "metadata": {
  "kernelspec": {
   "display_name": "hotmart",
   "language": "python",
   "name": "hotmart"
  },
  "language_info": {
   "codemirror_mode": {
    "name": "ipython",
    "version": 3
   },
   "file_extension": ".py",
   "mimetype": "text/x-python",
   "name": "python",
   "nbconvert_exporter": "python",
   "pygments_lexer": "ipython3",
   "version": "3.11.3"
  }
 },
 "nbformat": 4,
 "nbformat_minor": 5
}
