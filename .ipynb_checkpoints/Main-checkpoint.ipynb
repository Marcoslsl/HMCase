{
 "cells": [
  {
   "cell_type": "code",
   "execution_count": 72,
   "id": "3db2a978",
   "metadata": {
    "ExecuteTime": {
     "end_time": "2023-06-02T15:39:33.991335Z",
     "start_time": "2023-06-02T15:39:33.746133Z"
    }
   },
   "outputs": [
    {
     "name": "stderr",
     "output_type": "stream",
     "text": [
      "Intel(R) Extension for Scikit-learn* enabled (https://github.com/intel/scikit-learn-intelex)\n"
     ]
    }
   ],
   "source": [
    "import os\n",
    "import datetime\n",
    "import pandas as pd\n",
    "import numpy as np\n",
    "import matplotlib.pyplot as plt\n",
    "import seaborn as sns\n",
    "from dotenv import load_dotenv\n",
    "from src.infra import DBConnection\n",
    "from src.utils import numeric_statistics, prepare_data, RFMModel\n",
    "from sklearn.preprocessing import StandardScaler, LabelEncoder\n",
    "from sklearn.model_selection import RandomizedSearchCV\n",
    "from sklearn.ensemble import RandomForestRegressor\n",
    "from sklearn.compose import ColumnTransformer\n",
    "from sklearn.pipeline import Pipeline\n",
    "from sklearn.impute import SimpleImputer\n",
    "from src.utils import prepare_data_to_regression\n",
    "from category_encoders import CountEncoder\n",
    "from sklearnex import patch_sklearn\n",
    "\n",
    "\n",
    "%matplotlib inline\n",
    "plt.rcParams['figure.figsize'] = [10, 5]\n",
    "\n",
    "sns.set_style('darkgrid')\n",
    "sns.set_palette('deep')\n",
    "\n",
    "patch_sklearn()"
   ]
  },
  {
   "cell_type": "markdown",
   "id": "6df000bb",
   "metadata": {},
   "source": [
    "# 1.0 Get Data "
   ]
  },
  {
   "cell_type": "markdown",
   "id": "22ee378b",
   "metadata": {},
   "source": [
    "Carregamento das variáveis de ambiente para poder acessar o banco de dados. "
   ]
  },
  {
   "cell_type": "code",
   "execution_count": 3,
   "id": "bc6f00f4",
   "metadata": {
    "ExecuteTime": {
     "end_time": "2023-06-02T14:41:36.130718Z",
     "start_time": "2023-06-02T14:41:36.123869Z"
    }
   },
   "outputs": [],
   "source": [
    "load_dotenv()\n",
    "\n",
    "host = os.getenv(\"DB_HOST\")\n",
    "porta = os.getenv(\"PORT\") \n",
    "usuario = os.getenv(\"DB_USER\") \n",
    "senha = os.getenv(\"DB_PASSWORD\") \n",
    "schema = os.getenv(\"DB_SCHEMA\") \n",
    "tabela = os.getenv(\"DB_TABLE\")"
   ]
  },
  {
   "cell_type": "markdown",
   "id": "3d44d969",
   "metadata": {
    "ExecuteTime": {
     "end_time": "2023-05-31T16:10:08.782733Z",
     "start_time": "2023-05-31T16:10:08.764657Z"
    }
   },
   "source": [
    "Criei essa classe de acesso ao banco de dados para ficar menos verboso de código nesse notebook.\n",
    "\n",
    "Para utilizar a classe e pegar os dados podemos fazer o seguinte:\n",
    "\n",
    "```\n",
    "conn = DBConnection(user=usuario, password=senha, host=host, port=porta, schema=schema)\n",
    "df = conn.get_data()\n",
    "```"
   ]
  },
  {
   "cell_type": "code",
   "execution_count": 4,
   "id": "6470dc7a",
   "metadata": {
    "ExecuteTime": {
     "end_time": "2023-06-02T14:41:36.625899Z",
     "start_time": "2023-06-02T14:41:36.621315Z"
    }
   },
   "outputs": [],
   "source": [
    "# conn = DBConnection(user=usuario, password=senha, host=host, port=porta, schema=schema)\n",
    "# df = conn.get_data()"
   ]
  },
  {
   "cell_type": "markdown",
   "id": "8ce51c1c",
   "metadata": {},
   "source": [
    "\n",
    "# <font color=\"red\">OBS</font>\n",
    "\n",
    "Para não ficar fazendo consultas ao banco de dados todas as vezes que abrir esse notebook, decidi salvar\n",
    "esses dados como um arquivo .csv nesse path `src/data/data.csv`. Mas não subirei esse arquivo para o GitHub,\n",
    "pois não são dados públicos. Ou seja, só quem tem acesso é de fato quem tem acesso ao banco de dados."
   ]
  },
  {
   "cell_type": "code",
   "execution_count": 61,
   "id": "d63f8d18",
   "metadata": {
    "ExecuteTime": {
     "end_time": "2023-06-02T15:37:35.311970Z",
     "start_time": "2023-06-02T15:37:35.305138Z"
    }
   },
   "outputs": [],
   "source": [
    "path = \"src/data/data.csv\"\n",
    "# df.to_csv(path)"
   ]
  },
  {
   "cell_type": "code",
   "execution_count": 62,
   "id": "4c8119d1",
   "metadata": {
    "ExecuteTime": {
     "end_time": "2023-06-02T15:37:39.893151Z",
     "start_time": "2023-06-02T15:37:35.532470Z"
    }
   },
   "outputs": [],
   "source": [
    "df_raw = pd.read_csv(path, index_col=0)\n",
    "df = df_raw.copy()"
   ]
  },
  {
   "cell_type": "code",
   "execution_count": 63,
   "id": "d03c5728",
   "metadata": {
    "ExecuteTime": {
     "end_time": "2023-06-02T15:37:39.915975Z",
     "start_time": "2023-06-02T15:37:39.896306Z"
    }
   },
   "outputs": [
    {
     "data": {
      "text/html": [
       "<div>\n",
       "<style scoped>\n",
       "    .dataframe tbody tr th:only-of-type {\n",
       "        vertical-align: middle;\n",
       "    }\n",
       "\n",
       "    .dataframe tbody tr th {\n",
       "        vertical-align: top;\n",
       "    }\n",
       "\n",
       "    .dataframe thead th {\n",
       "        text-align: right;\n",
       "    }\n",
       "</style>\n",
       "<table border=\"1\" class=\"dataframe\">\n",
       "  <thead>\n",
       "    <tr style=\"text-align: right;\">\n",
       "      <th></th>\n",
       "      <th>purchase_id</th>\n",
       "      <th>product_id</th>\n",
       "      <th>affiliate_id</th>\n",
       "      <th>producer_id</th>\n",
       "      <th>buyer_id</th>\n",
       "      <th>purchase_date</th>\n",
       "      <th>product_creation_date</th>\n",
       "      <th>product_category</th>\n",
       "      <th>product_niche</th>\n",
       "      <th>purchase_value</th>\n",
       "      <th>affiliate_commission_percentual</th>\n",
       "      <th>purchase_device</th>\n",
       "      <th>purchase_origin</th>\n",
       "      <th>is_origin_page_social_network</th>\n",
       "      <th>Venda</th>\n",
       "    </tr>\n",
       "  </thead>\n",
       "  <tbody>\n",
       "    <tr>\n",
       "      <th>0</th>\n",
       "      <td>1663958</td>\n",
       "      <td>6640</td>\n",
       "      <td>209372</td>\n",
       "      <td>116238</td>\n",
       "      <td>1200397</td>\n",
       "      <td>2016-06-26 12:00:00</td>\n",
       "      <td>2011-03-19 15:47:36</td>\n",
       "      <td>Video</td>\n",
       "      <td>Presentation skills</td>\n",
       "      <td>-0.265302</td>\n",
       "      <td>NaN</td>\n",
       "      <td>Smart TV</td>\n",
       "      <td>Origin ef2b</td>\n",
       "      <td>0,0</td>\n",
       "      <td>1</td>\n",
       "    </tr>\n",
       "    <tr>\n",
       "      <th>1</th>\n",
       "      <td>1677087</td>\n",
       "      <td>2350</td>\n",
       "      <td>141418</td>\n",
       "      <td>2821</td>\n",
       "      <td>1083764</td>\n",
       "      <td>2016-06-26 12:00:00</td>\n",
       "      <td>2010-07-05 01:50:15</td>\n",
       "      <td>Podcast</td>\n",
       "      <td>Child psychology</td>\n",
       "      <td>-0.177077</td>\n",
       "      <td>NaN</td>\n",
       "      <td>Smart TV</td>\n",
       "      <td>Origin ef2b</td>\n",
       "      <td>0,0</td>\n",
       "      <td>1</td>\n",
       "    </tr>\n",
       "    <tr>\n",
       "      <th>2</th>\n",
       "      <td>2017360</td>\n",
       "      <td>35669</td>\n",
       "      <td>618642</td>\n",
       "      <td>618642</td>\n",
       "      <td>1436106</td>\n",
       "      <td>2016-06-26 12:00:00</td>\n",
       "      <td>2012-06-13 02:59:37</td>\n",
       "      <td>Podcast</td>\n",
       "      <td>Presentation skills</td>\n",
       "      <td>-0.468989</td>\n",
       "      <td>NaN</td>\n",
       "      <td>Smart TV</td>\n",
       "      <td>Origin ef2b</td>\n",
       "      <td>0,0</td>\n",
       "      <td>1</td>\n",
       "    </tr>\n",
       "    <tr>\n",
       "      <th>3</th>\n",
       "      <td>2017379</td>\n",
       "      <td>57998</td>\n",
       "      <td>1164511</td>\n",
       "      <td>70388</td>\n",
       "      <td>1436118</td>\n",
       "      <td>2016-06-26 12:00:00</td>\n",
       "      <td>2013-05-07 08:51:31</td>\n",
       "      <td>Podcast</td>\n",
       "      <td>Anxiety management</td>\n",
       "      <td>-0.401168</td>\n",
       "      <td>NaN</td>\n",
       "      <td>Smart TV</td>\n",
       "      <td>Origin ef2b</td>\n",
       "      <td>0,0</td>\n",
       "      <td>1</td>\n",
       "    </tr>\n",
       "    <tr>\n",
       "      <th>4</th>\n",
       "      <td>2017382</td>\n",
       "      <td>58329</td>\n",
       "      <td>1261488</td>\n",
       "      <td>221253</td>\n",
       "      <td>1386357</td>\n",
       "      <td>2016-06-26 12:00:00</td>\n",
       "      <td>2013-05-12 08:12:06</td>\n",
       "      <td>Podcast</td>\n",
       "      <td>Teaching English</td>\n",
       "      <td>-0.452489</td>\n",
       "      <td>NaN</td>\n",
       "      <td>Smart TV</td>\n",
       "      <td>Origin ef2b</td>\n",
       "      <td>0,0</td>\n",
       "      <td>1</td>\n",
       "    </tr>\n",
       "  </tbody>\n",
       "</table>\n",
       "</div>"
      ],
      "text/plain": [
       "   purchase_id  product_id  affiliate_id  producer_id  buyer_id  \\\n",
       "0      1663958        6640        209372       116238   1200397   \n",
       "1      1677087        2350        141418         2821   1083764   \n",
       "2      2017360       35669        618642       618642   1436106   \n",
       "3      2017379       57998       1164511        70388   1436118   \n",
       "4      2017382       58329       1261488       221253   1386357   \n",
       "\n",
       "         purchase_date product_creation_date product_category  \\\n",
       "0  2016-06-26 12:00:00   2011-03-19 15:47:36            Video   \n",
       "1  2016-06-26 12:00:00   2010-07-05 01:50:15          Podcast   \n",
       "2  2016-06-26 12:00:00   2012-06-13 02:59:37          Podcast   \n",
       "3  2016-06-26 12:00:00   2013-05-07 08:51:31          Podcast   \n",
       "4  2016-06-26 12:00:00   2013-05-12 08:12:06          Podcast   \n",
       "\n",
       "         product_niche  purchase_value  affiliate_commission_percentual  \\\n",
       "0  Presentation skills       -0.265302                              NaN   \n",
       "1     Child psychology       -0.177077                              NaN   \n",
       "2  Presentation skills       -0.468989                              NaN   \n",
       "3   Anxiety management       -0.401168                              NaN   \n",
       "4     Teaching English       -0.452489                              NaN   \n",
       "\n",
       "  purchase_device purchase_origin is_origin_page_social_network  Venda  \n",
       "0        Smart TV     Origin ef2b                           0,0      1  \n",
       "1        Smart TV     Origin ef2b                           0,0      1  \n",
       "2        Smart TV     Origin ef2b                           0,0      1  \n",
       "3        Smart TV     Origin ef2b                           0,0      1  \n",
       "4        Smart TV     Origin ef2b                           0,0      1  "
      ]
     },
     "execution_count": 63,
     "metadata": {},
     "output_type": "execute_result"
    }
   ],
   "source": [
    "df.head()"
   ]
  },
  {
   "cell_type": "markdown",
   "id": "af381ee9",
   "metadata": {},
   "source": [
    "# 2.0 Observações iniciais "
   ]
  },
  {
   "cell_type": "markdown",
   "id": "a5b1eb1c",
   "metadata": {},
   "source": [
    "- purchase_id: Identificação da compra na Hotmart;\n",
    "- product_id: Identificação do produto na Hotmart;\n",
    "- affiliate_id: Identificação do afiliado na Hotmart;\n",
    "- producer_id: Identificação do produtor na Hotmart;\n",
    "- buyer_id: Identificação do comprador na Hotmart;\n",
    "- purchase_date: Data e hora em que a compra foi realizada;\n",
    "- product_creation_date: Data e hora em que o produto foi criado na Hotmart;\n",
    "- product_category: categoria do produto na Hotmart. Exemplo: e-book,\n",
    "software, curso online, e-tickets, etc.;\n",
    "- product_niche: nicho de mercado que o produto faz parte. Exemplo:\n",
    "educação, saúde e bem-estar, sexualidade, etc.;\n",
    "- purchase_value: valor da compra. Esse dado, assim como nicho e categoria foi\n",
    "codificado para manter a confidencialidade. O valor apresentado no dataset é\n",
    "o z-score do valor real;\n",
    "- affiliate_commission_percentual: percentual de comissão que o afiliado\n",
    "receberá da compra;\n",
    "- purchase_device: tipo de dispositivo utilizado no momento da compra, como:\n",
    "Desktop, Mobile, Tablet, ou Outros;\n",
    "- purchase_origin: endereço do site do qual a pessoa veio antes da compra. Por\n",
    "exemplo, se uma pessoa veio do Facebook, Youtube, ou até mesmo de outra\n",
    "página no site oficial do produto;\n",
    "- is_origin_page_social_network: informa se essa compra veio de uma URL do\n",
    "Facebook, Youtube, Instagram, Pinterest, ou Twitter.\n",
    "\n",
    "## Algumas regras de negócio\n",
    "- Quando a compra for feita diretamente pelo produtor, ou seja, quando não\n",
    "houver afiliado intermediando a compra, o campo\n",
    "affiliate_commission_percentual terá valor 0, e o campo affiliate_id será\n",
    "igual ao producer_id;\n",
    "- No campo purchase_origin nós apenas consideramos o host do site. Isso quer\n",
    "dizer que, se uma pessoa veio do site www.meuproduto.com/promocoes,\n",
    "esse campo só irá retornar o valor www.meuproduto.com;"
   ]
  },
  {
   "cell_type": "markdown",
   "id": "44331c44",
   "metadata": {},
   "source": [
    "Validação da primeira regra de negócio. Nesse caso não temos **nenhum** registro onde a compra foi feita\n",
    "diretamente pelo produtor."
   ]
  },
  {
   "cell_type": "code",
   "execution_count": 7,
   "id": "f323af96",
   "metadata": {
    "ExecuteTime": {
     "end_time": "2023-06-02T12:37:30.138652Z",
     "start_time": "2023-06-02T12:37:30.045091Z"
    }
   },
   "outputs": [
    {
     "data": {
      "text/html": [
       "<div>\n",
       "<style scoped>\n",
       "    .dataframe tbody tr th:only-of-type {\n",
       "        vertical-align: middle;\n",
       "    }\n",
       "\n",
       "    .dataframe tbody tr th {\n",
       "        vertical-align: top;\n",
       "    }\n",
       "\n",
       "    .dataframe thead th {\n",
       "        text-align: right;\n",
       "    }\n",
       "</style>\n",
       "<table border=\"1\" class=\"dataframe\">\n",
       "  <thead>\n",
       "    <tr style=\"text-align: right;\">\n",
       "      <th></th>\n",
       "      <th>purchase_id</th>\n",
       "      <th>product_id</th>\n",
       "      <th>affiliate_id</th>\n",
       "      <th>producer_id</th>\n",
       "      <th>buyer_id</th>\n",
       "      <th>purchase_date</th>\n",
       "      <th>product_creation_date</th>\n",
       "      <th>product_category</th>\n",
       "      <th>product_niche</th>\n",
       "      <th>purchase_value</th>\n",
       "      <th>affiliate_commission_percentual</th>\n",
       "      <th>purchase_device</th>\n",
       "      <th>purchase_origin</th>\n",
       "      <th>is_origin_page_social_network</th>\n",
       "      <th>Venda</th>\n",
       "    </tr>\n",
       "  </thead>\n",
       "  <tbody>\n",
       "  </tbody>\n",
       "</table>\n",
       "</div>"
      ],
      "text/plain": [
       "Empty DataFrame\n",
       "Columns: [purchase_id, product_id, affiliate_id, producer_id, buyer_id, purchase_date, product_creation_date, product_category, product_niche, purchase_value, affiliate_commission_percentual, purchase_device, purchase_origin, is_origin_page_social_network, Venda]\n",
       "Index: []"
      ]
     },
     "execution_count": 7,
     "metadata": {},
     "output_type": "execute_result"
    }
   ],
   "source": [
    "df[df['product_id'] == df['affiliate_id']]"
   ]
  },
  {
   "cell_type": "markdown",
   "id": "e8d01b78",
   "metadata": {},
   "source": [
    "A coluna **purchase_origin** não possui um comportamento de host como **www.meuproduto.com**, mas irei considerar que a informação é essa mesmo. "
   ]
  },
  {
   "cell_type": "code",
   "execution_count": 8,
   "id": "aa4614a5",
   "metadata": {
    "ExecuteTime": {
     "end_time": "2023-06-02T12:37:30.433071Z",
     "start_time": "2023-06-02T12:37:30.142496Z"
    }
   },
   "outputs": [
    {
     "data": {
      "text/plain": [
       "purchase_origin\n",
       "Origin ef2b    330077\n",
       "Origin 5187    167028\n",
       "Origin adf0     77857\n",
       "Origin 18eb     28693\n",
       "Origin 3ade     13069\n",
       "                ...  \n",
       "Origin e51d         1\n",
       "Origin d5eb         1\n",
       "Origin 00ca         1\n",
       "Origin 7475         1\n",
       "Origin 290d         1\n",
       "Name: count, Length: 9603, dtype: int64"
      ]
     },
     "execution_count": 8,
     "metadata": {},
     "output_type": "execute_result"
    }
   ],
   "source": [
    "df['purchase_origin'].value_counts()"
   ]
  },
  {
   "cell_type": "markdown",
   "id": "5d98339c",
   "metadata": {},
   "source": [
    "## 2.2 SHAPE "
   ]
  },
  {
   "cell_type": "code",
   "execution_count": 9,
   "id": "86872584",
   "metadata": {
    "ExecuteTime": {
     "end_time": "2023-06-02T12:37:30.459765Z",
     "start_time": "2023-06-02T12:37:30.437873Z"
    }
   },
   "outputs": [
    {
     "data": {
      "text/plain": [
       "(1599828, 15)"
      ]
     },
     "execution_count": 9,
     "metadata": {},
     "output_type": "execute_result"
    }
   ],
   "source": [
    "df.shape"
   ]
  },
  {
   "cell_type": "markdown",
   "id": "5c7df5dc",
   "metadata": {},
   "source": [
    "# 2.3 Data Types "
   ]
  },
  {
   "cell_type": "markdown",
   "id": "51fadd63",
   "metadata": {},
   "source": [
    "Interessante mudar os tipos das colunas de id, pois apesar de serem numéricas trazem uma informação categórica.\n",
    "\n",
    "- Não faz sentido por exemplo realizar operações com o **product_id** por exemplo.\n",
    "- Variável **Venda** possui valor numérico mas trás uma informação categorica (Acredito que seja de venda caso 1 ou não caso 0) Mas nesse dataset todos os registros possuem venda como 1. Ou seja, podemos fazer um drop dela posteriormente na criação do modelo de machine learning pois ela não traz nenhuma informação para o possível modelo, já que tem valores iguais para todos os registros."
   ]
  },
  {
   "cell_type": "code",
   "execution_count": 10,
   "id": "1f96a194",
   "metadata": {
    "ExecuteTime": {
     "end_time": "2023-06-02T12:37:30.760645Z",
     "start_time": "2023-06-02T12:37:30.463103Z"
    }
   },
   "outputs": [
    {
     "data": {
      "text/plain": [
       "purchase_id                          int64\n",
       "product_id                           int64\n",
       "affiliate_id                         int64\n",
       "producer_id                          int64\n",
       "buyer_id                             int64\n",
       "purchase_date                       object\n",
       "product_creation_date               object\n",
       "product_category                    object\n",
       "product_niche                       object\n",
       "purchase_value                     float64\n",
       "affiliate_commission_percentual    float64\n",
       "purchase_device                     object\n",
       "purchase_origin                     object\n",
       "is_origin_page_social_network       object\n",
       "Venda                                int64\n",
       "dtype: object"
      ]
     },
     "execution_count": 10,
     "metadata": {},
     "output_type": "execute_result"
    }
   ],
   "source": [
    "df.dtypes"
   ]
  },
  {
   "cell_type": "code",
   "execution_count": 11,
   "id": "83953752",
   "metadata": {
    "ExecuteTime": {
     "end_time": "2023-06-02T12:37:31.053404Z",
     "start_time": "2023-06-02T12:37:30.763225Z"
    }
   },
   "outputs": [
    {
     "data": {
      "text/html": [
       "<div>\n",
       "<style scoped>\n",
       "    .dataframe tbody tr th:only-of-type {\n",
       "        vertical-align: middle;\n",
       "    }\n",
       "\n",
       "    .dataframe tbody tr th {\n",
       "        vertical-align: top;\n",
       "    }\n",
       "\n",
       "    .dataframe thead th {\n",
       "        text-align: right;\n",
       "    }\n",
       "</style>\n",
       "<table border=\"1\" class=\"dataframe\">\n",
       "  <thead>\n",
       "    <tr style=\"text-align: right;\">\n",
       "      <th></th>\n",
       "      <th>purchase_id</th>\n",
       "      <th>product_id</th>\n",
       "      <th>affiliate_id</th>\n",
       "      <th>producer_id</th>\n",
       "      <th>buyer_id</th>\n",
       "      <th>purchase_date</th>\n",
       "      <th>product_creation_date</th>\n",
       "      <th>product_category</th>\n",
       "      <th>product_niche</th>\n",
       "      <th>purchase_value</th>\n",
       "      <th>affiliate_commission_percentual</th>\n",
       "      <th>purchase_device</th>\n",
       "      <th>purchase_origin</th>\n",
       "      <th>is_origin_page_social_network</th>\n",
       "      <th>Venda</th>\n",
       "    </tr>\n",
       "  </thead>\n",
       "  <tbody>\n",
       "    <tr>\n",
       "      <th>0</th>\n",
       "      <td>1663958</td>\n",
       "      <td>6640</td>\n",
       "      <td>209372</td>\n",
       "      <td>116238</td>\n",
       "      <td>1200397</td>\n",
       "      <td>2016-06-26 12:00:00</td>\n",
       "      <td>2011-03-19 15:47:36</td>\n",
       "      <td>Video</td>\n",
       "      <td>Presentation skills</td>\n",
       "      <td>-0.265302</td>\n",
       "      <td>NaN</td>\n",
       "      <td>Smart TV</td>\n",
       "      <td>Origin ef2b</td>\n",
       "      <td>0,0</td>\n",
       "      <td>1</td>\n",
       "    </tr>\n",
       "    <tr>\n",
       "      <th>1</th>\n",
       "      <td>1677087</td>\n",
       "      <td>2350</td>\n",
       "      <td>141418</td>\n",
       "      <td>2821</td>\n",
       "      <td>1083764</td>\n",
       "      <td>2016-06-26 12:00:00</td>\n",
       "      <td>2010-07-05 01:50:15</td>\n",
       "      <td>Podcast</td>\n",
       "      <td>Child psychology</td>\n",
       "      <td>-0.177077</td>\n",
       "      <td>NaN</td>\n",
       "      <td>Smart TV</td>\n",
       "      <td>Origin ef2b</td>\n",
       "      <td>0,0</td>\n",
       "      <td>1</td>\n",
       "    </tr>\n",
       "    <tr>\n",
       "      <th>2</th>\n",
       "      <td>2017360</td>\n",
       "      <td>35669</td>\n",
       "      <td>618642</td>\n",
       "      <td>618642</td>\n",
       "      <td>1436106</td>\n",
       "      <td>2016-06-26 12:00:00</td>\n",
       "      <td>2012-06-13 02:59:37</td>\n",
       "      <td>Podcast</td>\n",
       "      <td>Presentation skills</td>\n",
       "      <td>-0.468989</td>\n",
       "      <td>NaN</td>\n",
       "      <td>Smart TV</td>\n",
       "      <td>Origin ef2b</td>\n",
       "      <td>0,0</td>\n",
       "      <td>1</td>\n",
       "    </tr>\n",
       "    <tr>\n",
       "      <th>3</th>\n",
       "      <td>2017379</td>\n",
       "      <td>57998</td>\n",
       "      <td>1164511</td>\n",
       "      <td>70388</td>\n",
       "      <td>1436118</td>\n",
       "      <td>2016-06-26 12:00:00</td>\n",
       "      <td>2013-05-07 08:51:31</td>\n",
       "      <td>Podcast</td>\n",
       "      <td>Anxiety management</td>\n",
       "      <td>-0.401168</td>\n",
       "      <td>NaN</td>\n",
       "      <td>Smart TV</td>\n",
       "      <td>Origin ef2b</td>\n",
       "      <td>0,0</td>\n",
       "      <td>1</td>\n",
       "    </tr>\n",
       "    <tr>\n",
       "      <th>4</th>\n",
       "      <td>2017382</td>\n",
       "      <td>58329</td>\n",
       "      <td>1261488</td>\n",
       "      <td>221253</td>\n",
       "      <td>1386357</td>\n",
       "      <td>2016-06-26 12:00:00</td>\n",
       "      <td>2013-05-12 08:12:06</td>\n",
       "      <td>Podcast</td>\n",
       "      <td>Teaching English</td>\n",
       "      <td>-0.452489</td>\n",
       "      <td>NaN</td>\n",
       "      <td>Smart TV</td>\n",
       "      <td>Origin ef2b</td>\n",
       "      <td>0,0</td>\n",
       "      <td>1</td>\n",
       "    </tr>\n",
       "  </tbody>\n",
       "</table>\n",
       "</div>"
      ],
      "text/plain": [
       "   purchase_id  product_id  affiliate_id  producer_id  buyer_id  \\\n",
       "0      1663958        6640        209372       116238   1200397   \n",
       "1      1677087        2350        141418         2821   1083764   \n",
       "2      2017360       35669        618642       618642   1436106   \n",
       "3      2017379       57998       1164511        70388   1436118   \n",
       "4      2017382       58329       1261488       221253   1386357   \n",
       "\n",
       "         purchase_date product_creation_date product_category  \\\n",
       "0  2016-06-26 12:00:00   2011-03-19 15:47:36            Video   \n",
       "1  2016-06-26 12:00:00   2010-07-05 01:50:15          Podcast   \n",
       "2  2016-06-26 12:00:00   2012-06-13 02:59:37          Podcast   \n",
       "3  2016-06-26 12:00:00   2013-05-07 08:51:31          Podcast   \n",
       "4  2016-06-26 12:00:00   2013-05-12 08:12:06          Podcast   \n",
       "\n",
       "         product_niche  purchase_value  affiliate_commission_percentual  \\\n",
       "0  Presentation skills       -0.265302                              NaN   \n",
       "1     Child psychology       -0.177077                              NaN   \n",
       "2  Presentation skills       -0.468989                              NaN   \n",
       "3   Anxiety management       -0.401168                              NaN   \n",
       "4     Teaching English       -0.452489                              NaN   \n",
       "\n",
       "  purchase_device purchase_origin is_origin_page_social_network  Venda  \n",
       "0        Smart TV     Origin ef2b                           0,0      1  \n",
       "1        Smart TV     Origin ef2b                           0,0      1  \n",
       "2        Smart TV     Origin ef2b                           0,0      1  \n",
       "3        Smart TV     Origin ef2b                           0,0      1  \n",
       "4        Smart TV     Origin ef2b                           0,0      1  "
      ]
     },
     "execution_count": 11,
     "metadata": {},
     "output_type": "execute_result"
    }
   ],
   "source": [
    "df.head()"
   ]
  },
  {
   "cell_type": "markdown",
   "id": "840a16dc",
   "metadata": {},
   "source": [
    "# 2.4 Nenhum registro duplicado"
   ]
  },
  {
   "cell_type": "code",
   "execution_count": 12,
   "id": "414dcfc6",
   "metadata": {
    "ExecuteTime": {
     "end_time": "2023-06-02T12:37:31.233217Z",
     "start_time": "2023-06-02T12:37:31.056353Z"
    }
   },
   "outputs": [
    {
     "data": {
      "text/plain": [
       "False"
      ]
     },
     "execution_count": 12,
     "metadata": {},
     "output_type": "execute_result"
    }
   ],
   "source": [
    "df.columns.duplicated().any()"
   ]
  },
  {
   "cell_type": "markdown",
   "id": "0af17cbc",
   "metadata": {},
   "source": [
    "# 2.5 VARIÁVEIS NUMÉRICAS "
   ]
  },
  {
   "cell_type": "markdown",
   "id": "0a4a240f",
   "metadata": {},
   "source": [
    "Essa análise estatística gosto de utilizar para poder identificar possíveis erros mias aparentes e para ter\n",
    "uma ideia de como está a distribuição dos dados.\n",
    "\n",
    "EXEMPLOS\n",
    "\n",
    "- Podemos ver que o **purchase_value** tem uma alta skew e uma certa difernça entre a média e mediana. Sugerindo uma distribuição assimétrica à direita. Ou seja sugere que tem mais compras com preços menores (relativos à essa base)"
   ]
  },
  {
   "cell_type": "code",
   "execution_count": 13,
   "id": "24b0a36a",
   "metadata": {
    "ExecuteTime": {
     "end_time": "2023-06-02T12:37:31.697914Z",
     "start_time": "2023-06-02T12:37:31.237049Z"
    }
   },
   "outputs": [
    {
     "data": {
      "text/html": [
       "<div>\n",
       "<style scoped>\n",
       "    .dataframe tbody tr th:only-of-type {\n",
       "        vertical-align: middle;\n",
       "    }\n",
       "\n",
       "    .dataframe tbody tr th {\n",
       "        vertical-align: top;\n",
       "    }\n",
       "\n",
       "    .dataframe thead th {\n",
       "        text-align: right;\n",
       "    }\n",
       "</style>\n",
       "<table border=\"1\" class=\"dataframe\">\n",
       "  <thead>\n",
       "    <tr style=\"text-align: right;\">\n",
       "      <th></th>\n",
       "      <th>type</th>\n",
       "      <th>Unique_Values</th>\n",
       "      <th>Mean</th>\n",
       "      <th>Median</th>\n",
       "      <th>Std</th>\n",
       "      <th>Min</th>\n",
       "      <th>Max</th>\n",
       "      <th>Range</th>\n",
       "      <th>Skew</th>\n",
       "      <th>Kurtosis</th>\n",
       "    </tr>\n",
       "  </thead>\n",
       "  <tbody>\n",
       "    <tr>\n",
       "      <th>purchase_value</th>\n",
       "      <td>float64</td>\n",
       "      <td>32617</td>\n",
       "      <td>1.248490e-08</td>\n",
       "      <td>-0.349998</td>\n",
       "      <td>1.000000</td>\n",
       "      <td>-0.54124</td>\n",
       "      <td>124.561</td>\n",
       "      <td>125.10224</td>\n",
       "      <td>10.816902</td>\n",
       "      <td>629.205931</td>\n",
       "    </tr>\n",
       "    <tr>\n",
       "      <th>affiliate_commission_percentual</th>\n",
       "      <td>float64</td>\n",
       "      <td>279</td>\n",
       "      <td>7.596246e+00</td>\n",
       "      <td>0.000000</td>\n",
       "      <td>18.476731</td>\n",
       "      <td>0.00000</td>\n",
       "      <td>100.000</td>\n",
       "      <td>100.00000</td>\n",
       "      <td>2.259090</td>\n",
       "      <td>3.752811</td>\n",
       "    </tr>\n",
       "  </tbody>\n",
       "</table>\n",
       "</div>"
      ],
      "text/plain": [
       "                                    type  Unique_Values          Mean  \\\n",
       "purchase_value                   float64          32617  1.248490e-08   \n",
       "affiliate_commission_percentual  float64            279  7.596246e+00   \n",
       "\n",
       "                                   Median        Std      Min      Max  \\\n",
       "purchase_value                  -0.349998   1.000000 -0.54124  124.561   \n",
       "affiliate_commission_percentual  0.000000  18.476731  0.00000  100.000   \n",
       "\n",
       "                                     Range       Skew    Kurtosis  \n",
       "purchase_value                   125.10224  10.816902  629.205931  \n",
       "affiliate_commission_percentual  100.00000   2.259090    3.752811  "
      ]
     },
     "execution_count": 13,
     "metadata": {},
     "output_type": "execute_result"
    }
   ],
   "source": [
    "df_numerics = df.select_dtypes(include=[int, float])\n",
    "df_numerics = df_numerics[['purchase_value', 'affiliate_commission_percentual']]\n",
    "numeric_statistics(df_numerics)"
   ]
  },
  {
   "cell_type": "markdown",
   "id": "84936965",
   "metadata": {},
   "source": [
    "# 2.4 VARIÁVEIS CATEGÓRICAS"
   ]
  },
  {
   "cell_type": "code",
   "execution_count": 14,
   "id": "08cedaba",
   "metadata": {
    "ExecuteTime": {
     "end_time": "2023-06-02T12:37:31.713100Z",
     "start_time": "2023-06-02T12:37:31.700331Z"
    }
   },
   "outputs": [
    {
     "data": {
      "text/html": [
       "<div>\n",
       "<style scoped>\n",
       "    .dataframe tbody tr th:only-of-type {\n",
       "        vertical-align: middle;\n",
       "    }\n",
       "\n",
       "    .dataframe tbody tr th {\n",
       "        vertical-align: top;\n",
       "    }\n",
       "\n",
       "    .dataframe thead th {\n",
       "        text-align: right;\n",
       "    }\n",
       "</style>\n",
       "<table border=\"1\" class=\"dataframe\">\n",
       "  <thead>\n",
       "    <tr style=\"text-align: right;\">\n",
       "      <th></th>\n",
       "      <th>purchase_id</th>\n",
       "      <th>product_id</th>\n",
       "      <th>affiliate_id</th>\n",
       "      <th>producer_id</th>\n",
       "      <th>buyer_id</th>\n",
       "      <th>purchase_date</th>\n",
       "      <th>product_creation_date</th>\n",
       "      <th>product_category</th>\n",
       "      <th>product_niche</th>\n",
       "      <th>purchase_value</th>\n",
       "      <th>affiliate_commission_percentual</th>\n",
       "      <th>purchase_device</th>\n",
       "      <th>purchase_origin</th>\n",
       "      <th>is_origin_page_social_network</th>\n",
       "      <th>Venda</th>\n",
       "    </tr>\n",
       "  </thead>\n",
       "  <tbody>\n",
       "    <tr>\n",
       "      <th>0</th>\n",
       "      <td>1663958</td>\n",
       "      <td>6640</td>\n",
       "      <td>209372</td>\n",
       "      <td>116238</td>\n",
       "      <td>1200397</td>\n",
       "      <td>2016-06-26 12:00:00</td>\n",
       "      <td>2011-03-19 15:47:36</td>\n",
       "      <td>Video</td>\n",
       "      <td>Presentation skills</td>\n",
       "      <td>-0.265302</td>\n",
       "      <td>NaN</td>\n",
       "      <td>Smart TV</td>\n",
       "      <td>Origin ef2b</td>\n",
       "      <td>0,0</td>\n",
       "      <td>1</td>\n",
       "    </tr>\n",
       "    <tr>\n",
       "      <th>1</th>\n",
       "      <td>1677087</td>\n",
       "      <td>2350</td>\n",
       "      <td>141418</td>\n",
       "      <td>2821</td>\n",
       "      <td>1083764</td>\n",
       "      <td>2016-06-26 12:00:00</td>\n",
       "      <td>2010-07-05 01:50:15</td>\n",
       "      <td>Podcast</td>\n",
       "      <td>Child psychology</td>\n",
       "      <td>-0.177077</td>\n",
       "      <td>NaN</td>\n",
       "      <td>Smart TV</td>\n",
       "      <td>Origin ef2b</td>\n",
       "      <td>0,0</td>\n",
       "      <td>1</td>\n",
       "    </tr>\n",
       "    <tr>\n",
       "      <th>2</th>\n",
       "      <td>2017360</td>\n",
       "      <td>35669</td>\n",
       "      <td>618642</td>\n",
       "      <td>618642</td>\n",
       "      <td>1436106</td>\n",
       "      <td>2016-06-26 12:00:00</td>\n",
       "      <td>2012-06-13 02:59:37</td>\n",
       "      <td>Podcast</td>\n",
       "      <td>Presentation skills</td>\n",
       "      <td>-0.468989</td>\n",
       "      <td>NaN</td>\n",
       "      <td>Smart TV</td>\n",
       "      <td>Origin ef2b</td>\n",
       "      <td>0,0</td>\n",
       "      <td>1</td>\n",
       "    </tr>\n",
       "    <tr>\n",
       "      <th>3</th>\n",
       "      <td>2017379</td>\n",
       "      <td>57998</td>\n",
       "      <td>1164511</td>\n",
       "      <td>70388</td>\n",
       "      <td>1436118</td>\n",
       "      <td>2016-06-26 12:00:00</td>\n",
       "      <td>2013-05-07 08:51:31</td>\n",
       "      <td>Podcast</td>\n",
       "      <td>Anxiety management</td>\n",
       "      <td>-0.401168</td>\n",
       "      <td>NaN</td>\n",
       "      <td>Smart TV</td>\n",
       "      <td>Origin ef2b</td>\n",
       "      <td>0,0</td>\n",
       "      <td>1</td>\n",
       "    </tr>\n",
       "    <tr>\n",
       "      <th>4</th>\n",
       "      <td>2017382</td>\n",
       "      <td>58329</td>\n",
       "      <td>1261488</td>\n",
       "      <td>221253</td>\n",
       "      <td>1386357</td>\n",
       "      <td>2016-06-26 12:00:00</td>\n",
       "      <td>2013-05-12 08:12:06</td>\n",
       "      <td>Podcast</td>\n",
       "      <td>Teaching English</td>\n",
       "      <td>-0.452489</td>\n",
       "      <td>NaN</td>\n",
       "      <td>Smart TV</td>\n",
       "      <td>Origin ef2b</td>\n",
       "      <td>0,0</td>\n",
       "      <td>1</td>\n",
       "    </tr>\n",
       "  </tbody>\n",
       "</table>\n",
       "</div>"
      ],
      "text/plain": [
       "   purchase_id  product_id  affiliate_id  producer_id  buyer_id  \\\n",
       "0      1663958        6640        209372       116238   1200397   \n",
       "1      1677087        2350        141418         2821   1083764   \n",
       "2      2017360       35669        618642       618642   1436106   \n",
       "3      2017379       57998       1164511        70388   1436118   \n",
       "4      2017382       58329       1261488       221253   1386357   \n",
       "\n",
       "         purchase_date product_creation_date product_category  \\\n",
       "0  2016-06-26 12:00:00   2011-03-19 15:47:36            Video   \n",
       "1  2016-06-26 12:00:00   2010-07-05 01:50:15          Podcast   \n",
       "2  2016-06-26 12:00:00   2012-06-13 02:59:37          Podcast   \n",
       "3  2016-06-26 12:00:00   2013-05-07 08:51:31          Podcast   \n",
       "4  2016-06-26 12:00:00   2013-05-12 08:12:06          Podcast   \n",
       "\n",
       "         product_niche  purchase_value  affiliate_commission_percentual  \\\n",
       "0  Presentation skills       -0.265302                              NaN   \n",
       "1     Child psychology       -0.177077                              NaN   \n",
       "2  Presentation skills       -0.468989                              NaN   \n",
       "3   Anxiety management       -0.401168                              NaN   \n",
       "4     Teaching English       -0.452489                              NaN   \n",
       "\n",
       "  purchase_device purchase_origin is_origin_page_social_network  Venda  \n",
       "0        Smart TV     Origin ef2b                           0,0      1  \n",
       "1        Smart TV     Origin ef2b                           0,0      1  \n",
       "2        Smart TV     Origin ef2b                           0,0      1  \n",
       "3        Smart TV     Origin ef2b                           0,0      1  \n",
       "4        Smart TV     Origin ef2b                           0,0      1  "
      ]
     },
     "execution_count": 14,
     "metadata": {},
     "output_type": "execute_result"
    }
   ],
   "source": [
    "df.head()"
   ]
  },
  {
   "cell_type": "markdown",
   "id": "617a422f",
   "metadata": {
    "ExecuteTime": {
     "end_time": "2023-05-31T18:00:08.743131Z",
     "start_time": "2023-05-31T18:00:08.708103Z"
    }
   },
   "source": [
    "Aqui vamos dar uma olhada mais específica em 2 variáveis categóricas.\n",
    "\n",
    "- **product_category**\n",
    "\n",
    "Vemos aqui que a categoria **Phisical book** carrega mais de 80% das vendas dessa base de dados. Um valor bem grande.\n",
    "\n",
    "- **product_niche**\n",
    "\n",
    "Vemos que aqui que a distribuição é mais igualitária entre os nichos de conteúdos consumidos. Mas podemos ver que os 3 primeiros tem relação com determinado tipo desenvolvimento pessoal. No caso, negócios, melhoria da ansiedade e finanças. "
   ]
  },
  {
   "cell_type": "code",
   "execution_count": 15,
   "id": "54bc9921",
   "metadata": {
    "ExecuteTime": {
     "end_time": "2023-06-02T12:37:31.856908Z",
     "start_time": "2023-06-02T12:37:31.717914Z"
    }
   },
   "outputs": [
    {
     "data": {
      "text/plain": [
       "product_category\n",
       "Phisical book      0.834221\n",
       "Podcast            0.135465\n",
       "Workshop           0.023906\n",
       "eBook              0.002478\n",
       "Subscription       0.001231\n",
       "In-class course    0.000976\n",
       "App                0.000973\n",
       "eTicket            0.000529\n",
       "Webinar            0.000184\n",
       "Video              0.000036\n",
       "Name: proportion, dtype: float64"
      ]
     },
     "execution_count": 15,
     "metadata": {},
     "output_type": "execute_result"
    }
   ],
   "source": [
    "# product_category\n",
    "df['product_category'].value_counts(normalize=True)"
   ]
  },
  {
   "cell_type": "code",
   "execution_count": 16,
   "id": "81696722",
   "metadata": {
    "ExecuteTime": {
     "end_time": "2023-06-02T12:37:31.993707Z",
     "start_time": "2023-06-02T12:37:31.859652Z"
    }
   },
   "outputs": [
    {
     "data": {
      "text/plain": [
       "product_niche\n",
       "Negotiation               0.174969\n",
       "Anxiety management        0.157314\n",
       "Personal finance          0.116793\n",
       "Presentation skills       0.087797\n",
       "Immigration               0.059794\n",
       "Government                0.058359\n",
       "YouTube video creation    0.050134\n",
       "Online course creation    0.037773\n",
       "Careers                   0.033084\n",
       "Organization              0.030398\n",
       "Accounting                0.028566\n",
       "Procrastination           0.025390\n",
       "Economics                 0.025235\n",
       "Biology                   0.020786\n",
       "Media training            0.020437\n",
       "Teaching English          0.016256\n",
       "Filmmaking                0.013314\n",
       "Child psychology          0.011826\n",
       "Physics                   0.009192\n",
       "Global diplomacy          0.008677\n",
       "Genetics                  0.006347\n",
       "Storytelling              0.004604\n",
       "Disease                   0.002609\n",
       "Thermodynamics            0.000343\n",
       "Travel hacking            0.000003\n",
       "Name: proportion, dtype: float64"
      ]
     },
     "execution_count": 16,
     "metadata": {},
     "output_type": "execute_result"
    }
   ],
   "source": [
    "# product_niche\n",
    "df['product_niche'].value_counts(normalize=True)"
   ]
  },
  {
   "cell_type": "markdown",
   "id": "f6358271",
   "metadata": {},
   "source": [
    "# Transform Data to analysis"
   ]
  },
  {
   "cell_type": "markdown",
   "id": "649bb7c7",
   "metadata": {},
   "source": [
    "- **purchase_value** -> Dado que os dados estão codificados em uma escala fictícia, vou considerar que: Valores negativos não fazem sentido para uma venda. Logo irei trasnformar todos os valores negativos em positivos.\n",
    "\n",
    "- **affiliate_commission_percentual** -> Possue valores NaN, poderia fazer alguma atribuição, mas como são somente 199 registros, optei por dropar os registros onde essas linhas são NaN.\n",
    "\n",
    "- **purchase_id, product_id, affiliate_id, producer_id, buyer_id** -> Tranformar esses tipos para string.\n",
    "\n",
    "- **is_origin_page_social_network** -> Veio como string, irei transformar para inteiro."
   ]
  },
  {
   "cell_type": "markdown",
   "id": "0b931c0c",
   "metadata": {
    "ExecuteTime": {
     "end_time": "2023-06-02T02:21:55.663658Z",
     "start_time": "2023-06-02T02:21:50.625712Z"
    }
   },
   "source": [
    "Para executar tal preparação dos dados criei uma função que se encontra em `src/utils/preprocess.py` "
   ]
  },
  {
   "cell_type": "code",
   "execution_count": 17,
   "id": "a5673f05",
   "metadata": {
    "ExecuteTime": {
     "end_time": "2023-06-02T12:37:37.093793Z",
     "start_time": "2023-06-02T12:37:31.996380Z"
    }
   },
   "outputs": [],
   "source": [
    "df = prepare_data(df_raw)"
   ]
  },
  {
   "cell_type": "markdown",
   "id": "14b52eb5",
   "metadata": {},
   "source": [
    "# perguntas que seriam interessantes de serem respondidas "
   ]
  },
  {
   "cell_type": "markdown",
   "id": "25e9cb48",
   "metadata": {},
   "source": [
    "### A Hotmart depende dos maiores produtores da plataforma? Ou seja, os produtores que mais vendem são responsáveis pela maior parte do faturamento da Hotmart?"
   ]
  },
  {
   "cell_type": "code",
   "execution_count": 18,
   "id": "97312ab3",
   "metadata": {
    "ExecuteTime": {
     "end_time": "2023-06-02T12:37:37.117012Z",
     "start_time": "2023-06-02T12:37:37.095513Z"
    }
   },
   "outputs": [
    {
     "data": {
      "text/html": [
       "<div>\n",
       "<style scoped>\n",
       "    .dataframe tbody tr th:only-of-type {\n",
       "        vertical-align: middle;\n",
       "    }\n",
       "\n",
       "    .dataframe tbody tr th {\n",
       "        vertical-align: top;\n",
       "    }\n",
       "\n",
       "    .dataframe thead th {\n",
       "        text-align: right;\n",
       "    }\n",
       "</style>\n",
       "<table border=\"1\" class=\"dataframe\">\n",
       "  <thead>\n",
       "    <tr style=\"text-align: right;\">\n",
       "      <th></th>\n",
       "      <th>purchase_id</th>\n",
       "      <th>product_id</th>\n",
       "      <th>affiliate_id</th>\n",
       "      <th>producer_id</th>\n",
       "      <th>buyer_id</th>\n",
       "      <th>purchase_date</th>\n",
       "      <th>product_creation_date</th>\n",
       "      <th>product_category</th>\n",
       "      <th>product_niche</th>\n",
       "      <th>purchase_value</th>\n",
       "      <th>affiliate_commission_percentual</th>\n",
       "      <th>purchase_device</th>\n",
       "      <th>purchase_origin</th>\n",
       "      <th>is_origin_page_social_network</th>\n",
       "      <th>Venda</th>\n",
       "      <th>purchase_value_positiva</th>\n",
       "    </tr>\n",
       "  </thead>\n",
       "  <tbody>\n",
       "    <tr>\n",
       "      <th>199</th>\n",
       "      <td>10839481</td>\n",
       "      <td>118733</td>\n",
       "      <td>958412</td>\n",
       "      <td>958412</td>\n",
       "      <td>4984688</td>\n",
       "      <td>2016-01-01 00:04:44</td>\n",
       "      <td>2014-10-04 13:43:24</td>\n",
       "      <td>Phisical book</td>\n",
       "      <td>Organization</td>\n",
       "      <td>-0.428800</td>\n",
       "      <td>0.0</td>\n",
       "      <td>eReaders</td>\n",
       "      <td>Origin adf0</td>\n",
       "      <td>0</td>\n",
       "      <td>1</td>\n",
       "      <td>0.428800</td>\n",
       "    </tr>\n",
       "    <tr>\n",
       "      <th>200</th>\n",
       "      <td>10839484</td>\n",
       "      <td>181119</td>\n",
       "      <td>213339</td>\n",
       "      <td>213339</td>\n",
       "      <td>5917688</td>\n",
       "      <td>2016-01-01 00:05:27</td>\n",
       "      <td>2015-10-22 11:05:58</td>\n",
       "      <td>Phisical book</td>\n",
       "      <td>Organization</td>\n",
       "      <td>0.204131</td>\n",
       "      <td>0.0</td>\n",
       "      <td>Desktop</td>\n",
       "      <td>Origin 3c5a</td>\n",
       "      <td>0</td>\n",
       "      <td>1</td>\n",
       "      <td>0.204131</td>\n",
       "    </tr>\n",
       "    <tr>\n",
       "      <th>201</th>\n",
       "      <td>10839485</td>\n",
       "      <td>155827</td>\n",
       "      <td>2035132</td>\n",
       "      <td>2035132</td>\n",
       "      <td>718553</td>\n",
       "      <td>2016-01-01 00:05:29</td>\n",
       "      <td>2015-06-08 14:28:20</td>\n",
       "      <td>Podcast</td>\n",
       "      <td>Anxiety management</td>\n",
       "      <td>-0.377930</td>\n",
       "      <td>0.0</td>\n",
       "      <td>eReaders</td>\n",
       "      <td>Origin 14ad</td>\n",
       "      <td>0</td>\n",
       "      <td>1</td>\n",
       "      <td>0.377930</td>\n",
       "    </tr>\n",
       "    <tr>\n",
       "      <th>202</th>\n",
       "      <td>10839488</td>\n",
       "      <td>168608</td>\n",
       "      <td>3630929</td>\n",
       "      <td>3630929</td>\n",
       "      <td>5917691</td>\n",
       "      <td>2016-01-01 00:06:30</td>\n",
       "      <td>2015-08-18 14:41:40</td>\n",
       "      <td>Phisical book</td>\n",
       "      <td>Negotiation</td>\n",
       "      <td>-0.503885</td>\n",
       "      <td>0.0</td>\n",
       "      <td>eReaders</td>\n",
       "      <td>Origin 55a8</td>\n",
       "      <td>0</td>\n",
       "      <td>1</td>\n",
       "      <td>0.503885</td>\n",
       "    </tr>\n",
       "    <tr>\n",
       "      <th>203</th>\n",
       "      <td>10839491</td>\n",
       "      <td>130465</td>\n",
       "      <td>275005</td>\n",
       "      <td>275005</td>\n",
       "      <td>5550404</td>\n",
       "      <td>2016-01-01 00:06:50</td>\n",
       "      <td>2014-12-30 17:41:32</td>\n",
       "      <td>Phisical book</td>\n",
       "      <td>Media training</td>\n",
       "      <td>-0.415472</td>\n",
       "      <td>0.0</td>\n",
       "      <td>Desktop</td>\n",
       "      <td>Origin 659b</td>\n",
       "      <td>0</td>\n",
       "      <td>1</td>\n",
       "      <td>0.415472</td>\n",
       "    </tr>\n",
       "  </tbody>\n",
       "</table>\n",
       "</div>"
      ],
      "text/plain": [
       "    purchase_id product_id affiliate_id producer_id buyer_id  \\\n",
       "199    10839481     118733       958412      958412  4984688   \n",
       "200    10839484     181119       213339      213339  5917688   \n",
       "201    10839485     155827      2035132     2035132   718553   \n",
       "202    10839488     168608      3630929     3630929  5917691   \n",
       "203    10839491     130465       275005      275005  5550404   \n",
       "\n",
       "           purchase_date product_creation_date product_category  \\\n",
       "199  2016-01-01 00:04:44   2014-10-04 13:43:24    Phisical book   \n",
       "200  2016-01-01 00:05:27   2015-10-22 11:05:58    Phisical book   \n",
       "201  2016-01-01 00:05:29   2015-06-08 14:28:20          Podcast   \n",
       "202  2016-01-01 00:06:30   2015-08-18 14:41:40    Phisical book   \n",
       "203  2016-01-01 00:06:50   2014-12-30 17:41:32    Phisical book   \n",
       "\n",
       "          product_niche  purchase_value  affiliate_commission_percentual  \\\n",
       "199        Organization       -0.428800                              0.0   \n",
       "200        Organization        0.204131                              0.0   \n",
       "201  Anxiety management       -0.377930                              0.0   \n",
       "202         Negotiation       -0.503885                              0.0   \n",
       "203      Media training       -0.415472                              0.0   \n",
       "\n",
       "    purchase_device purchase_origin  is_origin_page_social_network  Venda  \\\n",
       "199        eReaders     Origin adf0                              0      1   \n",
       "200         Desktop     Origin 3c5a                              0      1   \n",
       "201        eReaders     Origin 14ad                              0      1   \n",
       "202        eReaders     Origin 55a8                              0      1   \n",
       "203         Desktop     Origin 659b                              0      1   \n",
       "\n",
       "     purchase_value_positiva  \n",
       "199                 0.428800  \n",
       "200                 0.204131  \n",
       "201                 0.377930  \n",
       "202                 0.503885  \n",
       "203                 0.415472  "
      ]
     },
     "execution_count": 18,
     "metadata": {},
     "output_type": "execute_result"
    }
   ],
   "source": [
    "df.head()"
   ]
  },
  {
   "cell_type": "code",
   "execution_count": 19,
   "id": "4c362103",
   "metadata": {
    "ExecuteTime": {
     "end_time": "2023-06-02T12:37:37.389955Z",
     "start_time": "2023-06-02T12:37:37.121221Z"
    }
   },
   "outputs": [],
   "source": [
    "df_top_10_maiores_faturamentos = df[['producer_id', 'purchase_value_positiva']].groupby(\"producer_id\")\\\n",
    ".sum().reset_index().sort_values('purchase_value_positiva', ascending=False).head(10)\n",
    "\n",
    "df_top_10_maiores_faturamentos\\\n",
    ".rename(\n",
    "    columns={\n",
    "        'producer_id': 'producer_id_mais_faturamento',\n",
    "        'purchase_value_positiva': 'purchase_value_total'\n",
    "    }, inplace=True)\n",
    "df_top_10_maiores_faturamentos.reset_index(drop=True, inplace=True)"
   ]
  },
  {
   "cell_type": "code",
   "execution_count": 20,
   "id": "b44e89ca",
   "metadata": {
    "ExecuteTime": {
     "end_time": "2023-06-02T12:37:37.565637Z",
     "start_time": "2023-06-02T12:37:37.392259Z"
    }
   },
   "outputs": [],
   "source": [
    "df_top_10_mais_vendem = df['producer_id'].value_counts().reset_index().head(10)\n",
    "df_top_10_mais_vendem.rename(columns={'producer_id': 'producer_id_mais_vendem', 'count': 'qtd_de_vendas'}, inplace=True)"
   ]
  },
  {
   "cell_type": "code",
   "execution_count": 21,
   "id": "2ce33a56",
   "metadata": {
    "ExecuteTime": {
     "end_time": "2023-06-02T12:37:37.588911Z",
     "start_time": "2023-06-02T12:37:37.567451Z"
    }
   },
   "outputs": [
    {
     "data": {
      "text/html": [
       "<div>\n",
       "<style scoped>\n",
       "    .dataframe tbody tr th:only-of-type {\n",
       "        vertical-align: middle;\n",
       "    }\n",
       "\n",
       "    .dataframe tbody tr th {\n",
       "        vertical-align: top;\n",
       "    }\n",
       "\n",
       "    .dataframe thead th {\n",
       "        text-align: right;\n",
       "    }\n",
       "</style>\n",
       "<table border=\"1\" class=\"dataframe\">\n",
       "  <thead>\n",
       "    <tr style=\"text-align: right;\">\n",
       "      <th></th>\n",
       "      <th>producer_id_mais_faturamento</th>\n",
       "      <th>purchase_value_total</th>\n",
       "      <th>producer_id_mais_vendem</th>\n",
       "      <th>qtd_de_vendas</th>\n",
       "    </tr>\n",
       "  </thead>\n",
       "  <tbody>\n",
       "    <tr>\n",
       "      <th>0</th>\n",
       "      <td>42346</td>\n",
       "      <td>26309.795966</td>\n",
       "      <td>6697083</td>\n",
       "      <td>41220</td>\n",
       "    </tr>\n",
       "    <tr>\n",
       "      <th>1</th>\n",
       "      <td>6697083</td>\n",
       "      <td>17041.252187</td>\n",
       "      <td>3992235</td>\n",
       "      <td>39331</td>\n",
       "    </tr>\n",
       "    <tr>\n",
       "      <th>2</th>\n",
       "      <td>464846</td>\n",
       "      <td>15705.049530</td>\n",
       "      <td>464846</td>\n",
       "      <td>35468</td>\n",
       "    </tr>\n",
       "    <tr>\n",
       "      <th>3</th>\n",
       "      <td>3992235</td>\n",
       "      <td>14146.703215</td>\n",
       "      <td>349701</td>\n",
       "      <td>34565</td>\n",
       "    </tr>\n",
       "    <tr>\n",
       "      <th>4</th>\n",
       "      <td>3425706</td>\n",
       "      <td>9850.580539</td>\n",
       "      <td>166090</td>\n",
       "      <td>28895</td>\n",
       "    </tr>\n",
       "    <tr>\n",
       "      <th>5</th>\n",
       "      <td>2546880</td>\n",
       "      <td>9788.894025</td>\n",
       "      <td>442241</td>\n",
       "      <td>27796</td>\n",
       "    </tr>\n",
       "    <tr>\n",
       "      <th>6</th>\n",
       "      <td>166090</td>\n",
       "      <td>9411.283353</td>\n",
       "      <td>2307584</td>\n",
       "      <td>21716</td>\n",
       "    </tr>\n",
       "    <tr>\n",
       "      <th>7</th>\n",
       "      <td>3382787</td>\n",
       "      <td>9295.254940</td>\n",
       "      <td>3382787</td>\n",
       "      <td>20191</td>\n",
       "    </tr>\n",
       "    <tr>\n",
       "      <th>8</th>\n",
       "      <td>442241</td>\n",
       "      <td>9087.500313</td>\n",
       "      <td>4580574</td>\n",
       "      <td>16386</td>\n",
       "    </tr>\n",
       "    <tr>\n",
       "      <th>9</th>\n",
       "      <td>4580574</td>\n",
       "      <td>8535.123909</td>\n",
       "      <td>671256</td>\n",
       "      <td>16096</td>\n",
       "    </tr>\n",
       "  </tbody>\n",
       "</table>\n",
       "</div>"
      ],
      "text/plain": [
       "  producer_id_mais_faturamento  purchase_value_total producer_id_mais_vendem  \\\n",
       "0                        42346          26309.795966                 6697083   \n",
       "1                      6697083          17041.252187                 3992235   \n",
       "2                       464846          15705.049530                  464846   \n",
       "3                      3992235          14146.703215                  349701   \n",
       "4                      3425706           9850.580539                  166090   \n",
       "5                      2546880           9788.894025                  442241   \n",
       "6                       166090           9411.283353                 2307584   \n",
       "7                      3382787           9295.254940                 3382787   \n",
       "8                       442241           9087.500313                 4580574   \n",
       "9                      4580574           8535.123909                  671256   \n",
       "\n",
       "   qtd_de_vendas  \n",
       "0          41220  \n",
       "1          39331  \n",
       "2          35468  \n",
       "3          34565  \n",
       "4          28895  \n",
       "5          27796  \n",
       "6          21716  \n",
       "7          20191  \n",
       "8          16386  \n",
       "9          16096  "
      ]
     },
     "execution_count": 21,
     "metadata": {},
     "output_type": "execute_result"
    }
   ],
   "source": [
    "df_final = pd.concat([df_top_10_maiores_faturamentos, df_top_10_mais_vendem], axis=1)\n",
    "df_final"
   ]
  },
  {
   "cell_type": "markdown",
   "id": "488ae19c",
   "metadata": {},
   "source": [
    "\n",
    "## Conclusão\n",
    "\n",
    "SIM, dado esse nosso range de análise de **10 que mais vendem** e os **10 que mais dão lucro**. Como podemos ver\n",
    "\n",
    "se fizermos um rank dos 10 produtores que mais vendem e dos 10 produtores que mais dão lucro, vemos que existem 7 nomes em comum entre esses dois ranks. Logo, entre os 10 que mais vendem, 7 fazem parte dos 10 que mais dão lucro."
   ]
  },
  {
   "cell_type": "code",
   "execution_count": 22,
   "id": "d6bc3645",
   "metadata": {
    "ExecuteTime": {
     "end_time": "2023-06-02T12:37:37.600928Z",
     "start_time": "2023-06-02T12:37:37.591236Z"
    }
   },
   "outputs": [
    {
     "data": {
      "text/html": [
       "<div>\n",
       "<style scoped>\n",
       "    .dataframe tbody tr th:only-of-type {\n",
       "        vertical-align: middle;\n",
       "    }\n",
       "\n",
       "    .dataframe tbody tr th {\n",
       "        vertical-align: top;\n",
       "    }\n",
       "\n",
       "    .dataframe thead th {\n",
       "        text-align: right;\n",
       "    }\n",
       "</style>\n",
       "<table border=\"1\" class=\"dataframe\">\n",
       "  <thead>\n",
       "    <tr style=\"text-align: right;\">\n",
       "      <th></th>\n",
       "      <th>producer_id_mais_faturamento</th>\n",
       "      <th>purchase_value_total</th>\n",
       "      <th>producer_id_mais_vendem</th>\n",
       "      <th>qtd_de_vendas</th>\n",
       "    </tr>\n",
       "  </thead>\n",
       "  <tbody>\n",
       "    <tr>\n",
       "      <th>0</th>\n",
       "      <td>6697083</td>\n",
       "      <td>17041.252187</td>\n",
       "      <td>3992235</td>\n",
       "      <td>39331</td>\n",
       "    </tr>\n",
       "    <tr>\n",
       "      <th>1</th>\n",
       "      <td>464846</td>\n",
       "      <td>15705.049530</td>\n",
       "      <td>464846</td>\n",
       "      <td>35468</td>\n",
       "    </tr>\n",
       "    <tr>\n",
       "      <th>2</th>\n",
       "      <td>3992235</td>\n",
       "      <td>14146.703215</td>\n",
       "      <td>349701</td>\n",
       "      <td>34565</td>\n",
       "    </tr>\n",
       "    <tr>\n",
       "      <th>3</th>\n",
       "      <td>166090</td>\n",
       "      <td>9411.283353</td>\n",
       "      <td>2307584</td>\n",
       "      <td>21716</td>\n",
       "    </tr>\n",
       "    <tr>\n",
       "      <th>4</th>\n",
       "      <td>3382787</td>\n",
       "      <td>9295.254940</td>\n",
       "      <td>3382787</td>\n",
       "      <td>20191</td>\n",
       "    </tr>\n",
       "    <tr>\n",
       "      <th>5</th>\n",
       "      <td>442241</td>\n",
       "      <td>9087.500313</td>\n",
       "      <td>4580574</td>\n",
       "      <td>16386</td>\n",
       "    </tr>\n",
       "    <tr>\n",
       "      <th>6</th>\n",
       "      <td>4580574</td>\n",
       "      <td>8535.123909</td>\n",
       "      <td>671256</td>\n",
       "      <td>16096</td>\n",
       "    </tr>\n",
       "  </tbody>\n",
       "</table>\n",
       "</div>"
      ],
      "text/plain": [
       "  producer_id_mais_faturamento  purchase_value_total producer_id_mais_vendem  \\\n",
       "0                      6697083          17041.252187                 3992235   \n",
       "1                       464846          15705.049530                  464846   \n",
       "2                      3992235          14146.703215                  349701   \n",
       "3                       166090           9411.283353                 2307584   \n",
       "4                      3382787           9295.254940                 3382787   \n",
       "5                       442241           9087.500313                 4580574   \n",
       "6                      4580574           8535.123909                  671256   \n",
       "\n",
       "   qtd_de_vendas  \n",
       "0          39331  \n",
       "1          35468  \n",
       "2          34565  \n",
       "3          21716  \n",
       "4          20191  \n",
       "5          16386  \n",
       "6          16096  "
      ]
     },
     "execution_count": 22,
     "metadata": {},
     "output_type": "execute_result"
    }
   ],
   "source": [
    "lista_top_10_mais_vendem = df_final['producer_id_mais_vendem'].tolist()\n",
    "df_final[df_final['producer_id_mais_faturamento'].isin(lista_top_10_mais_vendem)].reset_index(drop=True)"
   ]
  },
  {
   "cell_type": "markdown",
   "id": "6d76ebc9",
   "metadata": {},
   "source": [
    "### Existe algum padrão ou tendência relevante nos dados? "
   ]
  },
  {
   "cell_type": "markdown",
   "id": "5ebe2b33",
   "metadata": {},
   "source": [
    "Vemos que existe um padrão na quantidade de produtos criados ao longo dos anos. Como visto abaixo, a\n",
    "quantidade produtos criados tem crescido ao longo dos anos, em outras palavras, existe uma tendência de \n",
    "crescimento dessa métrica ao longo dos anos. \n",
    "\n",
    "Podemos ver que ao longo de cada ano o número de produtos criados cresceu. Mas em 2016, foi o único ano\n",
    "presente no dataset que a quantidade de produtos criados caiu. Isso pode está relacionado com a crise que \n",
    "vivemos no Brasil nesse mesmo ano.\n",
    "\n",
    "Em 2016, o Brasil enfrentou uma crise política e econômica significativa. Durante esse ano, houve uma série de \n",
    "eventos que impactaram o país de maneira intensa. \n",
    "\n",
    "Uma das principais questões que ocorreram em 2016 foi o processo de impeachment da então presidente Dilma Rousseff. O processo foi resultado de uma série de acusações de irregularidades fiscais e políticas, levando a um agravamento da crise política no país. Em agosto de 2016, Dilma Rousseff foi afastada temporariamente da presidência pelo Senado e, posteriormente, destituída do cargo em definitivo.\n",
    "\n",
    "Além disso, o Brasil enfrentou uma crise econômica nesse período. O país sofreu com uma recessão econômica, alta taxa de desemprego, queda nos investimentos e diminuição do crescimento econômico. Essa crise econômica foi resultado de uma combinação de fatores, incluindo a queda nos preços das commodities, desequilíbrios fiscais, escândalos de corrupção e instabilidade política."
   ]
  },
  {
   "cell_type": "code",
   "execution_count": 23,
   "id": "271a9696",
   "metadata": {
    "ExecuteTime": {
     "end_time": "2023-06-02T12:37:38.183252Z",
     "start_time": "2023-06-02T12:37:37.606270Z"
    }
   },
   "outputs": [],
   "source": [
    "df['product_creation_date_year'] = pd.to_datetime(df['product_creation_date']).dt.year.copy()"
   ]
  },
  {
   "cell_type": "code",
   "execution_count": 24,
   "id": "ae8c27cb",
   "metadata": {
    "ExecuteTime": {
     "end_time": "2023-06-02T12:37:38.766567Z",
     "start_time": "2023-06-02T12:37:38.185317Z"
    }
   },
   "outputs": [
    {
     "data": {
      "image/png": "[encoded data removed]",
      "text/plain": [
       "<Figure size 1000x500 with 1 Axes>"
      ]
     },
     "metadata": {},
     "output_type": "display_data"
    }
   ],
   "source": [
    "df_aux = df['product_creation_date_year'].value_counts().reset_index().sort_values(\"count\")\n",
    "\n",
    "sns.regplot(\n",
    "    data=df_aux,\n",
    "    x='product_creation_date_year',\n",
    "    y='count',\n",
    "    line_kws={\"color\": \"C3\"},\n",
    "    scatter_kws={\"s\": 80},\n",
    ")\n",
    "\n",
    "plt.title(\"Quantidade de produtos criados por ano.\");"
   ]
  },
  {
   "cell_type": "markdown",
   "id": "146c9a43",
   "metadata": {},
   "source": [
    "Acompanhando o raciocínio acima, vemos que o valor das vendas totais por ano também aumentaram em uma proporção bem semelhante a do gráfico de cima."
   ]
  },
  {
   "cell_type": "code",
   "execution_count": 25,
   "id": "2e7c7d00",
   "metadata": {
    "ExecuteTime": {
     "end_time": "2023-06-02T12:37:39.423808Z",
     "start_time": "2023-06-02T12:37:38.770693Z"
    }
   },
   "outputs": [
    {
     "data": {
      "image/png": "[encoded data removed]",
      "text/plain": [
       "<Figure size 1000x500 with 1 Axes>"
      ]
     },
     "metadata": {},
     "output_type": "display_data"
    }
   ],
   "source": [
    "df_aux = df[['product_creation_date_year', 'purchase_value_positiva']].groupby(\"product_creation_date_year\").sum().reset_index()\n",
    "\n",
    "sns.regplot(\n",
    "    data=df_aux,\n",
    "    x='product_creation_date_year',\n",
    "    y='purchase_value_positiva',\n",
    "    line_kws={\"color\": \"C3\"},\n",
    "    scatter_kws={\"s\": 80},\n",
    ")\n",
    "\n",
    "plt.title(\"Valores das vendas totais por ano.\");"
   ]
  },
  {
   "cell_type": "markdown",
   "id": "e6114d4f",
   "metadata": {},
   "source": [
    "### É possível segmentar os usuários com base em suas características (faturamento, nicho de produto, etc.)? "
   ]
  },
  {
   "cell_type": "markdown",
   "id": "8c4c61ae",
   "metadata": {},
   "source": [
    "Poderíamos ter utilizado algum algoritmo de Machine learning nesse momento, mas optei por uma abordagem mais\n",
    "simples e de fácil entendimento. Escolhi fazer essa segmentação de clientes utilizando o <mark>RFM model</mark>.\n",
    "\n",
    "> O conceito da análise RFM, foi citado pela primeira vez em um artigo de Jan Roelf Bult e Tom Wansbeek, “Seleção ideal para mala direta“, publicado em uma edição de 1995 da Marketing Science. E foi criado para ajudar os profissionais de marketing a segmentar grupos específicos de clientes. \n",
    "> \n",
    "> A análise de RFM é baseada no principio de Pareto, que quando aplicado no marketing diz que 80% dos resultados vêm de 20% das causas. Da mesma forma, 20% dos clientes contribuem com 80% da sua receita total.\n",
    "> \n",
    "> A análise RFM é um acrônimo para Recência, Frequência e Valor Monetário, e é uma ferramenta de análise de marketing e/ou para o time de CS (Customer Sucess) usada para identificar os melhores clientes de uma empresa ou organização usando determinadas medidas. O modelo RFM é baseado em três fatores quantitativos:\n",
    "> \n",
    "\n",
    "\n",
    "\n",
    "- **Recência**: quão recentemente um cliente fez uma compra;\n",
    "    - No nosso caso, agrupei por **buyer_id** e peguei a data mais recente que efetuou uma compra.\n",
    "    \n",
    "    \n",
    "- **Frequência**: com que frequência um cliente faz uma compra;\n",
    "    - No nosso caso, Agrupei por **buyer_id** e fiz a contagem de quantas vezes esse usuário apareceu na base.\n",
    "\n",
    "\n",
    "- **Valor monetário**: quanto dinheiro um cliente gasta em compras;\n",
    "    - Essa coluna já está presente no dataset como **purchase_value**, o que fiz foi agrupar por **buyer_id**\n",
    "    e fazer a soma de quanto cada usuário já gastou num total.\n",
    "    \n",
    "Utilizaremos o formato dos quintils para poder atribuir notas para cada usuário para cada característica \n",
    "(Recência, Frequência e Valor monetário). Mas afinal, como funcionaria?\n",
    "\n",
    "1. Pega cada coluns e ordena do menor para o maior a frequency e o monetary\n",
    "    - Resumindo, as regras para a pontuação do RFM:\n",
    "\n",
    "        - Quanto mais recente for a compra do cliente, maior será a pontuação de R.\n",
    "        - Quanto mais compras o cliente realizar, maior será a pontuação de F;\n",
    "        - Quanto maior for o gasto dele, maior será o score de M.\n",
    "\n",
    "2. divide ele em cinco partes iguais\n",
    "3. Para cada uma dessas partes, temos um score de 1 a 5 para aqueles que estiverem dentro daquele quintil,\n",
    "sendo 5 a maior pontuação.\n",
    "\n",
    "**Referências**: \n",
    "- http://vidadeproduto.com.br/analise-rfm/\n",
    "- https://www.youtube.com/watch?v=CArRKwrLaeM&t=785s&ab_channel=ComunidadeDS"
   ]
  },
  {
   "cell_type": "code",
   "execution_count": 26,
   "id": "92d91799",
   "metadata": {
    "ExecuteTime": {
     "end_time": "2023-06-02T12:37:44.575653Z",
     "start_time": "2023-06-02T12:37:39.427091Z"
    }
   },
   "outputs": [],
   "source": [
    "# preparação dos dados\n",
    "df_prep = prepare_data(df_raw)"
   ]
  },
  {
   "cell_type": "markdown",
   "id": "9c68050d",
   "metadata": {},
   "source": [
    "Após ter essa coluna `RFM_score` posso segmentar meus clientes. A mais comum são os \n",
    "11 segmentos a seguir:\n",
    "\n",
    "Sendo `R=Recência`, `F=Frequência` e `M=Valor monetário`\n",
    "\n",
    "| index | Segmento de clientes | Atividade | Valor de R | Valor médio de F e M\n",
    "| ------| ------ | ----------- | ------- | ------ |\n",
    "| 1 | Campeões |\tComprou recentemente. Compra com frequência. E gasta muito! | 4 a 5 | 4 a 5\n",
    "| 2 | Clientes fieis |\tGasta um bom dinheiro. Com frequentemente. | 2 a 5 | 3 a 5\n",
    "| 3 | Lealdade potêncial |\tClientes recentes. Gastaram uma boa quantia. Compraram mais de uma vez. | 3 a 5 | 1 a 3 |\n",
    "| 4 | Clientes Recentes |\tComprou recentemente. Mas não com frequência. | 4 a 5 | 1 a 3\n",
    "| 5 | Promissor\t| Compradores recentes. Mas não gastaram muito. | 3 a 4 | 0 a 1\n",
    "| 6 | Precisam de atenção | Recência, frequência e valores monetários acima da média. (Pode não ter comprado muito recentemente). | 2 a 3 | 2 a 3\n",
    "| 7 | Prestes a “hibernar” | Abaixo da média da Recência, Frequência e valores monetários. (Os perderá se não for reativado). | 2 a 3 | 0 a 2\n",
    "| 8 | Em risco | Gastou muito dinheiro e comprou com freqüência. Mas há muito tempo. (Precisa trazê-los de volta)! | 0 a 2 | 2 a 5\n",
    "| 9 | Não posso perdê-los | Fez grandes compras e com frequência. Mas ha algum tempo. | 0 a 2 | 1 a 2\n",
    "| 10 | Hibernando | A última compra foi feita a algum tempo. Pouco gasto e baixo número de pedidos. | 1 a 2 | 1 a 2\n",
    "| 11 | Perdido | Recência, frequência e pontuação monetária mais baixas.| 0 a 2 | 0 a 2"
   ]
  },
  {
   "cell_type": "markdown",
   "id": "4a73c95a",
   "metadata": {
    "ExecuteTime": {
     "end_time": "2023-06-01T23:46:39.027664Z",
     "start_time": "2023-06-01T23:46:39.018299Z"
    }
   },
   "source": [
    "Para simplificar nossa análise vamos utilizar a seguinte regra:\n",
    "    \n",
    "|Segmento de clientes | Valor médio de F e M\n",
    "|------ | ------ |\n",
    "| Campeões | 4 a 5\n",
    "| Promissor | 2 a 4\n",
    "| Hibernando | 0 a 2"
   ]
  },
  {
   "cell_type": "markdown",
   "id": "08d93797",
   "metadata": {},
   "source": [
    "Para Executar todo pipeline descrito criei uma classe presente em `src/utils/preprocess.py`.  \n",
    "\n",
    "A classe se chama RFMModel o método `get_rfm_model`executa o pipeline princial descrito acima para obtenção desse modelo. Os testes unitários para os métodos dessa classe estão em `src/tests/test_preprocess.py`"
   ]
  },
  {
   "cell_type": "code",
   "execution_count": 27,
   "id": "2264357f",
   "metadata": {
    "ExecuteTime": {
     "end_time": "2023-06-02T12:38:09.455897Z",
     "start_time": "2023-06-02T12:37:44.577791Z"
    }
   },
   "outputs": [
    {
     "name": "stderr",
     "output_type": "stream",
     "text": [
      "/home/marcos/Documentos/Projetos/test_hotmart/src/utils/preprocess.py:66: SettingWithCopyWarning: \n",
      "A value is trying to be set on a copy of a slice from a DataFrame.\n",
      "Try using .loc[row_indexer,col_indexer] = value instead\n",
      "\n",
      "See the caveats in the documentation: https://pandas.pydata.org/pandas-docs/stable/user_guide/indexing.html#returning-a-view-versus-a-copy\n",
      "  df_cluster.loc[:, self.recency_colum] = recency.copy()\n"
     ]
    }
   ],
   "source": [
    "rfm_model = RFMModel()\n",
    "df_final = rfm_model.get_rfm_model(df_prep)"
   ]
  },
  {
   "cell_type": "code",
   "execution_count": 28,
   "id": "578fcbae",
   "metadata": {
    "ExecuteTime": {
     "end_time": "2023-06-02T12:38:09.477728Z",
     "start_time": "2023-06-02T12:38:09.458341Z"
    }
   },
   "outputs": [
    {
     "data": {
      "text/html": [
       "<div>\n",
       "<style scoped>\n",
       "    .dataframe tbody tr th:only-of-type {\n",
       "        vertical-align: middle;\n",
       "    }\n",
       "\n",
       "    .dataframe tbody tr th {\n",
       "        vertical-align: top;\n",
       "    }\n",
       "\n",
       "    .dataframe thead th {\n",
       "        text-align: right;\n",
       "    }\n",
       "</style>\n",
       "<table border=\"1\" class=\"dataframe\">\n",
       "  <thead>\n",
       "    <tr style=\"text-align: right;\">\n",
       "      <th></th>\n",
       "      <th>buyer_id</th>\n",
       "      <th>frequency_score</th>\n",
       "      <th>monetary_score</th>\n",
       "      <th>recency_score</th>\n",
       "      <th>RFM_score</th>\n",
       "      <th>FM_mean</th>\n",
       "      <th>clusters</th>\n",
       "    </tr>\n",
       "  </thead>\n",
       "  <tbody>\n",
       "    <tr>\n",
       "      <th>0</th>\n",
       "      <td>7300108</td>\n",
       "      <td>1</td>\n",
       "      <td>1</td>\n",
       "      <td>4</td>\n",
       "      <td>2.000000</td>\n",
       "      <td>1.0</td>\n",
       "      <td>Hibernando</td>\n",
       "    </tr>\n",
       "    <tr>\n",
       "      <th>1</th>\n",
       "      <td>5874005</td>\n",
       "      <td>1</td>\n",
       "      <td>2</td>\n",
       "      <td>1</td>\n",
       "      <td>1.333333</td>\n",
       "      <td>1.5</td>\n",
       "      <td>Hibernando</td>\n",
       "    </tr>\n",
       "    <tr>\n",
       "      <th>2</th>\n",
       "      <td>6499728</td>\n",
       "      <td>1</td>\n",
       "      <td>3</td>\n",
       "      <td>1</td>\n",
       "      <td>1.666667</td>\n",
       "      <td>2.0</td>\n",
       "      <td>Hibernando</td>\n",
       "    </tr>\n",
       "    <tr>\n",
       "      <th>3</th>\n",
       "      <td>6499729</td>\n",
       "      <td>1</td>\n",
       "      <td>4</td>\n",
       "      <td>1</td>\n",
       "      <td>2.000000</td>\n",
       "      <td>2.5</td>\n",
       "      <td>Promissor</td>\n",
       "    </tr>\n",
       "    <tr>\n",
       "      <th>4</th>\n",
       "      <td>6499730</td>\n",
       "      <td>1</td>\n",
       "      <td>4</td>\n",
       "      <td>1</td>\n",
       "      <td>2.000000</td>\n",
       "      <td>2.5</td>\n",
       "      <td>Promissor</td>\n",
       "    </tr>\n",
       "    <tr>\n",
       "      <th>...</th>\n",
       "      <td>...</td>\n",
       "      <td>...</td>\n",
       "      <td>...</td>\n",
       "      <td>...</td>\n",
       "      <td>...</td>\n",
       "      <td>...</td>\n",
       "      <td>...</td>\n",
       "    </tr>\n",
       "    <tr>\n",
       "      <th>1100494</th>\n",
       "      <td>1128526</td>\n",
       "      <td>5</td>\n",
       "      <td>5</td>\n",
       "      <td>5</td>\n",
       "      <td>5.000000</td>\n",
       "      <td>5.0</td>\n",
       "      <td>Campeao</td>\n",
       "    </tr>\n",
       "    <tr>\n",
       "      <th>1100495</th>\n",
       "      <td>336781</td>\n",
       "      <td>5</td>\n",
       "      <td>5</td>\n",
       "      <td>5</td>\n",
       "      <td>5.000000</td>\n",
       "      <td>5.0</td>\n",
       "      <td>Campeao</td>\n",
       "    </tr>\n",
       "    <tr>\n",
       "      <th>1100496</th>\n",
       "      <td>701523</td>\n",
       "      <td>5</td>\n",
       "      <td>5</td>\n",
       "      <td>5</td>\n",
       "      <td>5.000000</td>\n",
       "      <td>5.0</td>\n",
       "      <td>Campeao</td>\n",
       "    </tr>\n",
       "    <tr>\n",
       "      <th>1100497</th>\n",
       "      <td>158226</td>\n",
       "      <td>5</td>\n",
       "      <td>5</td>\n",
       "      <td>5</td>\n",
       "      <td>5.000000</td>\n",
       "      <td>5.0</td>\n",
       "      <td>Campeao</td>\n",
       "    </tr>\n",
       "    <tr>\n",
       "      <th>1100498</th>\n",
       "      <td>4763605</td>\n",
       "      <td>5</td>\n",
       "      <td>5</td>\n",
       "      <td>5</td>\n",
       "      <td>5.000000</td>\n",
       "      <td>5.0</td>\n",
       "      <td>Campeao</td>\n",
       "    </tr>\n",
       "  </tbody>\n",
       "</table>\n",
       "<p>1100499 rows × 7 columns</p>\n",
       "</div>"
      ],
      "text/plain": [
       "        buyer_id  frequency_score  monetary_score  recency_score  RFM_score  \\\n",
       "0        7300108                1               1              4   2.000000   \n",
       "1        5874005                1               2              1   1.333333   \n",
       "2        6499728                1               3              1   1.666667   \n",
       "3        6499729                1               4              1   2.000000   \n",
       "4        6499730                1               4              1   2.000000   \n",
       "...          ...              ...             ...            ...        ...   \n",
       "1100494  1128526                5               5              5   5.000000   \n",
       "1100495   336781                5               5              5   5.000000   \n",
       "1100496   701523                5               5              5   5.000000   \n",
       "1100497   158226                5               5              5   5.000000   \n",
       "1100498  4763605                5               5              5   5.000000   \n",
       "\n",
       "         FM_mean    clusters  \n",
       "0            1.0  Hibernando  \n",
       "1            1.5  Hibernando  \n",
       "2            2.0  Hibernando  \n",
       "3            2.5   Promissor  \n",
       "4            2.5   Promissor  \n",
       "...          ...         ...  \n",
       "1100494      5.0     Campeao  \n",
       "1100495      5.0     Campeao  \n",
       "1100496      5.0     Campeao  \n",
       "1100497      5.0     Campeao  \n",
       "1100498      5.0     Campeao  \n",
       "\n",
       "[1100499 rows x 7 columns]"
      ]
     },
     "execution_count": 28,
     "metadata": {},
     "output_type": "execute_result"
    }
   ],
   "source": [
    "df_final"
   ]
  },
  {
   "cell_type": "markdown",
   "id": "0bba600b",
   "metadata": {},
   "source": [
    "Aqui após nossa clusterização vemos uma contagem das classificações de cada cluster. Podemos ver que tem\n",
    "muitos consumidores segmentados como `promissor`.\t"
   ]
  },
  {
   "cell_type": "code",
   "execution_count": 29,
   "id": "ccb4c5b3",
   "metadata": {
    "ExecuteTime": {
     "end_time": "2023-06-02T12:38:10.251710Z",
     "start_time": "2023-06-02T12:38:09.482646Z"
    }
   },
   "outputs": [
    {
     "data": {
      "image/png": "[encoded data removed]",
      "text/plain": [
       "<Figure size 1000x500 with 1 Axes>"
      ]
     },
     "metadata": {},
     "output_type": "display_data"
    }
   ],
   "source": [
    "sns.countplot(data=df_final, x='clusters');"
   ]
  },
  {
   "cell_type": "markdown",
   "id": "53e1e1f7",
   "metadata": {},
   "source": [
    "Nesse gráfico podemos ver um pouco da distribuição dos clusters seguindo a regra que definimos anteriormente. "
   ]
  },
  {
   "cell_type": "code",
   "execution_count": 30,
   "id": "5a547618",
   "metadata": {
    "ExecuteTime": {
     "end_time": "2023-06-02T12:39:35.807626Z",
     "start_time": "2023-06-02T12:38:10.254671Z"
    }
   },
   "outputs": [
    {
     "name": "stderr",
     "output_type": "stream",
     "text": [
      "/home/marcos/miniconda3/envs/hotmart/lib/python3.11/site-packages/IPython/core/events.py:89: UserWarning: Creating legend with loc=\"best\" can be slow with large amounts of data.\n",
      "  func(*args, **kwargs)\n",
      "/home/marcos/miniconda3/envs/hotmart/lib/python3.11/site-packages/IPython/core/pylabtools.py:152: UserWarning: Creating legend with loc=\"best\" can be slow with large amounts of data.\n",
      "  fig.canvas.print_figure(bytes_io, **kw)\n"
     ]
    },
    {
     "data": {
      "image/png": "[encoded data removed]",
      "text/plain": [
       "<Figure size 1000x500 with 1 Axes>"
      ]
     },
     "metadata": {},
     "output_type": "display_data"
    }
   ],
   "source": [
    "sns.scatterplot(\n",
    "    data=df_final,\n",
    "    x='frequency_score',\n",
    "    y='monetary_score',\n",
    "    hue='clusters'\n",
    ");"
   ]
  },
  {
   "cell_type": "markdown",
   "id": "30cdad53",
   "metadata": {},
   "source": [
    "### É possível estimar quanto de faturamento a Hotmart irá fazer nos próximos três meses a partir do último mês mostrado no dataset? "
   ]
  },
  {
   "cell_type": "markdown",
   "id": "5a250dbf",
   "metadata": {
    "ExecuteTime": {
     "end_time": "2023-06-02T11:24:23.405900Z",
     "start_time": "2023-06-02T11:24:23.399632Z"
    }
   },
   "source": [
    "Colunas para dropar:\n",
    "\n",
    "- purchase_id é uma informação que não teria no momento da predição, somente após a compra ser feita, então não faz sentido está presente no treinamento.\n",
    "\n",
    "- Venda: Possui valores iguais para todos os registros. Logo, não trás informação para nosso modelo."
   ]
  },
  {
   "cell_type": "code",
   "execution_count": 64,
   "id": "efbf84d2",
   "metadata": {
    "ExecuteTime": {
     "end_time": "2023-06-02T15:37:42.812722Z",
     "start_time": "2023-06-02T15:37:40.923600Z"
    }
   },
   "outputs": [],
   "source": [
    "df_raw['purchase_date'] = pd.to_datetime(df_raw['purchase_date'])\n",
    "df_raw = df_raw.sort_values('purchase_date').reset_index(drop=True)"
   ]
  },
  {
   "cell_type": "markdown",
   "id": "dc0d3fd3",
   "metadata": {},
   "source": [
    "# TRAIN AND TEST\n",
    "\n",
    "### <font color=\"red\">IMPORTANTE</font>\n",
    "\n",
    "Irei fazer uma amostra da base de dados total. Por dois motivos:\n",
    "\n",
    "- Quantidade de dados muito grande para minha máquina local processar\n",
    "- A finalidade não é necessariamente focar no resultado.\n",
    "\n",
    "pegarei então assim 20.000 registros o que representa 1% da base total.\n",
    "\n",
    "A divisão de treino e teste foi da seguinte forma, como se trata de um problema temporal, ordenei pela data\n",
    "de compra e pegueis os 30% finais e utilizei para teste, enquanto os %70 iniciais usei\n",
    "para treino.\n",
    "\n",
    "Importante que essa divisão seja feita antes de qualquer etapa para simular o que acontece no ambiente de\n",
    "produção e não existir vazamento de dados."
   ]
  },
  {
   "cell_type": "code",
   "execution_count": 65,
   "id": "776d135d",
   "metadata": {
    "ExecuteTime": {
     "end_time": "2023-06-02T15:37:42.935395Z",
     "start_time": "2023-06-02T15:37:42.815881Z"
    }
   },
   "outputs": [],
   "source": [
    "df_raw =df_raw.sample(10000)\n",
    "\n",
    "# train and test\n",
    "df_train = df_raw.head(7000)\n",
    "df_test = df_raw.tail(4000)"
   ]
  },
  {
   "cell_type": "markdown",
   "id": "95f683e4",
   "metadata": {},
   "source": [
    "\n",
    "\n",
    "### Preparações de dados para o machine learning\n",
    "\n",
    "- purchase_value: Transformar para positivo todos os registros.\n",
    "- affiliate_commission_percentual: Drop dos valores NaN.\n",
    "- is_origin_page_social_network: Tranformar para números inteiros.\n",
    "- purchase_id: Drop pois é uma informação não disponível no momento da predição.\n",
    "- purchase_date: Como temos dados sómente do mês 1 do ano de 2016 poderíamis pegar somente o dia para essa coluna. Mas irei criar uma nova coluna chamada `period_of_day`. A qual vai seguir a regra que:\n",
    "    - 0: Manhã, caso a hora da compra seja até 12h \n",
    "    - 1: Tarde, caso a hora da compra seja maior que 12h e menor ou igual a 18h\n",
    "    - 2: Noite, caso a hora da compra esteja entre 18h e 00h\n",
    "- Venda: Dropar essa coluna, pois não traz informação nenhuma para nosso conjunto de dados, já que\n",
    "todos os registros estão com valor 1.\n",
    "- product_creation_date: A partir dessa coluna pegaremos o ano, mes e dia."
   ]
  },
  {
   "cell_type": "code",
   "execution_count": 52,
   "id": "a7dbc2c3",
   "metadata": {
    "ExecuteTime": {
     "end_time": "2023-06-02T15:30:24.014901Z",
     "start_time": "2023-06-02T15:30:24.011633Z"
    }
   },
   "outputs": [],
   "source": [
    "# def get_period_of_day(hour):\n",
    "#     element = hour.hour\n",
    "#     if element>0 and element<=12:\n",
    "#         return 0\n",
    "#     elif element>12 and element<=18:\n",
    "#         return 1\n",
    "#     else:\n",
    "#         return 2"
   ]
  },
  {
   "cell_type": "code",
   "execution_count": 53,
   "id": "45a422e6",
   "metadata": {
    "ExecuteTime": {
     "end_time": "2023-06-02T15:30:24.367612Z",
     "start_time": "2023-06-02T15:30:24.358911Z"
    }
   },
   "outputs": [],
   "source": [
    "# def prepare_data_to_regression(data: pd.DataFrame) -> pd.DataFrame:\n",
    "#     \"\"\"Prepare data.\"\"\"\n",
    "#     df = data.copy()\n",
    "# \n",
    "#     # purchase_value\n",
    "#     df['purchase_value'] = df['purchase_value'].apply(lambda x: x * (-1) if x<0 else x)\n",
    "#     \n",
    "#     # affiliate_commission_percentual\n",
    "#     df = df[~df['affiliate_commission_percentual'].isna()]\n",
    "#     \n",
    "#     # is_origin_page_social_network\n",
    "#     df['is_origin_page_social_network'] = df['is_origin_page_social_network']\\\n",
    "#     .apply(lambda x: x.split(',')[0]).astype('int').copy()\n",
    "#     \n",
    "#     # purchase_date\n",
    "#     df['period_of_day'] = df['purchase_date'].apply(get_period_of_day)\n",
    "#     \n",
    "#     # product_creation_date\n",
    "#     df['year'] = pd.to_datetime(df['product_creation_date']).dt.year.astype('int64')\n",
    "#     df['month'] = pd.to_datetime(df['product_creation_date']).dt.month.astype('int64')\n",
    "#     df['day'] = pd.to_datetime(df['product_creation_date']).dt.day.astype('int64')\n",
    "#     \n",
    "#     # drop columns\n",
    "#     df = df.drop(['purchase_id', 'Venda', 'product_creation_date', 'purchase_date'], axis=1)\n",
    "# \n",
    "#     return df"
   ]
  },
  {
   "cell_type": "code",
   "execution_count": 66,
   "id": "72472a71",
   "metadata": {
    "ExecuteTime": {
     "end_time": "2023-06-02T15:38:09.208658Z",
     "start_time": "2023-06-02T15:38:09.168740Z"
    }
   },
   "outputs": [],
   "source": [
    "df_train = prepare_data_to_regression(df_train)"
   ]
  },
  {
   "cell_type": "code",
   "execution_count": 67,
   "id": "7d712cc8",
   "metadata": {
    "ExecuteTime": {
     "end_time": "2023-06-02T15:38:10.314371Z",
     "start_time": "2023-06-02T15:38:10.304317Z"
    }
   },
   "outputs": [],
   "source": [
    "x_train = df_train.drop('purchase_value', axis=1).copy()\n",
    "y_train = df_train['purchase_value'].copy()"
   ]
  },
  {
   "cell_type": "code",
   "execution_count": 68,
   "id": "dbe6371b",
   "metadata": {
    "ExecuteTime": {
     "end_time": "2023-06-02T15:38:10.840267Z",
     "start_time": "2023-06-02T15:38:10.836884Z"
    }
   },
   "outputs": [],
   "source": [
    "num_columns = x_train.select_dtypes(include=[int, float]).columns.tolist()\n",
    "cat_columns = list(set(x_train.columns.tolist()) - set(num_columns)) "
   ]
  },
  {
   "cell_type": "code",
   "execution_count": 69,
   "id": "8d1551f5",
   "metadata": {
    "ExecuteTime": {
     "end_time": "2023-06-02T15:38:11.530176Z",
     "start_time": "2023-06-02T15:38:11.524385Z"
    }
   },
   "outputs": [],
   "source": [
    "num = Pipeline([\n",
    "    ('mediana', SimpleImputer(strategy='median'))\n",
    "])\n",
    "\n",
    "cat = Pipeline([\n",
    "    ('freq', SimpleImputer(strategy='most_frequent'))\n",
    "])\n",
    "\n",
    "fillna = ColumnTransformer(transformers=[\n",
    "    ('num', num, num_columns),\n",
    "    ('freq', cat, cat_columns)\n",
    "])\n",
    "\n",
    "\n",
    "pipe = Pipeline([\n",
    "    ('fillna', fillna),\n",
    "    ('on', CountEncoder()),\n",
    "     ('scaler', StandardScaler()),\n",
    "     ('clf', RandomForestRegressor())\n",
    " ])"
   ]
  },
  {
   "cell_type": "code",
   "execution_count": 70,
   "id": "cd98c7fb",
   "metadata": {
    "ExecuteTime": {
     "end_time": "2023-06-02T15:38:42.009475Z",
     "start_time": "2023-06-02T15:38:13.055518Z"
    }
   },
   "outputs": [
    {
     "name": "stdout",
     "output_type": "stream",
     "text": [
      "Fitting 5 folds for each of 15 candidates, totalling 75 fits\n"
     ]
    },
    {
     "ename": "KeyboardInterrupt",
     "evalue": "",
     "output_type": "error",
     "traceback": [
      "\u001b[0;31m---------------------------------------------------------------------------\u001b[0m",
      "\u001b[0;31mKeyboardInterrupt\u001b[0m                         Traceback (most recent call last)",
      "Cell \u001b[0;32mIn[70], line 8\u001b[0m\n\u001b[1;32m      2\u001b[0m params \u001b[38;5;241m=\u001b[39m {\n\u001b[1;32m      3\u001b[0m     \u001b[38;5;124m'\u001b[39m\u001b[38;5;124mclf__n_estimators\u001b[39m\u001b[38;5;124m'\u001b[39m: [\u001b[38;5;241m100\u001b[39m, \u001b[38;5;241m500\u001b[39m, \u001b[38;5;241m1000\u001b[39m],\n\u001b[1;32m      4\u001b[0m     \u001b[38;5;124m'\u001b[39m\u001b[38;5;124mclf__max_depth\u001b[39m\u001b[38;5;124m'\u001b[39m: \u001b[38;5;28mlist\u001b[39m(\u001b[38;5;28mrange\u001b[39m(\u001b[38;5;241m1\u001b[39m,\u001b[38;5;241m10\u001b[39m)),\n\u001b[1;32m      5\u001b[0m }\n\u001b[1;32m      7\u001b[0m model \u001b[38;5;241m=\u001b[39m RandomizedSearchCV(estimator\u001b[38;5;241m=\u001b[39mpipe, param_distributions\u001b[38;5;241m=\u001b[39mparams, scoring\u001b[38;5;241m=\u001b[39m\u001b[38;5;124m'\u001b[39m\u001b[38;5;124mr2\u001b[39m\u001b[38;5;124m'\u001b[39m, cv\u001b[38;5;241m=\u001b[39m\u001b[38;5;241m5\u001b[39m, n_iter\u001b[38;5;241m=\u001b[39m\u001b[38;5;241m15\u001b[39m, verbose\u001b[38;5;241m=\u001b[39m\u001b[38;5;28;01mTrue\u001b[39;00m)\n\u001b[0;32m----> 8\u001b[0m \u001b[43mmodel\u001b[49m\u001b[38;5;241;43m.\u001b[39;49m\u001b[43mfit\u001b[49m\u001b[43m(\u001b[49m\u001b[43mx_train\u001b[49m\u001b[43m,\u001b[49m\u001b[43m \u001b[49m\u001b[43my_train\u001b[49m\u001b[43m)\u001b[49m\n",
      "File \u001b[0;32m~/miniconda3/envs/hotmart/lib/python3.11/site-packages/sklearn/model_selection/_search.py:874\u001b[0m, in \u001b[0;36mBaseSearchCV.fit\u001b[0;34m(self, X, y, groups, **fit_params)\u001b[0m\n\u001b[1;32m    868\u001b[0m     results \u001b[38;5;241m=\u001b[39m \u001b[38;5;28mself\u001b[39m\u001b[38;5;241m.\u001b[39m_format_results(\n\u001b[1;32m    869\u001b[0m         all_candidate_params, n_splits, all_out, all_more_results\n\u001b[1;32m    870\u001b[0m     )\n\u001b[1;32m    872\u001b[0m     \u001b[38;5;28;01mreturn\u001b[39;00m results\n\u001b[0;32m--> 874\u001b[0m \u001b[38;5;28;43mself\u001b[39;49m\u001b[38;5;241;43m.\u001b[39;49m\u001b[43m_run_search\u001b[49m\u001b[43m(\u001b[49m\u001b[43mevaluate_candidates\u001b[49m\u001b[43m)\u001b[49m\n\u001b[1;32m    876\u001b[0m \u001b[38;5;66;03m# multimetric is determined here because in the case of a callable\u001b[39;00m\n\u001b[1;32m    877\u001b[0m \u001b[38;5;66;03m# self.scoring the return type is only known after calling\u001b[39;00m\n\u001b[1;32m    878\u001b[0m first_test_score \u001b[38;5;241m=\u001b[39m all_out[\u001b[38;5;241m0\u001b[39m][\u001b[38;5;124m\"\u001b[39m\u001b[38;5;124mtest_scores\u001b[39m\u001b[38;5;124m\"\u001b[39m]\n",
      "File \u001b[0;32m~/miniconda3/envs/hotmart/lib/python3.11/site-packages/sklearn/model_selection/_search.py:1768\u001b[0m, in \u001b[0;36mRandomizedSearchCV._run_search\u001b[0;34m(self, evaluate_candidates)\u001b[0m\n\u001b[1;32m   1766\u001b[0m \u001b[38;5;28;01mdef\u001b[39;00m \u001b[38;5;21m_run_search\u001b[39m(\u001b[38;5;28mself\u001b[39m, evaluate_candidates):\n\u001b[1;32m   1767\u001b[0m \u001b[38;5;250m    \u001b[39m\u001b[38;5;124;03m\"\"\"Search n_iter candidates from param_distributions\"\"\"\u001b[39;00m\n\u001b[0;32m-> 1768\u001b[0m     \u001b[43mevaluate_candidates\u001b[49m\u001b[43m(\u001b[49m\n\u001b[1;32m   1769\u001b[0m \u001b[43m        \u001b[49m\u001b[43mParameterSampler\u001b[49m\u001b[43m(\u001b[49m\n\u001b[1;32m   1770\u001b[0m \u001b[43m            \u001b[49m\u001b[38;5;28;43mself\u001b[39;49m\u001b[38;5;241;43m.\u001b[39;49m\u001b[43mparam_distributions\u001b[49m\u001b[43m,\u001b[49m\u001b[43m \u001b[49m\u001b[38;5;28;43mself\u001b[39;49m\u001b[38;5;241;43m.\u001b[39;49m\u001b[43mn_iter\u001b[49m\u001b[43m,\u001b[49m\u001b[43m \u001b[49m\u001b[43mrandom_state\u001b[49m\u001b[38;5;241;43m=\u001b[39;49m\u001b[38;5;28;43mself\u001b[39;49m\u001b[38;5;241;43m.\u001b[39;49m\u001b[43mrandom_state\u001b[49m\n\u001b[1;32m   1771\u001b[0m \u001b[43m        \u001b[49m\u001b[43m)\u001b[49m\n\u001b[1;32m   1772\u001b[0m \u001b[43m    \u001b[49m\u001b[43m)\u001b[49m\n",
      "File \u001b[0;32m~/miniconda3/envs/hotmart/lib/python3.11/site-packages/sklearn/model_selection/_search.py:821\u001b[0m, in \u001b[0;36mBaseSearchCV.fit.<locals>.evaluate_candidates\u001b[0;34m(candidate_params, cv, more_results)\u001b[0m\n\u001b[1;32m    813\u001b[0m \u001b[38;5;28;01mif\u001b[39;00m \u001b[38;5;28mself\u001b[39m\u001b[38;5;241m.\u001b[39mverbose \u001b[38;5;241m>\u001b[39m \u001b[38;5;241m0\u001b[39m:\n\u001b[1;32m    814\u001b[0m     \u001b[38;5;28mprint\u001b[39m(\n\u001b[1;32m    815\u001b[0m         \u001b[38;5;124m\"\u001b[39m\u001b[38;5;124mFitting \u001b[39m\u001b[38;5;132;01m{0}\u001b[39;00m\u001b[38;5;124m folds for each of \u001b[39m\u001b[38;5;132;01m{1}\u001b[39;00m\u001b[38;5;124m candidates,\u001b[39m\u001b[38;5;124m\"\u001b[39m\n\u001b[1;32m    816\u001b[0m         \u001b[38;5;124m\"\u001b[39m\u001b[38;5;124m totalling \u001b[39m\u001b[38;5;132;01m{2}\u001b[39;00m\u001b[38;5;124m fits\u001b[39m\u001b[38;5;124m\"\u001b[39m\u001b[38;5;241m.\u001b[39mformat(\n\u001b[1;32m    817\u001b[0m             n_splits, n_candidates, n_candidates \u001b[38;5;241m*\u001b[39m n_splits\n\u001b[1;32m    818\u001b[0m         )\n\u001b[1;32m    819\u001b[0m     )\n\u001b[0;32m--> 821\u001b[0m out \u001b[38;5;241m=\u001b[39m \u001b[43mparallel\u001b[49m\u001b[43m(\u001b[49m\n\u001b[1;32m    822\u001b[0m \u001b[43m    \u001b[49m\u001b[43mdelayed\u001b[49m\u001b[43m(\u001b[49m\u001b[43m_fit_and_score\u001b[49m\u001b[43m)\u001b[49m\u001b[43m(\u001b[49m\n\u001b[1;32m    823\u001b[0m \u001b[43m        \u001b[49m\u001b[43mclone\u001b[49m\u001b[43m(\u001b[49m\u001b[43mbase_estimator\u001b[49m\u001b[43m)\u001b[49m\u001b[43m,\u001b[49m\n\u001b[1;32m    824\u001b[0m \u001b[43m        \u001b[49m\u001b[43mX\u001b[49m\u001b[43m,\u001b[49m\n\u001b[1;32m    825\u001b[0m \u001b[43m        \u001b[49m\u001b[43my\u001b[49m\u001b[43m,\u001b[49m\n\u001b[1;32m    826\u001b[0m \u001b[43m        \u001b[49m\u001b[43mtrain\u001b[49m\u001b[38;5;241;43m=\u001b[39;49m\u001b[43mtrain\u001b[49m\u001b[43m,\u001b[49m\n\u001b[1;32m    827\u001b[0m \u001b[43m        \u001b[49m\u001b[43mtest\u001b[49m\u001b[38;5;241;43m=\u001b[39;49m\u001b[43mtest\u001b[49m\u001b[43m,\u001b[49m\n\u001b[1;32m    828\u001b[0m \u001b[43m        \u001b[49m\u001b[43mparameters\u001b[49m\u001b[38;5;241;43m=\u001b[39;49m\u001b[43mparameters\u001b[49m\u001b[43m,\u001b[49m\n\u001b[1;32m    829\u001b[0m \u001b[43m        \u001b[49m\u001b[43msplit_progress\u001b[49m\u001b[38;5;241;43m=\u001b[39;49m\u001b[43m(\u001b[49m\u001b[43msplit_idx\u001b[49m\u001b[43m,\u001b[49m\u001b[43m \u001b[49m\u001b[43mn_splits\u001b[49m\u001b[43m)\u001b[49m\u001b[43m,\u001b[49m\n\u001b[1;32m    830\u001b[0m \u001b[43m        \u001b[49m\u001b[43mcandidate_progress\u001b[49m\u001b[38;5;241;43m=\u001b[39;49m\u001b[43m(\u001b[49m\u001b[43mcand_idx\u001b[49m\u001b[43m,\u001b[49m\u001b[43m \u001b[49m\u001b[43mn_candidates\u001b[49m\u001b[43m)\u001b[49m\u001b[43m,\u001b[49m\n\u001b[1;32m    831\u001b[0m \u001b[43m        \u001b[49m\u001b[38;5;241;43m*\u001b[39;49m\u001b[38;5;241;43m*\u001b[39;49m\u001b[43mfit_and_score_kwargs\u001b[49m\u001b[43m,\u001b[49m\n\u001b[1;32m    832\u001b[0m \u001b[43m    \u001b[49m\u001b[43m)\u001b[49m\n\u001b[1;32m    833\u001b[0m \u001b[43m    \u001b[49m\u001b[38;5;28;43;01mfor\u001b[39;49;00m\u001b[43m \u001b[49m\u001b[43m(\u001b[49m\u001b[43mcand_idx\u001b[49m\u001b[43m,\u001b[49m\u001b[43m \u001b[49m\u001b[43mparameters\u001b[49m\u001b[43m)\u001b[49m\u001b[43m,\u001b[49m\u001b[43m \u001b[49m\u001b[43m(\u001b[49m\u001b[43msplit_idx\u001b[49m\u001b[43m,\u001b[49m\u001b[43m \u001b[49m\u001b[43m(\u001b[49m\u001b[43mtrain\u001b[49m\u001b[43m,\u001b[49m\u001b[43m \u001b[49m\u001b[43mtest\u001b[49m\u001b[43m)\u001b[49m\u001b[43m)\u001b[49m\u001b[43m \u001b[49m\u001b[38;5;129;43;01min\u001b[39;49;00m\u001b[43m \u001b[49m\u001b[43mproduct\u001b[49m\u001b[43m(\u001b[49m\n\u001b[1;32m    834\u001b[0m \u001b[43m        \u001b[49m\u001b[38;5;28;43menumerate\u001b[39;49m\u001b[43m(\u001b[49m\u001b[43mcandidate_params\u001b[49m\u001b[43m)\u001b[49m\u001b[43m,\u001b[49m\u001b[43m \u001b[49m\u001b[38;5;28;43menumerate\u001b[39;49m\u001b[43m(\u001b[49m\u001b[43mcv\u001b[49m\u001b[38;5;241;43m.\u001b[39;49m\u001b[43msplit\u001b[49m\u001b[43m(\u001b[49m\u001b[43mX\u001b[49m\u001b[43m,\u001b[49m\u001b[43m \u001b[49m\u001b[43my\u001b[49m\u001b[43m,\u001b[49m\u001b[43m \u001b[49m\u001b[43mgroups\u001b[49m\u001b[43m)\u001b[49m\u001b[43m)\u001b[49m\n\u001b[1;32m    835\u001b[0m \u001b[43m    \u001b[49m\u001b[43m)\u001b[49m\n\u001b[1;32m    836\u001b[0m \u001b[43m\u001b[49m\u001b[43m)\u001b[49m\n\u001b[1;32m    838\u001b[0m \u001b[38;5;28;01mif\u001b[39;00m \u001b[38;5;28mlen\u001b[39m(out) \u001b[38;5;241m<\u001b[39m \u001b[38;5;241m1\u001b[39m:\n\u001b[1;32m    839\u001b[0m     \u001b[38;5;28;01mraise\u001b[39;00m \u001b[38;5;167;01mValueError\u001b[39;00m(\n\u001b[1;32m    840\u001b[0m         \u001b[38;5;124m\"\u001b[39m\u001b[38;5;124mNo fits were performed. \u001b[39m\u001b[38;5;124m\"\u001b[39m\n\u001b[1;32m    841\u001b[0m         \u001b[38;5;124m\"\u001b[39m\u001b[38;5;124mWas the CV iterator empty? \u001b[39m\u001b[38;5;124m\"\u001b[39m\n\u001b[1;32m    842\u001b[0m         \u001b[38;5;124m\"\u001b[39m\u001b[38;5;124mWere there no candidates?\u001b[39m\u001b[38;5;124m\"\u001b[39m\n\u001b[1;32m    843\u001b[0m     )\n",
      "File \u001b[0;32m~/miniconda3/envs/hotmart/lib/python3.11/site-packages/sklearn/utils/parallel.py:63\u001b[0m, in \u001b[0;36mParallel.__call__\u001b[0;34m(self, iterable)\u001b[0m\n\u001b[1;32m     58\u001b[0m config \u001b[38;5;241m=\u001b[39m get_config()\n\u001b[1;32m     59\u001b[0m iterable_with_config \u001b[38;5;241m=\u001b[39m (\n\u001b[1;32m     60\u001b[0m     (_with_config(delayed_func, config), args, kwargs)\n\u001b[1;32m     61\u001b[0m     \u001b[38;5;28;01mfor\u001b[39;00m delayed_func, args, kwargs \u001b[38;5;129;01min\u001b[39;00m iterable\n\u001b[1;32m     62\u001b[0m )\n\u001b[0;32m---> 63\u001b[0m \u001b[38;5;28;01mreturn\u001b[39;00m \u001b[38;5;28;43msuper\u001b[39;49m\u001b[43m(\u001b[49m\u001b[43m)\u001b[49m\u001b[38;5;241;43m.\u001b[39;49m\u001b[38;5;21;43m__call__\u001b[39;49m\u001b[43m(\u001b[49m\u001b[43miterable_with_config\u001b[49m\u001b[43m)\u001b[49m\n",
      "File \u001b[0;32m~/miniconda3/envs/hotmart/lib/python3.11/site-packages/joblib/parallel.py:1088\u001b[0m, in \u001b[0;36mParallel.__call__\u001b[0;34m(self, iterable)\u001b[0m\n\u001b[1;32m   1085\u001b[0m \u001b[38;5;28;01mif\u001b[39;00m \u001b[38;5;28mself\u001b[39m\u001b[38;5;241m.\u001b[39mdispatch_one_batch(iterator):\n\u001b[1;32m   1086\u001b[0m     \u001b[38;5;28mself\u001b[39m\u001b[38;5;241m.\u001b[39m_iterating \u001b[38;5;241m=\u001b[39m \u001b[38;5;28mself\u001b[39m\u001b[38;5;241m.\u001b[39m_original_iterator \u001b[38;5;129;01mis\u001b[39;00m \u001b[38;5;129;01mnot\u001b[39;00m \u001b[38;5;28;01mNone\u001b[39;00m\n\u001b[0;32m-> 1088\u001b[0m \u001b[38;5;28;01mwhile\u001b[39;00m \u001b[38;5;28;43mself\u001b[39;49m\u001b[38;5;241;43m.\u001b[39;49m\u001b[43mdispatch_one_batch\u001b[49m\u001b[43m(\u001b[49m\u001b[43miterator\u001b[49m\u001b[43m)\u001b[49m:\n\u001b[1;32m   1089\u001b[0m     \u001b[38;5;28;01mpass\u001b[39;00m\n\u001b[1;32m   1091\u001b[0m \u001b[38;5;28;01mif\u001b[39;00m pre_dispatch \u001b[38;5;241m==\u001b[39m \u001b[38;5;124m\"\u001b[39m\u001b[38;5;124mall\u001b[39m\u001b[38;5;124m\"\u001b[39m \u001b[38;5;129;01mor\u001b[39;00m n_jobs \u001b[38;5;241m==\u001b[39m \u001b[38;5;241m1\u001b[39m:\n\u001b[1;32m   1092\u001b[0m     \u001b[38;5;66;03m# The iterable was consumed all at once by the above for loop.\u001b[39;00m\n\u001b[1;32m   1093\u001b[0m     \u001b[38;5;66;03m# No need to wait for async callbacks to trigger to\u001b[39;00m\n\u001b[1;32m   1094\u001b[0m     \u001b[38;5;66;03m# consumption.\u001b[39;00m\n",
      "File \u001b[0;32m~/miniconda3/envs/hotmart/lib/python3.11/site-packages/joblib/parallel.py:901\u001b[0m, in \u001b[0;36mParallel.dispatch_one_batch\u001b[0;34m(self, iterator)\u001b[0m\n\u001b[1;32m    899\u001b[0m     \u001b[38;5;28;01mreturn\u001b[39;00m \u001b[38;5;28;01mFalse\u001b[39;00m\n\u001b[1;32m    900\u001b[0m \u001b[38;5;28;01melse\u001b[39;00m:\n\u001b[0;32m--> 901\u001b[0m     \u001b[38;5;28;43mself\u001b[39;49m\u001b[38;5;241;43m.\u001b[39;49m\u001b[43m_dispatch\u001b[49m\u001b[43m(\u001b[49m\u001b[43mtasks\u001b[49m\u001b[43m)\u001b[49m\n\u001b[1;32m    902\u001b[0m     \u001b[38;5;28;01mreturn\u001b[39;00m \u001b[38;5;28;01mTrue\u001b[39;00m\n",
      "File \u001b[0;32m~/miniconda3/envs/hotmart/lib/python3.11/site-packages/joblib/parallel.py:819\u001b[0m, in \u001b[0;36mParallel._dispatch\u001b[0;34m(self, batch)\u001b[0m\n\u001b[1;32m    817\u001b[0m \u001b[38;5;28;01mwith\u001b[39;00m \u001b[38;5;28mself\u001b[39m\u001b[38;5;241m.\u001b[39m_lock:\n\u001b[1;32m    818\u001b[0m     job_idx \u001b[38;5;241m=\u001b[39m \u001b[38;5;28mlen\u001b[39m(\u001b[38;5;28mself\u001b[39m\u001b[38;5;241m.\u001b[39m_jobs)\n\u001b[0;32m--> 819\u001b[0m     job \u001b[38;5;241m=\u001b[39m \u001b[38;5;28;43mself\u001b[39;49m\u001b[38;5;241;43m.\u001b[39;49m\u001b[43m_backend\u001b[49m\u001b[38;5;241;43m.\u001b[39;49m\u001b[43mapply_async\u001b[49m\u001b[43m(\u001b[49m\u001b[43mbatch\u001b[49m\u001b[43m,\u001b[49m\u001b[43m \u001b[49m\u001b[43mcallback\u001b[49m\u001b[38;5;241;43m=\u001b[39;49m\u001b[43mcb\u001b[49m\u001b[43m)\u001b[49m\n\u001b[1;32m    820\u001b[0m     \u001b[38;5;66;03m# A job can complete so quickly than its callback is\u001b[39;00m\n\u001b[1;32m    821\u001b[0m     \u001b[38;5;66;03m# called before we get here, causing self._jobs to\u001b[39;00m\n\u001b[1;32m    822\u001b[0m     \u001b[38;5;66;03m# grow. To ensure correct results ordering, .insert is\u001b[39;00m\n\u001b[1;32m    823\u001b[0m     \u001b[38;5;66;03m# used (rather than .append) in the following line\u001b[39;00m\n\u001b[1;32m    824\u001b[0m     \u001b[38;5;28mself\u001b[39m\u001b[38;5;241m.\u001b[39m_jobs\u001b[38;5;241m.\u001b[39minsert(job_idx, job)\n",
      "File \u001b[0;32m~/miniconda3/envs/hotmart/lib/python3.11/site-packages/joblib/_parallel_backends.py:208\u001b[0m, in \u001b[0;36mSequentialBackend.apply_async\u001b[0;34m(self, func, callback)\u001b[0m\n\u001b[1;32m    206\u001b[0m \u001b[38;5;28;01mdef\u001b[39;00m \u001b[38;5;21mapply_async\u001b[39m(\u001b[38;5;28mself\u001b[39m, func, callback\u001b[38;5;241m=\u001b[39m\u001b[38;5;28;01mNone\u001b[39;00m):\n\u001b[1;32m    207\u001b[0m \u001b[38;5;250m    \u001b[39m\u001b[38;5;124;03m\"\"\"Schedule a func to be run\"\"\"\u001b[39;00m\n\u001b[0;32m--> 208\u001b[0m     result \u001b[38;5;241m=\u001b[39m \u001b[43mImmediateResult\u001b[49m\u001b[43m(\u001b[49m\u001b[43mfunc\u001b[49m\u001b[43m)\u001b[49m\n\u001b[1;32m    209\u001b[0m     \u001b[38;5;28;01mif\u001b[39;00m callback:\n\u001b[1;32m    210\u001b[0m         callback(result)\n",
      "File \u001b[0;32m~/miniconda3/envs/hotmart/lib/python3.11/site-packages/joblib/_parallel_backends.py:597\u001b[0m, in \u001b[0;36mImmediateResult.__init__\u001b[0;34m(self, batch)\u001b[0m\n\u001b[1;32m    594\u001b[0m \u001b[38;5;28;01mdef\u001b[39;00m \u001b[38;5;21m__init__\u001b[39m(\u001b[38;5;28mself\u001b[39m, batch):\n\u001b[1;32m    595\u001b[0m     \u001b[38;5;66;03m# Don't delay the application, to avoid keeping the input\u001b[39;00m\n\u001b[1;32m    596\u001b[0m     \u001b[38;5;66;03m# arguments in memory\u001b[39;00m\n\u001b[0;32m--> 597\u001b[0m     \u001b[38;5;28mself\u001b[39m\u001b[38;5;241m.\u001b[39mresults \u001b[38;5;241m=\u001b[39m \u001b[43mbatch\u001b[49m\u001b[43m(\u001b[49m\u001b[43m)\u001b[49m\n",
      "File \u001b[0;32m~/miniconda3/envs/hotmart/lib/python3.11/site-packages/joblib/parallel.py:288\u001b[0m, in \u001b[0;36mBatchedCalls.__call__\u001b[0;34m(self)\u001b[0m\n\u001b[1;32m    284\u001b[0m \u001b[38;5;28;01mdef\u001b[39;00m \u001b[38;5;21m__call__\u001b[39m(\u001b[38;5;28mself\u001b[39m):\n\u001b[1;32m    285\u001b[0m     \u001b[38;5;66;03m# Set the default nested backend to self._backend but do not set the\u001b[39;00m\n\u001b[1;32m    286\u001b[0m     \u001b[38;5;66;03m# change the default number of processes to -1\u001b[39;00m\n\u001b[1;32m    287\u001b[0m     \u001b[38;5;28;01mwith\u001b[39;00m parallel_backend(\u001b[38;5;28mself\u001b[39m\u001b[38;5;241m.\u001b[39m_backend, n_jobs\u001b[38;5;241m=\u001b[39m\u001b[38;5;28mself\u001b[39m\u001b[38;5;241m.\u001b[39m_n_jobs):\n\u001b[0;32m--> 288\u001b[0m         \u001b[38;5;28;01mreturn\u001b[39;00m \u001b[43m[\u001b[49m\u001b[43mfunc\u001b[49m\u001b[43m(\u001b[49m\u001b[38;5;241;43m*\u001b[39;49m\u001b[43margs\u001b[49m\u001b[43m,\u001b[49m\u001b[43m \u001b[49m\u001b[38;5;241;43m*\u001b[39;49m\u001b[38;5;241;43m*\u001b[39;49m\u001b[43mkwargs\u001b[49m\u001b[43m)\u001b[49m\n\u001b[1;32m    289\u001b[0m \u001b[43m                \u001b[49m\u001b[38;5;28;43;01mfor\u001b[39;49;00m\u001b[43m \u001b[49m\u001b[43mfunc\u001b[49m\u001b[43m,\u001b[49m\u001b[43m \u001b[49m\u001b[43margs\u001b[49m\u001b[43m,\u001b[49m\u001b[43m \u001b[49m\u001b[43mkwargs\u001b[49m\u001b[43m \u001b[49m\u001b[38;5;129;43;01min\u001b[39;49;00m\u001b[43m \u001b[49m\u001b[38;5;28;43mself\u001b[39;49m\u001b[38;5;241;43m.\u001b[39;49m\u001b[43mitems\u001b[49m\u001b[43m]\u001b[49m\n",
      "File \u001b[0;32m~/miniconda3/envs/hotmart/lib/python3.11/site-packages/joblib/parallel.py:288\u001b[0m, in \u001b[0;36m<listcomp>\u001b[0;34m(.0)\u001b[0m\n\u001b[1;32m    284\u001b[0m \u001b[38;5;28;01mdef\u001b[39;00m \u001b[38;5;21m__call__\u001b[39m(\u001b[38;5;28mself\u001b[39m):\n\u001b[1;32m    285\u001b[0m     \u001b[38;5;66;03m# Set the default nested backend to self._backend but do not set the\u001b[39;00m\n\u001b[1;32m    286\u001b[0m     \u001b[38;5;66;03m# change the default number of processes to -1\u001b[39;00m\n\u001b[1;32m    287\u001b[0m     \u001b[38;5;28;01mwith\u001b[39;00m parallel_backend(\u001b[38;5;28mself\u001b[39m\u001b[38;5;241m.\u001b[39m_backend, n_jobs\u001b[38;5;241m=\u001b[39m\u001b[38;5;28mself\u001b[39m\u001b[38;5;241m.\u001b[39m_n_jobs):\n\u001b[0;32m--> 288\u001b[0m         \u001b[38;5;28;01mreturn\u001b[39;00m [\u001b[43mfunc\u001b[49m\u001b[43m(\u001b[49m\u001b[38;5;241;43m*\u001b[39;49m\u001b[43margs\u001b[49m\u001b[43m,\u001b[49m\u001b[43m \u001b[49m\u001b[38;5;241;43m*\u001b[39;49m\u001b[38;5;241;43m*\u001b[39;49m\u001b[43mkwargs\u001b[49m\u001b[43m)\u001b[49m\n\u001b[1;32m    289\u001b[0m                 \u001b[38;5;28;01mfor\u001b[39;00m func, args, kwargs \u001b[38;5;129;01min\u001b[39;00m \u001b[38;5;28mself\u001b[39m\u001b[38;5;241m.\u001b[39mitems]\n",
      "File \u001b[0;32m~/miniconda3/envs/hotmart/lib/python3.11/site-packages/sklearn/utils/parallel.py:123\u001b[0m, in \u001b[0;36m_FuncWrapper.__call__\u001b[0;34m(self, *args, **kwargs)\u001b[0m\n\u001b[1;32m    121\u001b[0m     config \u001b[38;5;241m=\u001b[39m {}\n\u001b[1;32m    122\u001b[0m \u001b[38;5;28;01mwith\u001b[39;00m config_context(\u001b[38;5;241m*\u001b[39m\u001b[38;5;241m*\u001b[39mconfig):\n\u001b[0;32m--> 123\u001b[0m     \u001b[38;5;28;01mreturn\u001b[39;00m \u001b[38;5;28;43mself\u001b[39;49m\u001b[38;5;241;43m.\u001b[39;49m\u001b[43mfunction\u001b[49m\u001b[43m(\u001b[49m\u001b[38;5;241;43m*\u001b[39;49m\u001b[43margs\u001b[49m\u001b[43m,\u001b[49m\u001b[43m \u001b[49m\u001b[38;5;241;43m*\u001b[39;49m\u001b[38;5;241;43m*\u001b[39;49m\u001b[43mkwargs\u001b[49m\u001b[43m)\u001b[49m\n",
      "File \u001b[0;32m~/miniconda3/envs/hotmart/lib/python3.11/site-packages/sklearn/model_selection/_validation.py:686\u001b[0m, in \u001b[0;36m_fit_and_score\u001b[0;34m(estimator, X, y, scorer, train, test, verbose, parameters, fit_params, return_train_score, return_parameters, return_n_test_samples, return_times, return_estimator, split_progress, candidate_progress, error_score)\u001b[0m\n\u001b[1;32m    684\u001b[0m         estimator\u001b[38;5;241m.\u001b[39mfit(X_train, \u001b[38;5;241m*\u001b[39m\u001b[38;5;241m*\u001b[39mfit_params)\n\u001b[1;32m    685\u001b[0m     \u001b[38;5;28;01melse\u001b[39;00m:\n\u001b[0;32m--> 686\u001b[0m         \u001b[43mestimator\u001b[49m\u001b[38;5;241;43m.\u001b[39;49m\u001b[43mfit\u001b[49m\u001b[43m(\u001b[49m\u001b[43mX_train\u001b[49m\u001b[43m,\u001b[49m\u001b[43m \u001b[49m\u001b[43my_train\u001b[49m\u001b[43m,\u001b[49m\u001b[43m \u001b[49m\u001b[38;5;241;43m*\u001b[39;49m\u001b[38;5;241;43m*\u001b[39;49m\u001b[43mfit_params\u001b[49m\u001b[43m)\u001b[49m\n\u001b[1;32m    688\u001b[0m \u001b[38;5;28;01mexcept\u001b[39;00m \u001b[38;5;167;01mException\u001b[39;00m:\n\u001b[1;32m    689\u001b[0m     \u001b[38;5;66;03m# Note fit time as time until error\u001b[39;00m\n\u001b[1;32m    690\u001b[0m     fit_time \u001b[38;5;241m=\u001b[39m time\u001b[38;5;241m.\u001b[39mtime() \u001b[38;5;241m-\u001b[39m start_time\n",
      "File \u001b[0;32m~/miniconda3/envs/hotmart/lib/python3.11/site-packages/sklearn/pipeline.py:405\u001b[0m, in \u001b[0;36mPipeline.fit\u001b[0;34m(self, X, y, **fit_params)\u001b[0m\n\u001b[1;32m    403\u001b[0m     \u001b[38;5;28;01mif\u001b[39;00m \u001b[38;5;28mself\u001b[39m\u001b[38;5;241m.\u001b[39m_final_estimator \u001b[38;5;241m!=\u001b[39m \u001b[38;5;124m\"\u001b[39m\u001b[38;5;124mpassthrough\u001b[39m\u001b[38;5;124m\"\u001b[39m:\n\u001b[1;32m    404\u001b[0m         fit_params_last_step \u001b[38;5;241m=\u001b[39m fit_params_steps[\u001b[38;5;28mself\u001b[39m\u001b[38;5;241m.\u001b[39msteps[\u001b[38;5;241m-\u001b[39m\u001b[38;5;241m1\u001b[39m][\u001b[38;5;241m0\u001b[39m]]\n\u001b[0;32m--> 405\u001b[0m         \u001b[38;5;28;43mself\u001b[39;49m\u001b[38;5;241;43m.\u001b[39;49m\u001b[43m_final_estimator\u001b[49m\u001b[38;5;241;43m.\u001b[39;49m\u001b[43mfit\u001b[49m\u001b[43m(\u001b[49m\u001b[43mXt\u001b[49m\u001b[43m,\u001b[49m\u001b[43m \u001b[49m\u001b[43my\u001b[49m\u001b[43m,\u001b[49m\u001b[43m \u001b[49m\u001b[38;5;241;43m*\u001b[39;49m\u001b[38;5;241;43m*\u001b[39;49m\u001b[43mfit_params_last_step\u001b[49m\u001b[43m)\u001b[49m\n\u001b[1;32m    407\u001b[0m \u001b[38;5;28;01mreturn\u001b[39;00m \u001b[38;5;28mself\u001b[39m\n",
      "File \u001b[0;32m~/miniconda3/envs/hotmart/lib/python3.11/site-packages/sklearn/ensemble/_forest.py:473\u001b[0m, in \u001b[0;36mBaseForest.fit\u001b[0;34m(self, X, y, sample_weight)\u001b[0m\n\u001b[1;32m    462\u001b[0m trees \u001b[38;5;241m=\u001b[39m [\n\u001b[1;32m    463\u001b[0m     \u001b[38;5;28mself\u001b[39m\u001b[38;5;241m.\u001b[39m_make_estimator(append\u001b[38;5;241m=\u001b[39m\u001b[38;5;28;01mFalse\u001b[39;00m, random_state\u001b[38;5;241m=\u001b[39mrandom_state)\n\u001b[1;32m    464\u001b[0m     \u001b[38;5;28;01mfor\u001b[39;00m i \u001b[38;5;129;01min\u001b[39;00m \u001b[38;5;28mrange\u001b[39m(n_more_estimators)\n\u001b[1;32m    465\u001b[0m ]\n\u001b[1;32m    467\u001b[0m \u001b[38;5;66;03m# Parallel loop: we prefer the threading backend as the Cython code\u001b[39;00m\n\u001b[1;32m    468\u001b[0m \u001b[38;5;66;03m# for fitting the trees is internally releasing the Python GIL\u001b[39;00m\n\u001b[1;32m    469\u001b[0m \u001b[38;5;66;03m# making threading more efficient than multiprocessing in\u001b[39;00m\n\u001b[1;32m    470\u001b[0m \u001b[38;5;66;03m# that case. However, for joblib 0.12+ we respect any\u001b[39;00m\n\u001b[1;32m    471\u001b[0m \u001b[38;5;66;03m# parallel_backend contexts set at a higher level,\u001b[39;00m\n\u001b[1;32m    472\u001b[0m \u001b[38;5;66;03m# since correctness does not rely on using threads.\u001b[39;00m\n\u001b[0;32m--> 473\u001b[0m trees \u001b[38;5;241m=\u001b[39m \u001b[43mParallel\u001b[49m\u001b[43m(\u001b[49m\n\u001b[1;32m    474\u001b[0m \u001b[43m    \u001b[49m\u001b[43mn_jobs\u001b[49m\u001b[38;5;241;43m=\u001b[39;49m\u001b[38;5;28;43mself\u001b[39;49m\u001b[38;5;241;43m.\u001b[39;49m\u001b[43mn_jobs\u001b[49m\u001b[43m,\u001b[49m\n\u001b[1;32m    475\u001b[0m \u001b[43m    \u001b[49m\u001b[43mverbose\u001b[49m\u001b[38;5;241;43m=\u001b[39;49m\u001b[38;5;28;43mself\u001b[39;49m\u001b[38;5;241;43m.\u001b[39;49m\u001b[43mverbose\u001b[49m\u001b[43m,\u001b[49m\n\u001b[1;32m    476\u001b[0m \u001b[43m    \u001b[49m\u001b[43mprefer\u001b[49m\u001b[38;5;241;43m=\u001b[39;49m\u001b[38;5;124;43m\"\u001b[39;49m\u001b[38;5;124;43mthreads\u001b[39;49m\u001b[38;5;124;43m\"\u001b[39;49m\u001b[43m,\u001b[49m\n\u001b[1;32m    477\u001b[0m \u001b[43m\u001b[49m\u001b[43m)\u001b[49m\u001b[43m(\u001b[49m\n\u001b[1;32m    478\u001b[0m \u001b[43m    \u001b[49m\u001b[43mdelayed\u001b[49m\u001b[43m(\u001b[49m\u001b[43m_parallel_build_trees\u001b[49m\u001b[43m)\u001b[49m\u001b[43m(\u001b[49m\n\u001b[1;32m    479\u001b[0m \u001b[43m        \u001b[49m\u001b[43mt\u001b[49m\u001b[43m,\u001b[49m\n\u001b[1;32m    480\u001b[0m \u001b[43m        \u001b[49m\u001b[38;5;28;43mself\u001b[39;49m\u001b[38;5;241;43m.\u001b[39;49m\u001b[43mbootstrap\u001b[49m\u001b[43m,\u001b[49m\n\u001b[1;32m    481\u001b[0m \u001b[43m        \u001b[49m\u001b[43mX\u001b[49m\u001b[43m,\u001b[49m\n\u001b[1;32m    482\u001b[0m \u001b[43m        \u001b[49m\u001b[43my\u001b[49m\u001b[43m,\u001b[49m\n\u001b[1;32m    483\u001b[0m \u001b[43m        \u001b[49m\u001b[43msample_weight\u001b[49m\u001b[43m,\u001b[49m\n\u001b[1;32m    484\u001b[0m \u001b[43m        \u001b[49m\u001b[43mi\u001b[49m\u001b[43m,\u001b[49m\n\u001b[1;32m    485\u001b[0m \u001b[43m        \u001b[49m\u001b[38;5;28;43mlen\u001b[39;49m\u001b[43m(\u001b[49m\u001b[43mtrees\u001b[49m\u001b[43m)\u001b[49m\u001b[43m,\u001b[49m\n\u001b[1;32m    486\u001b[0m \u001b[43m        \u001b[49m\u001b[43mverbose\u001b[49m\u001b[38;5;241;43m=\u001b[39;49m\u001b[38;5;28;43mself\u001b[39;49m\u001b[38;5;241;43m.\u001b[39;49m\u001b[43mverbose\u001b[49m\u001b[43m,\u001b[49m\n\u001b[1;32m    487\u001b[0m \u001b[43m        \u001b[49m\u001b[43mclass_weight\u001b[49m\u001b[38;5;241;43m=\u001b[39;49m\u001b[38;5;28;43mself\u001b[39;49m\u001b[38;5;241;43m.\u001b[39;49m\u001b[43mclass_weight\u001b[49m\u001b[43m,\u001b[49m\n\u001b[1;32m    488\u001b[0m \u001b[43m        \u001b[49m\u001b[43mn_samples_bootstrap\u001b[49m\u001b[38;5;241;43m=\u001b[39;49m\u001b[43mn_samples_bootstrap\u001b[49m\u001b[43m,\u001b[49m\n\u001b[1;32m    489\u001b[0m \u001b[43m    \u001b[49m\u001b[43m)\u001b[49m\n\u001b[1;32m    490\u001b[0m \u001b[43m    \u001b[49m\u001b[38;5;28;43;01mfor\u001b[39;49;00m\u001b[43m \u001b[49m\u001b[43mi\u001b[49m\u001b[43m,\u001b[49m\u001b[43m \u001b[49m\u001b[43mt\u001b[49m\u001b[43m \u001b[49m\u001b[38;5;129;43;01min\u001b[39;49;00m\u001b[43m \u001b[49m\u001b[38;5;28;43menumerate\u001b[39;49m\u001b[43m(\u001b[49m\u001b[43mtrees\u001b[49m\u001b[43m)\u001b[49m\n\u001b[1;32m    491\u001b[0m \u001b[43m\u001b[49m\u001b[43m)\u001b[49m\n\u001b[1;32m    493\u001b[0m \u001b[38;5;66;03m# Collect newly grown trees\u001b[39;00m\n\u001b[1;32m    494\u001b[0m \u001b[38;5;28mself\u001b[39m\u001b[38;5;241m.\u001b[39mestimators_\u001b[38;5;241m.\u001b[39mextend(trees)\n",
      "File \u001b[0;32m~/miniconda3/envs/hotmart/lib/python3.11/site-packages/sklearn/utils/parallel.py:63\u001b[0m, in \u001b[0;36mParallel.__call__\u001b[0;34m(self, iterable)\u001b[0m\n\u001b[1;32m     58\u001b[0m config \u001b[38;5;241m=\u001b[39m get_config()\n\u001b[1;32m     59\u001b[0m iterable_with_config \u001b[38;5;241m=\u001b[39m (\n\u001b[1;32m     60\u001b[0m     (_with_config(delayed_func, config), args, kwargs)\n\u001b[1;32m     61\u001b[0m     \u001b[38;5;28;01mfor\u001b[39;00m delayed_func, args, kwargs \u001b[38;5;129;01min\u001b[39;00m iterable\n\u001b[1;32m     62\u001b[0m )\n\u001b[0;32m---> 63\u001b[0m \u001b[38;5;28;01mreturn\u001b[39;00m \u001b[38;5;28;43msuper\u001b[39;49m\u001b[43m(\u001b[49m\u001b[43m)\u001b[49m\u001b[38;5;241;43m.\u001b[39;49m\u001b[38;5;21;43m__call__\u001b[39;49m\u001b[43m(\u001b[49m\u001b[43miterable_with_config\u001b[49m\u001b[43m)\u001b[49m\n",
      "File \u001b[0;32m~/miniconda3/envs/hotmart/lib/python3.11/site-packages/joblib/parallel.py:1088\u001b[0m, in \u001b[0;36mParallel.__call__\u001b[0;34m(self, iterable)\u001b[0m\n\u001b[1;32m   1085\u001b[0m \u001b[38;5;28;01mif\u001b[39;00m \u001b[38;5;28mself\u001b[39m\u001b[38;5;241m.\u001b[39mdispatch_one_batch(iterator):\n\u001b[1;32m   1086\u001b[0m     \u001b[38;5;28mself\u001b[39m\u001b[38;5;241m.\u001b[39m_iterating \u001b[38;5;241m=\u001b[39m \u001b[38;5;28mself\u001b[39m\u001b[38;5;241m.\u001b[39m_original_iterator \u001b[38;5;129;01mis\u001b[39;00m \u001b[38;5;129;01mnot\u001b[39;00m \u001b[38;5;28;01mNone\u001b[39;00m\n\u001b[0;32m-> 1088\u001b[0m \u001b[38;5;28;01mwhile\u001b[39;00m \u001b[38;5;28;43mself\u001b[39;49m\u001b[38;5;241;43m.\u001b[39;49m\u001b[43mdispatch_one_batch\u001b[49m\u001b[43m(\u001b[49m\u001b[43miterator\u001b[49m\u001b[43m)\u001b[49m:\n\u001b[1;32m   1089\u001b[0m     \u001b[38;5;28;01mpass\u001b[39;00m\n\u001b[1;32m   1091\u001b[0m \u001b[38;5;28;01mif\u001b[39;00m pre_dispatch \u001b[38;5;241m==\u001b[39m \u001b[38;5;124m\"\u001b[39m\u001b[38;5;124mall\u001b[39m\u001b[38;5;124m\"\u001b[39m \u001b[38;5;129;01mor\u001b[39;00m n_jobs \u001b[38;5;241m==\u001b[39m \u001b[38;5;241m1\u001b[39m:\n\u001b[1;32m   1092\u001b[0m     \u001b[38;5;66;03m# The iterable was consumed all at once by the above for loop.\u001b[39;00m\n\u001b[1;32m   1093\u001b[0m     \u001b[38;5;66;03m# No need to wait for async callbacks to trigger to\u001b[39;00m\n\u001b[1;32m   1094\u001b[0m     \u001b[38;5;66;03m# consumption.\u001b[39;00m\n",
      "File \u001b[0;32m~/miniconda3/envs/hotmart/lib/python3.11/site-packages/joblib/parallel.py:901\u001b[0m, in \u001b[0;36mParallel.dispatch_one_batch\u001b[0;34m(self, iterator)\u001b[0m\n\u001b[1;32m    899\u001b[0m     \u001b[38;5;28;01mreturn\u001b[39;00m \u001b[38;5;28;01mFalse\u001b[39;00m\n\u001b[1;32m    900\u001b[0m \u001b[38;5;28;01melse\u001b[39;00m:\n\u001b[0;32m--> 901\u001b[0m     \u001b[38;5;28;43mself\u001b[39;49m\u001b[38;5;241;43m.\u001b[39;49m\u001b[43m_dispatch\u001b[49m\u001b[43m(\u001b[49m\u001b[43mtasks\u001b[49m\u001b[43m)\u001b[49m\n\u001b[1;32m    902\u001b[0m     \u001b[38;5;28;01mreturn\u001b[39;00m \u001b[38;5;28;01mTrue\u001b[39;00m\n",
      "File \u001b[0;32m~/miniconda3/envs/hotmart/lib/python3.11/site-packages/joblib/parallel.py:819\u001b[0m, in \u001b[0;36mParallel._dispatch\u001b[0;34m(self, batch)\u001b[0m\n\u001b[1;32m    817\u001b[0m \u001b[38;5;28;01mwith\u001b[39;00m \u001b[38;5;28mself\u001b[39m\u001b[38;5;241m.\u001b[39m_lock:\n\u001b[1;32m    818\u001b[0m     job_idx \u001b[38;5;241m=\u001b[39m \u001b[38;5;28mlen\u001b[39m(\u001b[38;5;28mself\u001b[39m\u001b[38;5;241m.\u001b[39m_jobs)\n\u001b[0;32m--> 819\u001b[0m     job \u001b[38;5;241m=\u001b[39m \u001b[38;5;28;43mself\u001b[39;49m\u001b[38;5;241;43m.\u001b[39;49m\u001b[43m_backend\u001b[49m\u001b[38;5;241;43m.\u001b[39;49m\u001b[43mapply_async\u001b[49m\u001b[43m(\u001b[49m\u001b[43mbatch\u001b[49m\u001b[43m,\u001b[49m\u001b[43m \u001b[49m\u001b[43mcallback\u001b[49m\u001b[38;5;241;43m=\u001b[39;49m\u001b[43mcb\u001b[49m\u001b[43m)\u001b[49m\n\u001b[1;32m    820\u001b[0m     \u001b[38;5;66;03m# A job can complete so quickly than its callback is\u001b[39;00m\n\u001b[1;32m    821\u001b[0m     \u001b[38;5;66;03m# called before we get here, causing self._jobs to\u001b[39;00m\n\u001b[1;32m    822\u001b[0m     \u001b[38;5;66;03m# grow. To ensure correct results ordering, .insert is\u001b[39;00m\n\u001b[1;32m    823\u001b[0m     \u001b[38;5;66;03m# used (rather than .append) in the following line\u001b[39;00m\n\u001b[1;32m    824\u001b[0m     \u001b[38;5;28mself\u001b[39m\u001b[38;5;241m.\u001b[39m_jobs\u001b[38;5;241m.\u001b[39minsert(job_idx, job)\n",
      "File \u001b[0;32m~/miniconda3/envs/hotmart/lib/python3.11/site-packages/joblib/_parallel_backends.py:208\u001b[0m, in \u001b[0;36mSequentialBackend.apply_async\u001b[0;34m(self, func, callback)\u001b[0m\n\u001b[1;32m    206\u001b[0m \u001b[38;5;28;01mdef\u001b[39;00m \u001b[38;5;21mapply_async\u001b[39m(\u001b[38;5;28mself\u001b[39m, func, callback\u001b[38;5;241m=\u001b[39m\u001b[38;5;28;01mNone\u001b[39;00m):\n\u001b[1;32m    207\u001b[0m \u001b[38;5;250m    \u001b[39m\u001b[38;5;124;03m\"\"\"Schedule a func to be run\"\"\"\u001b[39;00m\n\u001b[0;32m--> 208\u001b[0m     result \u001b[38;5;241m=\u001b[39m \u001b[43mImmediateResult\u001b[49m\u001b[43m(\u001b[49m\u001b[43mfunc\u001b[49m\u001b[43m)\u001b[49m\n\u001b[1;32m    209\u001b[0m     \u001b[38;5;28;01mif\u001b[39;00m callback:\n\u001b[1;32m    210\u001b[0m         callback(result)\n",
      "File \u001b[0;32m~/miniconda3/envs/hotmart/lib/python3.11/site-packages/joblib/_parallel_backends.py:597\u001b[0m, in \u001b[0;36mImmediateResult.__init__\u001b[0;34m(self, batch)\u001b[0m\n\u001b[1;32m    594\u001b[0m \u001b[38;5;28;01mdef\u001b[39;00m \u001b[38;5;21m__init__\u001b[39m(\u001b[38;5;28mself\u001b[39m, batch):\n\u001b[1;32m    595\u001b[0m     \u001b[38;5;66;03m# Don't delay the application, to avoid keeping the input\u001b[39;00m\n\u001b[1;32m    596\u001b[0m     \u001b[38;5;66;03m# arguments in memory\u001b[39;00m\n\u001b[0;32m--> 597\u001b[0m     \u001b[38;5;28mself\u001b[39m\u001b[38;5;241m.\u001b[39mresults \u001b[38;5;241m=\u001b[39m \u001b[43mbatch\u001b[49m\u001b[43m(\u001b[49m\u001b[43m)\u001b[49m\n",
      "File \u001b[0;32m~/miniconda3/envs/hotmart/lib/python3.11/site-packages/joblib/parallel.py:288\u001b[0m, in \u001b[0;36mBatchedCalls.__call__\u001b[0;34m(self)\u001b[0m\n\u001b[1;32m    284\u001b[0m \u001b[38;5;28;01mdef\u001b[39;00m \u001b[38;5;21m__call__\u001b[39m(\u001b[38;5;28mself\u001b[39m):\n\u001b[1;32m    285\u001b[0m     \u001b[38;5;66;03m# Set the default nested backend to self._backend but do not set the\u001b[39;00m\n\u001b[1;32m    286\u001b[0m     \u001b[38;5;66;03m# change the default number of processes to -1\u001b[39;00m\n\u001b[1;32m    287\u001b[0m     \u001b[38;5;28;01mwith\u001b[39;00m parallel_backend(\u001b[38;5;28mself\u001b[39m\u001b[38;5;241m.\u001b[39m_backend, n_jobs\u001b[38;5;241m=\u001b[39m\u001b[38;5;28mself\u001b[39m\u001b[38;5;241m.\u001b[39m_n_jobs):\n\u001b[0;32m--> 288\u001b[0m         \u001b[38;5;28;01mreturn\u001b[39;00m \u001b[43m[\u001b[49m\u001b[43mfunc\u001b[49m\u001b[43m(\u001b[49m\u001b[38;5;241;43m*\u001b[39;49m\u001b[43margs\u001b[49m\u001b[43m,\u001b[49m\u001b[43m \u001b[49m\u001b[38;5;241;43m*\u001b[39;49m\u001b[38;5;241;43m*\u001b[39;49m\u001b[43mkwargs\u001b[49m\u001b[43m)\u001b[49m\n\u001b[1;32m    289\u001b[0m \u001b[43m                \u001b[49m\u001b[38;5;28;43;01mfor\u001b[39;49;00m\u001b[43m \u001b[49m\u001b[43mfunc\u001b[49m\u001b[43m,\u001b[49m\u001b[43m \u001b[49m\u001b[43margs\u001b[49m\u001b[43m,\u001b[49m\u001b[43m \u001b[49m\u001b[43mkwargs\u001b[49m\u001b[43m \u001b[49m\u001b[38;5;129;43;01min\u001b[39;49;00m\u001b[43m \u001b[49m\u001b[38;5;28;43mself\u001b[39;49m\u001b[38;5;241;43m.\u001b[39;49m\u001b[43mitems\u001b[49m\u001b[43m]\u001b[49m\n",
      "File \u001b[0;32m~/miniconda3/envs/hotmart/lib/python3.11/site-packages/joblib/parallel.py:288\u001b[0m, in \u001b[0;36m<listcomp>\u001b[0;34m(.0)\u001b[0m\n\u001b[1;32m    284\u001b[0m \u001b[38;5;28;01mdef\u001b[39;00m \u001b[38;5;21m__call__\u001b[39m(\u001b[38;5;28mself\u001b[39m):\n\u001b[1;32m    285\u001b[0m     \u001b[38;5;66;03m# Set the default nested backend to self._backend but do not set the\u001b[39;00m\n\u001b[1;32m    286\u001b[0m     \u001b[38;5;66;03m# change the default number of processes to -1\u001b[39;00m\n\u001b[1;32m    287\u001b[0m     \u001b[38;5;28;01mwith\u001b[39;00m parallel_backend(\u001b[38;5;28mself\u001b[39m\u001b[38;5;241m.\u001b[39m_backend, n_jobs\u001b[38;5;241m=\u001b[39m\u001b[38;5;28mself\u001b[39m\u001b[38;5;241m.\u001b[39m_n_jobs):\n\u001b[0;32m--> 288\u001b[0m         \u001b[38;5;28;01mreturn\u001b[39;00m [\u001b[43mfunc\u001b[49m\u001b[43m(\u001b[49m\u001b[38;5;241;43m*\u001b[39;49m\u001b[43margs\u001b[49m\u001b[43m,\u001b[49m\u001b[43m \u001b[49m\u001b[38;5;241;43m*\u001b[39;49m\u001b[38;5;241;43m*\u001b[39;49m\u001b[43mkwargs\u001b[49m\u001b[43m)\u001b[49m\n\u001b[1;32m    289\u001b[0m                 \u001b[38;5;28;01mfor\u001b[39;00m func, args, kwargs \u001b[38;5;129;01min\u001b[39;00m \u001b[38;5;28mself\u001b[39m\u001b[38;5;241m.\u001b[39mitems]\n",
      "File \u001b[0;32m~/miniconda3/envs/hotmart/lib/python3.11/site-packages/sklearn/utils/parallel.py:123\u001b[0m, in \u001b[0;36m_FuncWrapper.__call__\u001b[0;34m(self, *args, **kwargs)\u001b[0m\n\u001b[1;32m    121\u001b[0m     config \u001b[38;5;241m=\u001b[39m {}\n\u001b[1;32m    122\u001b[0m \u001b[38;5;28;01mwith\u001b[39;00m config_context(\u001b[38;5;241m*\u001b[39m\u001b[38;5;241m*\u001b[39mconfig):\n\u001b[0;32m--> 123\u001b[0m     \u001b[38;5;28;01mreturn\u001b[39;00m \u001b[38;5;28;43mself\u001b[39;49m\u001b[38;5;241;43m.\u001b[39;49m\u001b[43mfunction\u001b[49m\u001b[43m(\u001b[49m\u001b[38;5;241;43m*\u001b[39;49m\u001b[43margs\u001b[49m\u001b[43m,\u001b[49m\u001b[43m \u001b[49m\u001b[38;5;241;43m*\u001b[39;49m\u001b[38;5;241;43m*\u001b[39;49m\u001b[43mkwargs\u001b[49m\u001b[43m)\u001b[49m\n",
      "File \u001b[0;32m~/miniconda3/envs/hotmart/lib/python3.11/site-packages/sklearn/ensemble/_forest.py:171\u001b[0m, in \u001b[0;36m_parallel_build_trees\u001b[0;34m(tree, bootstrap, X, y, sample_weight, tree_idx, n_trees, verbose, class_weight, n_samples_bootstrap)\u001b[0m\n\u001b[1;32m    168\u001b[0m \u001b[38;5;28;01melse\u001b[39;00m:\n\u001b[1;32m    169\u001b[0m     curr_sample_weight \u001b[38;5;241m=\u001b[39m sample_weight\u001b[38;5;241m.\u001b[39mcopy()\n\u001b[0;32m--> 171\u001b[0m indices \u001b[38;5;241m=\u001b[39m \u001b[43m_generate_sample_indices\u001b[49m\u001b[43m(\u001b[49m\n\u001b[1;32m    172\u001b[0m \u001b[43m    \u001b[49m\u001b[43mtree\u001b[49m\u001b[38;5;241;43m.\u001b[39;49m\u001b[43mrandom_state\u001b[49m\u001b[43m,\u001b[49m\u001b[43m \u001b[49m\u001b[43mn_samples\u001b[49m\u001b[43m,\u001b[49m\u001b[43m \u001b[49m\u001b[43mn_samples_bootstrap\u001b[49m\n\u001b[1;32m    173\u001b[0m \u001b[43m\u001b[49m\u001b[43m)\u001b[49m\n\u001b[1;32m    174\u001b[0m sample_counts \u001b[38;5;241m=\u001b[39m np\u001b[38;5;241m.\u001b[39mbincount(indices, minlength\u001b[38;5;241m=\u001b[39mn_samples)\n\u001b[1;32m    175\u001b[0m curr_sample_weight \u001b[38;5;241m*\u001b[39m\u001b[38;5;241m=\u001b[39m sample_counts\n",
      "File \u001b[0;32m~/miniconda3/envs/hotmart/lib/python3.11/site-packages/sklearn/ensemble/_forest.py:127\u001b[0m, in \u001b[0;36m_generate_sample_indices\u001b[0;34m(random_state, n_samples, n_samples_bootstrap)\u001b[0m\n\u001b[1;32m    123\u001b[0m \u001b[38;5;28;01mdef\u001b[39;00m \u001b[38;5;21m_generate_sample_indices\u001b[39m(random_state, n_samples, n_samples_bootstrap):\n\u001b[1;32m    124\u001b[0m \u001b[38;5;250m    \u001b[39m\u001b[38;5;124;03m\"\"\"\u001b[39;00m\n\u001b[1;32m    125\u001b[0m \u001b[38;5;124;03m    Private function used to _parallel_build_trees function.\"\"\"\u001b[39;00m\n\u001b[0;32m--> 127\u001b[0m     random_instance \u001b[38;5;241m=\u001b[39m \u001b[43mcheck_random_state\u001b[49m\u001b[43m(\u001b[49m\u001b[43mrandom_state\u001b[49m\u001b[43m)\u001b[49m\n\u001b[1;32m    128\u001b[0m     sample_indices \u001b[38;5;241m=\u001b[39m random_instance\u001b[38;5;241m.\u001b[39mrandint(\u001b[38;5;241m0\u001b[39m, n_samples, n_samples_bootstrap)\n\u001b[1;32m    130\u001b[0m     \u001b[38;5;28;01mreturn\u001b[39;00m sample_indices\n",
      "File \u001b[0;32m~/miniconda3/envs/hotmart/lib/python3.11/site-packages/sklearn/utils/validation.py:1226\u001b[0m, in \u001b[0;36mcheck_random_state\u001b[0;34m(seed)\u001b[0m\n\u001b[1;32m   1224\u001b[0m     \u001b[38;5;28;01mreturn\u001b[39;00m np\u001b[38;5;241m.\u001b[39mrandom\u001b[38;5;241m.\u001b[39mmtrand\u001b[38;5;241m.\u001b[39m_rand\n\u001b[1;32m   1225\u001b[0m \u001b[38;5;28;01mif\u001b[39;00m \u001b[38;5;28misinstance\u001b[39m(seed, numbers\u001b[38;5;241m.\u001b[39mIntegral):\n\u001b[0;32m-> 1226\u001b[0m     \u001b[38;5;28;01mreturn\u001b[39;00m \u001b[43mnp\u001b[49m\u001b[38;5;241;43m.\u001b[39;49m\u001b[43mrandom\u001b[49m\u001b[38;5;241;43m.\u001b[39;49m\u001b[43mRandomState\u001b[49m\u001b[43m(\u001b[49m\u001b[43mseed\u001b[49m\u001b[43m)\u001b[49m\n\u001b[1;32m   1227\u001b[0m \u001b[38;5;28;01mif\u001b[39;00m \u001b[38;5;28misinstance\u001b[39m(seed, np\u001b[38;5;241m.\u001b[39mrandom\u001b[38;5;241m.\u001b[39mRandomState):\n\u001b[1;32m   1228\u001b[0m     \u001b[38;5;28;01mreturn\u001b[39;00m seed\n",
      "File \u001b[0;32mmtrand.pyx:184\u001b[0m, in \u001b[0;36mnumpy.random.mtrand.RandomState.__init__\u001b[0;34m()\u001b[0m\n",
      "File \u001b[0;32m_mt19937.pyx:130\u001b[0m, in \u001b[0;36mnumpy.random._mt19937.MT19937.__init__\u001b[0;34m()\u001b[0m\n",
      "File \u001b[0;32m~/miniconda3/envs/hotmart/lib/python3.11/contextlib.py:81\u001b[0m, in \u001b[0;36mContextDecorator.__call__.<locals>.inner\u001b[0;34m(*args, **kwds)\u001b[0m\n\u001b[1;32m     78\u001b[0m \u001b[38;5;129m@wraps\u001b[39m(func)\n\u001b[1;32m     79\u001b[0m \u001b[38;5;28;01mdef\u001b[39;00m \u001b[38;5;21minner\u001b[39m(\u001b[38;5;241m*\u001b[39margs, \u001b[38;5;241m*\u001b[39m\u001b[38;5;241m*\u001b[39mkwds):\n\u001b[1;32m     80\u001b[0m     \u001b[38;5;28;01mwith\u001b[39;00m \u001b[38;5;28mself\u001b[39m\u001b[38;5;241m.\u001b[39m_recreate_cm():\n\u001b[0;32m---> 81\u001b[0m         \u001b[38;5;28;01mreturn\u001b[39;00m \u001b[43mfunc\u001b[49m\u001b[43m(\u001b[49m\u001b[38;5;241;43m*\u001b[39;49m\u001b[43margs\u001b[49m\u001b[43m,\u001b[49m\u001b[43m \u001b[49m\u001b[38;5;241;43m*\u001b[39;49m\u001b[38;5;241;43m*\u001b[39;49m\u001b[43mkwds\u001b[49m\u001b[43m)\u001b[49m\n",
      "\u001b[0;31mKeyboardInterrupt\u001b[0m: "
     ]
    }
   ],
   "source": [
    "from sklearn.model_selection import RandomizedSearchCV\n",
    "params = {\n",
    "    'clf__n_estimators': [100, 500, 1000],\n",
    "    'clf__max_depth': list(range(1,10)),\n",
    "}\n",
    "\n",
    "model = RandomizedSearchCV(estimator=pipe, param_distributions=params, scoring='r2', cv=5, n_iter=15, verbose=True)\n",
    "model.fit(x_train, y_train)"
   ]
  },
  {
   "cell_type": "code",
   "execution_count": null,
   "id": "d2295beb",
   "metadata": {
    "ExecuteTime": {
     "end_time": "2023-06-02T15:37:13.121242Z",
     "start_time": "2023-06-02T15:37:13.121210Z"
    }
   },
   "outputs": [],
   "source": [
    "yhat = model.predict(x_train)\n",
    "df_erros = ml_error('Random Forest', y_train, yhat)\n",
    "df_erros"
   ]
  },
  {
   "cell_type": "code",
   "execution_count": null,
   "id": "18bc234e",
   "metadata": {
    "ExecuteTime": {
     "end_time": "2023-06-02T15:21:43.892431Z",
     "start_time": "2023-06-02T15:21:43.892404Z"
    }
   },
   "outputs": [],
   "source": [
    "import pickle"
   ]
  },
  {
   "cell_type": "code",
   "execution_count": null,
   "id": "a4b3e010",
   "metadata": {},
   "outputs": [],
   "source": [
    "# pickle.dump( model, open('src/model/model_rossman.pkl', 'wb' ) )\n"
   ]
  }
 ],
 "metadata": {
  "kernelspec": {
   "display_name": "hotmart",
   "language": "python",
   "name": "hotmart"
  },
  "language_info": {
   "codemirror_mode": {
    "name": "ipython",
    "version": 3
   },
   "file_extension": ".py",
   "mimetype": "text/x-python",
   "name": "python",
   "nbconvert_exporter": "python",
   "pygments_lexer": "ipython3",
   "version": "3.11.3"
  }
 },
 "nbformat": 4,
 "nbformat_minor": 5
}
