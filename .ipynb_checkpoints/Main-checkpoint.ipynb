{
 "cells": [
  {
   "cell_type": "code",
   "execution_count": 1,
   "id": "3db2a978",
   "metadata": {
    "ExecuteTime": {
     "end_time": "2023-06-02T16:32:02.933525Z",
     "start_time": "2023-06-02T16:32:01.091412Z"
    }
   },
   "outputs": [
    {
     "name": "stderr",
     "output_type": "stream",
     "text": [
      "Intel(R) Extension for Scikit-learn* enabled (https://github.com/intel/scikit-learn-intelex)\n"
     ]
    }
   ],
   "source": [
    "import os\n",
    "import datetime\n",
    "import pandas as pd\n",
    "import numpy as np\n",
    "import matplotlib.pyplot as plt\n",
    "import seaborn as sns\n",
    "from dotenv import load_dotenv\n",
    "from src.infra import DBConnection\n",
    "from src.utils import numeric_statistics, prepare_data, RFMModel\n",
    "from sklearn.preprocessing import StandardScaler, LabelEncoder\n",
    "from sklearn.model_selection import RandomizedSearchCV\n",
    "from sklearn.ensemble import RandomForestRegressor\n",
    "from sklearn.compose import ColumnTransformer\n",
    "from sklearn.pipeline import Pipeline\n",
    "from sklearn.impute import SimpleImputer\n",
    "from src.utils import prepare_data_to_regression, ml_error\n",
    "from category_encoders import CountEncoder\n",
    "from sklearnex import patch_sklearn\n",
    "import pickle\n",
    "\n",
    "\n",
    "%matplotlib inline\n",
    "plt.rcParams['figure.figsize'] = [10, 5]\n",
    "\n",
    "sns.set_style('darkgrid')\n",
    "sns.set_palette('deep')\n",
    "\n",
    "patch_sklearn()"
   ]
  },
  {
   "cell_type": "markdown",
   "id": "6df000bb",
   "metadata": {},
   "source": [
    "# 1.0 Get Data "
   ]
  },
  {
   "cell_type": "markdown",
   "id": "22ee378b",
   "metadata": {},
   "source": [
    "Carregamento das variáveis de ambiente para poder acessar o banco de dados. "
   ]
  },
  {
   "cell_type": "code",
   "execution_count": 2,
   "id": "bc6f00f4",
   "metadata": {
    "ExecuteTime": {
     "end_time": "2023-06-02T16:32:02.949222Z",
     "start_time": "2023-06-02T16:32:02.938512Z"
    }
   },
   "outputs": [],
   "source": [
    "load_dotenv()\n",
    "\n",
    "host = os.getenv(\"DB_HOST\")\n",
    "porta = os.getenv(\"PORT\") \n",
    "usuario = os.getenv(\"DB_USER\") \n",
    "senha = os.getenv(\"DB_PASSWORD\") \n",
    "schema = os.getenv(\"DB_SCHEMA\") \n",
    "tabela = os.getenv(\"DB_TABLE\")"
   ]
  },
  {
   "cell_type": "markdown",
   "id": "3d44d969",
   "metadata": {
    "ExecuteTime": {
     "end_time": "2023-05-31T16:10:08.782733Z",
     "start_time": "2023-05-31T16:10:08.764657Z"
    }
   },
   "source": [
    "Criei essa classe de acesso ao banco de dados para ficar menos verboso de código nesse notebook.\n",
    "\n",
    "Para utilizar a classe e pegar os dados podemos fazer o seguinte:\n",
    "\n",
    "```\n",
    "conn = DBConnection(user=usuario, password=senha, host=host, port=porta, schema=schema)\n",
    "df = conn.get_data()\n",
    "```"
   ]
  },
  {
   "cell_type": "code",
   "execution_count": 3,
   "id": "6470dc7a",
   "metadata": {
    "ExecuteTime": {
     "end_time": "2023-06-02T16:32:02.960762Z",
     "start_time": "2023-06-02T16:32:02.952330Z"
    }
   },
   "outputs": [],
   "source": [
    "# conn = DBConnection(user=usuario, password=senha, host=host, port=porta, schema=schema)\n",
    "# df = conn.get_data()"
   ]
  },
  {
   "cell_type": "markdown",
   "id": "8ce51c1c",
   "metadata": {},
   "source": [
    "\n",
    "# <font color=\"red\">OBS</font>\n",
    "\n",
    "Para não ficar fazendo consultas ao banco de dados todas as vezes que abrir esse notebook, decidi salvar\n",
    "esses dados como um arquivo .csv nesse path `src/data/data.csv`. Mas não subirei esse arquivo para o GitHub,\n",
    "pois não são dados públicos. Ou seja, só quem tem acesso é de fato quem tem acesso ao banco de dados."
   ]
  },
  {
   "cell_type": "code",
   "execution_count": 4,
   "id": "d63f8d18",
   "metadata": {
    "ExecuteTime": {
     "end_time": "2023-06-02T16:32:03.134566Z",
     "start_time": "2023-06-02T16:32:03.131244Z"
    }
   },
   "outputs": [],
   "source": [
    "path = \"src/data/data.csv\"\n",
    "# df.to_csv(path)"
   ]
  },
  {
   "cell_type": "code",
   "execution_count": 5,
   "id": "4c8119d1",
   "metadata": {
    "ExecuteTime": {
     "end_time": "2023-06-02T16:32:08.107962Z",
     "start_time": "2023-06-02T16:32:03.401577Z"
    }
   },
   "outputs": [],
   "source": [
    "df_raw = pd.read_csv(path, index_col=0)\n",
    "df = df_raw.copy()"
   ]
  },
  {
   "cell_type": "code",
   "execution_count": 6,
   "id": "d03c5728",
   "metadata": {
    "ExecuteTime": {
     "end_time": "2023-06-02T16:32:08.137417Z",
     "start_time": "2023-06-02T16:32:08.110579Z"
    }
   },
   "outputs": [
    {
     "data": {
      "text/html": [
       "<div>\n",
       "<style scoped>\n",
       "    .dataframe tbody tr th:only-of-type {\n",
       "        vertical-align: middle;\n",
       "    }\n",
       "\n",
       "    .dataframe tbody tr th {\n",
       "        vertical-align: top;\n",
       "    }\n",
       "\n",
       "    .dataframe thead th {\n",
       "        text-align: right;\n",
       "    }\n",
       "</style>\n",
       "<table border=\"1\" class=\"dataframe\">\n",
       "  <thead>\n",
       "    <tr style=\"text-align: right;\">\n",
       "      <th></th>\n",
       "      <th>purchase_id</th>\n",
       "      <th>product_id</th>\n",
       "      <th>affiliate_id</th>\n",
       "      <th>producer_id</th>\n",
       "      <th>buyer_id</th>\n",
       "      <th>purchase_date</th>\n",
       "      <th>product_creation_date</th>\n",
       "      <th>product_category</th>\n",
       "      <th>product_niche</th>\n",
       "      <th>purchase_value</th>\n",
       "      <th>affiliate_commission_percentual</th>\n",
       "      <th>purchase_device</th>\n",
       "      <th>purchase_origin</th>\n",
       "      <th>is_origin_page_social_network</th>\n",
       "      <th>Venda</th>\n",
       "    </tr>\n",
       "  </thead>\n",
       "  <tbody>\n",
       "    <tr>\n",
       "      <th>0</th>\n",
       "      <td>1663958</td>\n",
       "      <td>6640</td>\n",
       "      <td>209372</td>\n",
       "      <td>116238</td>\n",
       "      <td>1200397</td>\n",
       "      <td>2016-06-26 12:00:00</td>\n",
       "      <td>2011-03-19 15:47:36</td>\n",
       "      <td>Video</td>\n",
       "      <td>Presentation skills</td>\n",
       "      <td>-0.265302</td>\n",
       "      <td>NaN</td>\n",
       "      <td>Smart TV</td>\n",
       "      <td>Origin ef2b</td>\n",
       "      <td>0,0</td>\n",
       "      <td>1</td>\n",
       "    </tr>\n",
       "    <tr>\n",
       "      <th>1</th>\n",
       "      <td>1677087</td>\n",
       "      <td>2350</td>\n",
       "      <td>141418</td>\n",
       "      <td>2821</td>\n",
       "      <td>1083764</td>\n",
       "      <td>2016-06-26 12:00:00</td>\n",
       "      <td>2010-07-05 01:50:15</td>\n",
       "      <td>Podcast</td>\n",
       "      <td>Child psychology</td>\n",
       "      <td>-0.177077</td>\n",
       "      <td>NaN</td>\n",
       "      <td>Smart TV</td>\n",
       "      <td>Origin ef2b</td>\n",
       "      <td>0,0</td>\n",
       "      <td>1</td>\n",
       "    </tr>\n",
       "    <tr>\n",
       "      <th>2</th>\n",
       "      <td>2017360</td>\n",
       "      <td>35669</td>\n",
       "      <td>618642</td>\n",
       "      <td>618642</td>\n",
       "      <td>1436106</td>\n",
       "      <td>2016-06-26 12:00:00</td>\n",
       "      <td>2012-06-13 02:59:37</td>\n",
       "      <td>Podcast</td>\n",
       "      <td>Presentation skills</td>\n",
       "      <td>-0.468989</td>\n",
       "      <td>NaN</td>\n",
       "      <td>Smart TV</td>\n",
       "      <td>Origin ef2b</td>\n",
       "      <td>0,0</td>\n",
       "      <td>1</td>\n",
       "    </tr>\n",
       "    <tr>\n",
       "      <th>3</th>\n",
       "      <td>2017379</td>\n",
       "      <td>57998</td>\n",
       "      <td>1164511</td>\n",
       "      <td>70388</td>\n",
       "      <td>1436118</td>\n",
       "      <td>2016-06-26 12:00:00</td>\n",
       "      <td>2013-05-07 08:51:31</td>\n",
       "      <td>Podcast</td>\n",
       "      <td>Anxiety management</td>\n",
       "      <td>-0.401168</td>\n",
       "      <td>NaN</td>\n",
       "      <td>Smart TV</td>\n",
       "      <td>Origin ef2b</td>\n",
       "      <td>0,0</td>\n",
       "      <td>1</td>\n",
       "    </tr>\n",
       "    <tr>\n",
       "      <th>4</th>\n",
       "      <td>2017382</td>\n",
       "      <td>58329</td>\n",
       "      <td>1261488</td>\n",
       "      <td>221253</td>\n",
       "      <td>1386357</td>\n",
       "      <td>2016-06-26 12:00:00</td>\n",
       "      <td>2013-05-12 08:12:06</td>\n",
       "      <td>Podcast</td>\n",
       "      <td>Teaching English</td>\n",
       "      <td>-0.452489</td>\n",
       "      <td>NaN</td>\n",
       "      <td>Smart TV</td>\n",
       "      <td>Origin ef2b</td>\n",
       "      <td>0,0</td>\n",
       "      <td>1</td>\n",
       "    </tr>\n",
       "  </tbody>\n",
       "</table>\n",
       "</div>"
      ],
      "text/plain": [
       "   purchase_id  product_id  affiliate_id  producer_id  buyer_id  \\\n",
       "0      1663958        6640        209372       116238   1200397   \n",
       "1      1677087        2350        141418         2821   1083764   \n",
       "2      2017360       35669        618642       618642   1436106   \n",
       "3      2017379       57998       1164511        70388   1436118   \n",
       "4      2017382       58329       1261488       221253   1386357   \n",
       "\n",
       "         purchase_date product_creation_date product_category  \\\n",
       "0  2016-06-26 12:00:00   2011-03-19 15:47:36            Video   \n",
       "1  2016-06-26 12:00:00   2010-07-05 01:50:15          Podcast   \n",
       "2  2016-06-26 12:00:00   2012-06-13 02:59:37          Podcast   \n",
       "3  2016-06-26 12:00:00   2013-05-07 08:51:31          Podcast   \n",
       "4  2016-06-26 12:00:00   2013-05-12 08:12:06          Podcast   \n",
       "\n",
       "         product_niche  purchase_value  affiliate_commission_percentual  \\\n",
       "0  Presentation skills       -0.265302                              NaN   \n",
       "1     Child psychology       -0.177077                              NaN   \n",
       "2  Presentation skills       -0.468989                              NaN   \n",
       "3   Anxiety management       -0.401168                              NaN   \n",
       "4     Teaching English       -0.452489                              NaN   \n",
       "\n",
       "  purchase_device purchase_origin is_origin_page_social_network  Venda  \n",
       "0        Smart TV     Origin ef2b                           0,0      1  \n",
       "1        Smart TV     Origin ef2b                           0,0      1  \n",
       "2        Smart TV     Origin ef2b                           0,0      1  \n",
       "3        Smart TV     Origin ef2b                           0,0      1  \n",
       "4        Smart TV     Origin ef2b                           0,0      1  "
      ]
     },
     "execution_count": 6,
     "metadata": {},
     "output_type": "execute_result"
    }
   ],
   "source": [
    "df.head()"
   ]
  },
  {
   "cell_type": "markdown",
   "id": "af381ee9",
   "metadata": {},
   "source": [
    "# 2.0 Observações iniciais "
   ]
  },
  {
   "cell_type": "markdown",
   "id": "a5b1eb1c",
   "metadata": {},
   "source": [
    "- purchase_id: Identificação da compra na Hotmart;\n",
    "- product_id: Identificação do produto na Hotmart;\n",
    "- affiliate_id: Identificação do afiliado na Hotmart;\n",
    "- producer_id: Identificação do produtor na Hotmart;\n",
    "- buyer_id: Identificação do comprador na Hotmart;\n",
    "- purchase_date: Data e hora em que a compra foi realizada;\n",
    "- product_creation_date: Data e hora em que o produto foi criado na Hotmart;\n",
    "- product_category: categoria do produto na Hotmart. Exemplo: e-book,\n",
    "software, curso online, e-tickets, etc.;\n",
    "- product_niche: nicho de mercado que o produto faz parte. Exemplo:\n",
    "educação, saúde e bem-estar, sexualidade, etc.;\n",
    "- purchase_value: valor da compra. Esse dado, assim como nicho e categoria foi\n",
    "codificado para manter a confidencialidade. O valor apresentado no dataset é\n",
    "o z-score do valor real;\n",
    "- affiliate_commission_percentual: percentual de comissão que o afiliado\n",
    "receberá da compra;\n",
    "- purchase_device: tipo de dispositivo utilizado no momento da compra, como:\n",
    "Desktop, Mobile, Tablet, ou Outros;\n",
    "- purchase_origin: endereço do site do qual a pessoa veio antes da compra. Por\n",
    "exemplo, se uma pessoa veio do Facebook, Youtube, ou até mesmo de outra\n",
    "página no site oficial do produto;\n",
    "- is_origin_page_social_network: informa se essa compra veio de uma URL do\n",
    "Facebook, Youtube, Instagram, Pinterest, ou Twitter.\n",
    "\n",
    "## Algumas regras de negócio\n",
    "- Quando a compra for feita diretamente pelo produtor, ou seja, quando não\n",
    "houver afiliado intermediando a compra, o campo\n",
    "affiliate_commission_percentual terá valor 0, e o campo affiliate_id será\n",
    "igual ao producer_id;\n",
    "- No campo purchase_origin nós apenas consideramos o host do site. Isso quer\n",
    "dizer que, se uma pessoa veio do site www.meuproduto.com/promocoes,\n",
    "esse campo só irá retornar o valor www.meuproduto.com;"
   ]
  },
  {
   "cell_type": "markdown",
   "id": "44331c44",
   "metadata": {},
   "source": [
    "Validação da primeira regra de negócio. Nesse caso não temos **nenhum** registro onde a compra foi feita\n",
    "diretamente pelo produtor."
   ]
  },
  {
   "cell_type": "code",
   "execution_count": 7,
   "id": "f323af96",
   "metadata": {
    "ExecuteTime": {
     "end_time": "2023-06-02T16:32:08.155610Z",
     "start_time": "2023-06-02T16:32:08.139808Z"
    }
   },
   "outputs": [
    {
     "data": {
      "text/html": [
       "<div>\n",
       "<style scoped>\n",
       "    .dataframe tbody tr th:only-of-type {\n",
       "        vertical-align: middle;\n",
       "    }\n",
       "\n",
       "    .dataframe tbody tr th {\n",
       "        vertical-align: top;\n",
       "    }\n",
       "\n",
       "    .dataframe thead th {\n",
       "        text-align: right;\n",
       "    }\n",
       "</style>\n",
       "<table border=\"1\" class=\"dataframe\">\n",
       "  <thead>\n",
       "    <tr style=\"text-align: right;\">\n",
       "      <th></th>\n",
       "      <th>purchase_id</th>\n",
       "      <th>product_id</th>\n",
       "      <th>affiliate_id</th>\n",
       "      <th>producer_id</th>\n",
       "      <th>buyer_id</th>\n",
       "      <th>purchase_date</th>\n",
       "      <th>product_creation_date</th>\n",
       "      <th>product_category</th>\n",
       "      <th>product_niche</th>\n",
       "      <th>purchase_value</th>\n",
       "      <th>affiliate_commission_percentual</th>\n",
       "      <th>purchase_device</th>\n",
       "      <th>purchase_origin</th>\n",
       "      <th>is_origin_page_social_network</th>\n",
       "      <th>Venda</th>\n",
       "    </tr>\n",
       "  </thead>\n",
       "  <tbody>\n",
       "  </tbody>\n",
       "</table>\n",
       "</div>"
      ],
      "text/plain": [
       "Empty DataFrame\n",
       "Columns: [purchase_id, product_id, affiliate_id, producer_id, buyer_id, purchase_date, product_creation_date, product_category, product_niche, purchase_value, affiliate_commission_percentual, purchase_device, purchase_origin, is_origin_page_social_network, Venda]\n",
       "Index: []"
      ]
     },
     "execution_count": 7,
     "metadata": {},
     "output_type": "execute_result"
    }
   ],
   "source": [
    "df[df['product_id'] == df['affiliate_id']]"
   ]
  },
  {
   "cell_type": "markdown",
   "id": "e8d01b78",
   "metadata": {},
   "source": [
    "A coluna **purchase_origin** não possui um comportamento de host como **www.meuproduto.com**, mas irei considerar que a informação é essa mesmo. "
   ]
  },
  {
   "cell_type": "code",
   "execution_count": 8,
   "id": "aa4614a5",
   "metadata": {
    "ExecuteTime": {
     "end_time": "2023-06-02T16:32:08.374567Z",
     "start_time": "2023-06-02T16:32:08.159895Z"
    }
   },
   "outputs": [
    {
     "data": {
      "text/plain": [
       "purchase_origin\n",
       "Origin ef2b    330077\n",
       "Origin 5187    167028\n",
       "Origin adf0     77857\n",
       "Origin 18eb     28693\n",
       "Origin 3ade     13069\n",
       "                ...  \n",
       "Origin e51d         1\n",
       "Origin d5eb         1\n",
       "Origin 00ca         1\n",
       "Origin 7475         1\n",
       "Origin 290d         1\n",
       "Name: count, Length: 9603, dtype: int64"
      ]
     },
     "execution_count": 8,
     "metadata": {},
     "output_type": "execute_result"
    }
   ],
   "source": [
    "df['purchase_origin'].value_counts()"
   ]
  },
  {
   "cell_type": "markdown",
   "id": "5d98339c",
   "metadata": {},
   "source": [
    "## 2.2 SHAPE "
   ]
  },
  {
   "cell_type": "code",
   "execution_count": 9,
   "id": "86872584",
   "metadata": {
    "ExecuteTime": {
     "end_time": "2023-06-02T16:32:08.382611Z",
     "start_time": "2023-06-02T16:32:08.377023Z"
    }
   },
   "outputs": [
    {
     "data": {
      "text/plain": [
       "(1599828, 15)"
      ]
     },
     "execution_count": 9,
     "metadata": {},
     "output_type": "execute_result"
    }
   ],
   "source": [
    "df.shape"
   ]
  },
  {
   "cell_type": "markdown",
   "id": "5c7df5dc",
   "metadata": {},
   "source": [
    "# 2.3 Data Types "
   ]
  },
  {
   "cell_type": "markdown",
   "id": "51fadd63",
   "metadata": {},
   "source": [
    "Interessante mudar os tipos das colunas de id, pois apesar de serem numéricas trazem uma informação categórica.\n",
    "\n",
    "- Não faz sentido por exemplo realizar operações com o **product_id** por exemplo.\n",
    "- Variável **Venda** possui valor numérico mas trás uma informação categorica (Acredito que seja de venda caso 1 ou não caso 0) Mas nesse dataset todos os registros possuem venda como 1. Ou seja, podemos fazer um drop dela posteriormente na criação do modelo de machine learning pois ela não traz nenhuma informação para o possível modelo, já que tem valores iguais para todos os registros."
   ]
  },
  {
   "cell_type": "code",
   "execution_count": 10,
   "id": "1f96a194",
   "metadata": {
    "ExecuteTime": {
     "end_time": "2023-06-02T16:32:08.392268Z",
     "start_time": "2023-06-02T16:32:08.385432Z"
    }
   },
   "outputs": [
    {
     "data": {
      "text/plain": [
       "purchase_id                          int64\n",
       "product_id                           int64\n",
       "affiliate_id                         int64\n",
       "producer_id                          int64\n",
       "buyer_id                             int64\n",
       "purchase_date                       object\n",
       "product_creation_date               object\n",
       "product_category                    object\n",
       "product_niche                       object\n",
       "purchase_value                     float64\n",
       "affiliate_commission_percentual    float64\n",
       "purchase_device                     object\n",
       "purchase_origin                     object\n",
       "is_origin_page_social_network       object\n",
       "Venda                                int64\n",
       "dtype: object"
      ]
     },
     "execution_count": 10,
     "metadata": {},
     "output_type": "execute_result"
    }
   ],
   "source": [
    "df.dtypes"
   ]
  },
  {
   "cell_type": "code",
   "execution_count": 11,
   "id": "83953752",
   "metadata": {
    "ExecuteTime": {
     "end_time": "2023-06-02T16:32:08.407436Z",
     "start_time": "2023-06-02T16:32:08.394291Z"
    }
   },
   "outputs": [
    {
     "data": {
      "text/html": [
       "<div>\n",
       "<style scoped>\n",
       "    .dataframe tbody tr th:only-of-type {\n",
       "        vertical-align: middle;\n",
       "    }\n",
       "\n",
       "    .dataframe tbody tr th {\n",
       "        vertical-align: top;\n",
       "    }\n",
       "\n",
       "    .dataframe thead th {\n",
       "        text-align: right;\n",
       "    }\n",
       "</style>\n",
       "<table border=\"1\" class=\"dataframe\">\n",
       "  <thead>\n",
       "    <tr style=\"text-align: right;\">\n",
       "      <th></th>\n",
       "      <th>purchase_id</th>\n",
       "      <th>product_id</th>\n",
       "      <th>affiliate_id</th>\n",
       "      <th>producer_id</th>\n",
       "      <th>buyer_id</th>\n",
       "      <th>purchase_date</th>\n",
       "      <th>product_creation_date</th>\n",
       "      <th>product_category</th>\n",
       "      <th>product_niche</th>\n",
       "      <th>purchase_value</th>\n",
       "      <th>affiliate_commission_percentual</th>\n",
       "      <th>purchase_device</th>\n",
       "      <th>purchase_origin</th>\n",
       "      <th>is_origin_page_social_network</th>\n",
       "      <th>Venda</th>\n",
       "    </tr>\n",
       "  </thead>\n",
       "  <tbody>\n",
       "    <tr>\n",
       "      <th>0</th>\n",
       "      <td>1663958</td>\n",
       "      <td>6640</td>\n",
       "      <td>209372</td>\n",
       "      <td>116238</td>\n",
       "      <td>1200397</td>\n",
       "      <td>2016-06-26 12:00:00</td>\n",
       "      <td>2011-03-19 15:47:36</td>\n",
       "      <td>Video</td>\n",
       "      <td>Presentation skills</td>\n",
       "      <td>-0.265302</td>\n",
       "      <td>NaN</td>\n",
       "      <td>Smart TV</td>\n",
       "      <td>Origin ef2b</td>\n",
       "      <td>0,0</td>\n",
       "      <td>1</td>\n",
       "    </tr>\n",
       "    <tr>\n",
       "      <th>1</th>\n",
       "      <td>1677087</td>\n",
       "      <td>2350</td>\n",
       "      <td>141418</td>\n",
       "      <td>2821</td>\n",
       "      <td>1083764</td>\n",
       "      <td>2016-06-26 12:00:00</td>\n",
       "      <td>2010-07-05 01:50:15</td>\n",
       "      <td>Podcast</td>\n",
       "      <td>Child psychology</td>\n",
       "      <td>-0.177077</td>\n",
       "      <td>NaN</td>\n",
       "      <td>Smart TV</td>\n",
       "      <td>Origin ef2b</td>\n",
       "      <td>0,0</td>\n",
       "      <td>1</td>\n",
       "    </tr>\n",
       "    <tr>\n",
       "      <th>2</th>\n",
       "      <td>2017360</td>\n",
       "      <td>35669</td>\n",
       "      <td>618642</td>\n",
       "      <td>618642</td>\n",
       "      <td>1436106</td>\n",
       "      <td>2016-06-26 12:00:00</td>\n",
       "      <td>2012-06-13 02:59:37</td>\n",
       "      <td>Podcast</td>\n",
       "      <td>Presentation skills</td>\n",
       "      <td>-0.468989</td>\n",
       "      <td>NaN</td>\n",
       "      <td>Smart TV</td>\n",
       "      <td>Origin ef2b</td>\n",
       "      <td>0,0</td>\n",
       "      <td>1</td>\n",
       "    </tr>\n",
       "    <tr>\n",
       "      <th>3</th>\n",
       "      <td>2017379</td>\n",
       "      <td>57998</td>\n",
       "      <td>1164511</td>\n",
       "      <td>70388</td>\n",
       "      <td>1436118</td>\n",
       "      <td>2016-06-26 12:00:00</td>\n",
       "      <td>2013-05-07 08:51:31</td>\n",
       "      <td>Podcast</td>\n",
       "      <td>Anxiety management</td>\n",
       "      <td>-0.401168</td>\n",
       "      <td>NaN</td>\n",
       "      <td>Smart TV</td>\n",
       "      <td>Origin ef2b</td>\n",
       "      <td>0,0</td>\n",
       "      <td>1</td>\n",
       "    </tr>\n",
       "    <tr>\n",
       "      <th>4</th>\n",
       "      <td>2017382</td>\n",
       "      <td>58329</td>\n",
       "      <td>1261488</td>\n",
       "      <td>221253</td>\n",
       "      <td>1386357</td>\n",
       "      <td>2016-06-26 12:00:00</td>\n",
       "      <td>2013-05-12 08:12:06</td>\n",
       "      <td>Podcast</td>\n",
       "      <td>Teaching English</td>\n",
       "      <td>-0.452489</td>\n",
       "      <td>NaN</td>\n",
       "      <td>Smart TV</td>\n",
       "      <td>Origin ef2b</td>\n",
       "      <td>0,0</td>\n",
       "      <td>1</td>\n",
       "    </tr>\n",
       "  </tbody>\n",
       "</table>\n",
       "</div>"
      ],
      "text/plain": [
       "   purchase_id  product_id  affiliate_id  producer_id  buyer_id  \\\n",
       "0      1663958        6640        209372       116238   1200397   \n",
       "1      1677087        2350        141418         2821   1083764   \n",
       "2      2017360       35669        618642       618642   1436106   \n",
       "3      2017379       57998       1164511        70388   1436118   \n",
       "4      2017382       58329       1261488       221253   1386357   \n",
       "\n",
       "         purchase_date product_creation_date product_category  \\\n",
       "0  2016-06-26 12:00:00   2011-03-19 15:47:36            Video   \n",
       "1  2016-06-26 12:00:00   2010-07-05 01:50:15          Podcast   \n",
       "2  2016-06-26 12:00:00   2012-06-13 02:59:37          Podcast   \n",
       "3  2016-06-26 12:00:00   2013-05-07 08:51:31          Podcast   \n",
       "4  2016-06-26 12:00:00   2013-05-12 08:12:06          Podcast   \n",
       "\n",
       "         product_niche  purchase_value  affiliate_commission_percentual  \\\n",
       "0  Presentation skills       -0.265302                              NaN   \n",
       "1     Child psychology       -0.177077                              NaN   \n",
       "2  Presentation skills       -0.468989                              NaN   \n",
       "3   Anxiety management       -0.401168                              NaN   \n",
       "4     Teaching English       -0.452489                              NaN   \n",
       "\n",
       "  purchase_device purchase_origin is_origin_page_social_network  Venda  \n",
       "0        Smart TV     Origin ef2b                           0,0      1  \n",
       "1        Smart TV     Origin ef2b                           0,0      1  \n",
       "2        Smart TV     Origin ef2b                           0,0      1  \n",
       "3        Smart TV     Origin ef2b                           0,0      1  \n",
       "4        Smart TV     Origin ef2b                           0,0      1  "
      ]
     },
     "execution_count": 11,
     "metadata": {},
     "output_type": "execute_result"
    }
   ],
   "source": [
    "df.head()"
   ]
  },
  {
   "cell_type": "markdown",
   "id": "840a16dc",
   "metadata": {},
   "source": [
    "# 2.4 Nenhum registro duplicado"
   ]
  },
  {
   "cell_type": "code",
   "execution_count": 12,
   "id": "414dcfc6",
   "metadata": {
    "ExecuteTime": {
     "end_time": "2023-06-02T16:32:08.415352Z",
     "start_time": "2023-06-02T16:32:08.409629Z"
    }
   },
   "outputs": [
    {
     "data": {
      "text/plain": [
       "False"
      ]
     },
     "execution_count": 12,
     "metadata": {},
     "output_type": "execute_result"
    }
   ],
   "source": [
    "df.columns.duplicated().any()"
   ]
  },
  {
   "cell_type": "markdown",
   "id": "0af17cbc",
   "metadata": {},
   "source": [
    "# 2.5 VARIÁVEIS NUMÉRICAS "
   ]
  },
  {
   "cell_type": "markdown",
   "id": "0a4a240f",
   "metadata": {},
   "source": [
    "Essa análise estatística gosto de utilizar para poder identificar possíveis erros mias aparentes e para ter\n",
    "uma ideia de como está a distribuição dos dados.\n",
    "\n",
    "EXEMPLOS\n",
    "\n",
    "- Podemos ver que o **purchase_value** tem uma alta skew e uma certa difernça entre a média e mediana. Sugerindo uma distribuição assimétrica à direita. Ou seja sugere que tem mais compras com preços menores (relativos à essa base)"
   ]
  },
  {
   "cell_type": "code",
   "execution_count": 13,
   "id": "24b0a36a",
   "metadata": {
    "ExecuteTime": {
     "end_time": "2023-06-02T16:32:09.390540Z",
     "start_time": "2023-06-02T16:32:09.063072Z"
    }
   },
   "outputs": [
    {
     "data": {
      "text/html": [
       "<div>\n",
       "<style scoped>\n",
       "    .dataframe tbody tr th:only-of-type {\n",
       "        vertical-align: middle;\n",
       "    }\n",
       "\n",
       "    .dataframe tbody tr th {\n",
       "        vertical-align: top;\n",
       "    }\n",
       "\n",
       "    .dataframe thead th {\n",
       "        text-align: right;\n",
       "    }\n",
       "</style>\n",
       "<table border=\"1\" class=\"dataframe\">\n",
       "  <thead>\n",
       "    <tr style=\"text-align: right;\">\n",
       "      <th></th>\n",
       "      <th>type</th>\n",
       "      <th>Unique_Values</th>\n",
       "      <th>Mean</th>\n",
       "      <th>Median</th>\n",
       "      <th>Std</th>\n",
       "      <th>Min</th>\n",
       "      <th>Max</th>\n",
       "      <th>Range</th>\n",
       "      <th>Skew</th>\n",
       "      <th>Kurtosis</th>\n",
       "    </tr>\n",
       "  </thead>\n",
       "  <tbody>\n",
       "    <tr>\n",
       "      <th>purchase_value</th>\n",
       "      <td>float64</td>\n",
       "      <td>32617</td>\n",
       "      <td>1.248490e-08</td>\n",
       "      <td>-0.349998</td>\n",
       "      <td>1.000000</td>\n",
       "      <td>-0.54124</td>\n",
       "      <td>124.561</td>\n",
       "      <td>125.10224</td>\n",
       "      <td>10.816902</td>\n",
       "      <td>629.205931</td>\n",
       "    </tr>\n",
       "    <tr>\n",
       "      <th>affiliate_commission_percentual</th>\n",
       "      <td>float64</td>\n",
       "      <td>279</td>\n",
       "      <td>7.596246e+00</td>\n",
       "      <td>0.000000</td>\n",
       "      <td>18.476731</td>\n",
       "      <td>0.00000</td>\n",
       "      <td>100.000</td>\n",
       "      <td>100.00000</td>\n",
       "      <td>2.259090</td>\n",
       "      <td>3.752811</td>\n",
       "    </tr>\n",
       "  </tbody>\n",
       "</table>\n",
       "</div>"
      ],
      "text/plain": [
       "                                    type  Unique_Values          Mean  \\\n",
       "purchase_value                   float64          32617  1.248490e-08   \n",
       "affiliate_commission_percentual  float64            279  7.596246e+00   \n",
       "\n",
       "                                   Median        Std      Min      Max  \\\n",
       "purchase_value                  -0.349998   1.000000 -0.54124  124.561   \n",
       "affiliate_commission_percentual  0.000000  18.476731  0.00000  100.000   \n",
       "\n",
       "                                     Range       Skew    Kurtosis  \n",
       "purchase_value                   125.10224  10.816902  629.205931  \n",
       "affiliate_commission_percentual  100.00000   2.259090    3.752811  "
      ]
     },
     "execution_count": 13,
     "metadata": {},
     "output_type": "execute_result"
    }
   ],
   "source": [
    "df_numerics = df.select_dtypes(include=[int, float])\n",
    "df_numerics = df_numerics[['purchase_value', 'affiliate_commission_percentual']]\n",
    "numeric_statistics(df_numerics)"
   ]
  },
  {
   "cell_type": "markdown",
   "id": "84936965",
   "metadata": {},
   "source": [
    "# 2.4 VARIÁVEIS CATEGÓRICAS"
   ]
  },
  {
   "cell_type": "code",
   "execution_count": 14,
   "id": "08cedaba",
   "metadata": {
    "ExecuteTime": {
     "end_time": "2023-06-02T16:32:09.644273Z",
     "start_time": "2023-06-02T16:32:09.577369Z"
    }
   },
   "outputs": [
    {
     "data": {
      "text/html": [
       "<div>\n",
       "<style scoped>\n",
       "    .dataframe tbody tr th:only-of-type {\n",
       "        vertical-align: middle;\n",
       "    }\n",
       "\n",
       "    .dataframe tbody tr th {\n",
       "        vertical-align: top;\n",
       "    }\n",
       "\n",
       "    .dataframe thead th {\n",
       "        text-align: right;\n",
       "    }\n",
       "</style>\n",
       "<table border=\"1\" class=\"dataframe\">\n",
       "  <thead>\n",
       "    <tr style=\"text-align: right;\">\n",
       "      <th></th>\n",
       "      <th>purchase_id</th>\n",
       "      <th>product_id</th>\n",
       "      <th>affiliate_id</th>\n",
       "      <th>producer_id</th>\n",
       "      <th>buyer_id</th>\n",
       "      <th>purchase_date</th>\n",
       "      <th>product_creation_date</th>\n",
       "      <th>product_category</th>\n",
       "      <th>product_niche</th>\n",
       "      <th>purchase_value</th>\n",
       "      <th>affiliate_commission_percentual</th>\n",
       "      <th>purchase_device</th>\n",
       "      <th>purchase_origin</th>\n",
       "      <th>is_origin_page_social_network</th>\n",
       "      <th>Venda</th>\n",
       "    </tr>\n",
       "  </thead>\n",
       "  <tbody>\n",
       "    <tr>\n",
       "      <th>0</th>\n",
       "      <td>1663958</td>\n",
       "      <td>6640</td>\n",
       "      <td>209372</td>\n",
       "      <td>116238</td>\n",
       "      <td>1200397</td>\n",
       "      <td>2016-06-26 12:00:00</td>\n",
       "      <td>2011-03-19 15:47:36</td>\n",
       "      <td>Video</td>\n",
       "      <td>Presentation skills</td>\n",
       "      <td>-0.265302</td>\n",
       "      <td>NaN</td>\n",
       "      <td>Smart TV</td>\n",
       "      <td>Origin ef2b</td>\n",
       "      <td>0,0</td>\n",
       "      <td>1</td>\n",
       "    </tr>\n",
       "    <tr>\n",
       "      <th>1</th>\n",
       "      <td>1677087</td>\n",
       "      <td>2350</td>\n",
       "      <td>141418</td>\n",
       "      <td>2821</td>\n",
       "      <td>1083764</td>\n",
       "      <td>2016-06-26 12:00:00</td>\n",
       "      <td>2010-07-05 01:50:15</td>\n",
       "      <td>Podcast</td>\n",
       "      <td>Child psychology</td>\n",
       "      <td>-0.177077</td>\n",
       "      <td>NaN</td>\n",
       "      <td>Smart TV</td>\n",
       "      <td>Origin ef2b</td>\n",
       "      <td>0,0</td>\n",
       "      <td>1</td>\n",
       "    </tr>\n",
       "    <tr>\n",
       "      <th>2</th>\n",
       "      <td>2017360</td>\n",
       "      <td>35669</td>\n",
       "      <td>618642</td>\n",
       "      <td>618642</td>\n",
       "      <td>1436106</td>\n",
       "      <td>2016-06-26 12:00:00</td>\n",
       "      <td>2012-06-13 02:59:37</td>\n",
       "      <td>Podcast</td>\n",
       "      <td>Presentation skills</td>\n",
       "      <td>-0.468989</td>\n",
       "      <td>NaN</td>\n",
       "      <td>Smart TV</td>\n",
       "      <td>Origin ef2b</td>\n",
       "      <td>0,0</td>\n",
       "      <td>1</td>\n",
       "    </tr>\n",
       "    <tr>\n",
       "      <th>3</th>\n",
       "      <td>2017379</td>\n",
       "      <td>57998</td>\n",
       "      <td>1164511</td>\n",
       "      <td>70388</td>\n",
       "      <td>1436118</td>\n",
       "      <td>2016-06-26 12:00:00</td>\n",
       "      <td>2013-05-07 08:51:31</td>\n",
       "      <td>Podcast</td>\n",
       "      <td>Anxiety management</td>\n",
       "      <td>-0.401168</td>\n",
       "      <td>NaN</td>\n",
       "      <td>Smart TV</td>\n",
       "      <td>Origin ef2b</td>\n",
       "      <td>0,0</td>\n",
       "      <td>1</td>\n",
       "    </tr>\n",
       "    <tr>\n",
       "      <th>4</th>\n",
       "      <td>2017382</td>\n",
       "      <td>58329</td>\n",
       "      <td>1261488</td>\n",
       "      <td>221253</td>\n",
       "      <td>1386357</td>\n",
       "      <td>2016-06-26 12:00:00</td>\n",
       "      <td>2013-05-12 08:12:06</td>\n",
       "      <td>Podcast</td>\n",
       "      <td>Teaching English</td>\n",
       "      <td>-0.452489</td>\n",
       "      <td>NaN</td>\n",
       "      <td>Smart TV</td>\n",
       "      <td>Origin ef2b</td>\n",
       "      <td>0,0</td>\n",
       "      <td>1</td>\n",
       "    </tr>\n",
       "  </tbody>\n",
       "</table>\n",
       "</div>"
      ],
      "text/plain": [
       "   purchase_id  product_id  affiliate_id  producer_id  buyer_id  \\\n",
       "0      1663958        6640        209372       116238   1200397   \n",
       "1      1677087        2350        141418         2821   1083764   \n",
       "2      2017360       35669        618642       618642   1436106   \n",
       "3      2017379       57998       1164511        70388   1436118   \n",
       "4      2017382       58329       1261488       221253   1386357   \n",
       "\n",
       "         purchase_date product_creation_date product_category  \\\n",
       "0  2016-06-26 12:00:00   2011-03-19 15:47:36            Video   \n",
       "1  2016-06-26 12:00:00   2010-07-05 01:50:15          Podcast   \n",
       "2  2016-06-26 12:00:00   2012-06-13 02:59:37          Podcast   \n",
       "3  2016-06-26 12:00:00   2013-05-07 08:51:31          Podcast   \n",
       "4  2016-06-26 12:00:00   2013-05-12 08:12:06          Podcast   \n",
       "\n",
       "         product_niche  purchase_value  affiliate_commission_percentual  \\\n",
       "0  Presentation skills       -0.265302                              NaN   \n",
       "1     Child psychology       -0.177077                              NaN   \n",
       "2  Presentation skills       -0.468989                              NaN   \n",
       "3   Anxiety management       -0.401168                              NaN   \n",
       "4     Teaching English       -0.452489                              NaN   \n",
       "\n",
       "  purchase_device purchase_origin is_origin_page_social_network  Venda  \n",
       "0        Smart TV     Origin ef2b                           0,0      1  \n",
       "1        Smart TV     Origin ef2b                           0,0      1  \n",
       "2        Smart TV     Origin ef2b                           0,0      1  \n",
       "3        Smart TV     Origin ef2b                           0,0      1  \n",
       "4        Smart TV     Origin ef2b                           0,0      1  "
      ]
     },
     "execution_count": 14,
     "metadata": {},
     "output_type": "execute_result"
    }
   ],
   "source": [
    "df.head()"
   ]
  },
  {
   "cell_type": "markdown",
   "id": "617a422f",
   "metadata": {
    "ExecuteTime": {
     "end_time": "2023-05-31T18:00:08.743131Z",
     "start_time": "2023-05-31T18:00:08.708103Z"
    }
   },
   "source": [
    "Aqui vamos dar uma olhada mais específica em 2 variáveis categóricas.\n",
    "\n",
    "- **product_category**\n",
    "\n",
    "Vemos aqui que a categoria **Phisical book** carrega mais de 80% das vendas dessa base de dados. Um valor bem grande.\n",
    "\n",
    "- **product_niche**\n",
    "\n",
    "Vemos que aqui que a distribuição é mais igualitária entre os nichos de conteúdos consumidos. Mas podemos ver que os 3 primeiros tem relação com determinado tipo desenvolvimento pessoal. No caso, negócios, melhoria da ansiedade e finanças. "
   ]
  },
  {
   "cell_type": "code",
   "execution_count": 15,
   "id": "54bc9921",
   "metadata": {
    "ExecuteTime": {
     "end_time": "2023-06-02T16:32:10.482411Z",
     "start_time": "2023-06-02T16:32:10.161415Z"
    }
   },
   "outputs": [
    {
     "data": {
      "text/plain": [
       "product_category\n",
       "Phisical book      0.834221\n",
       "Podcast            0.135465\n",
       "Workshop           0.023906\n",
       "eBook              0.002478\n",
       "Subscription       0.001231\n",
       "In-class course    0.000976\n",
       "App                0.000973\n",
       "eTicket            0.000529\n",
       "Webinar            0.000184\n",
       "Video              0.000036\n",
       "Name: proportion, dtype: float64"
      ]
     },
     "execution_count": 15,
     "metadata": {},
     "output_type": "execute_result"
    }
   ],
   "source": [
    "# product_category\n",
    "df['product_category'].value_counts(normalize=True)"
   ]
  },
  {
   "cell_type": "code",
   "execution_count": 16,
   "id": "81696722",
   "metadata": {
    "ExecuteTime": {
     "end_time": "2023-06-02T16:32:10.949887Z",
     "start_time": "2023-06-02T16:32:10.729863Z"
    }
   },
   "outputs": [
    {
     "data": {
      "text/plain": [
       "product_niche\n",
       "Negotiation               0.174969\n",
       "Anxiety management        0.157314\n",
       "Personal finance          0.116793\n",
       "Presentation skills       0.087797\n",
       "Immigration               0.059794\n",
       "Government                0.058359\n",
       "YouTube video creation    0.050134\n",
       "Online course creation    0.037773\n",
       "Careers                   0.033084\n",
       "Organization              0.030398\n",
       "Accounting                0.028566\n",
       "Procrastination           0.025390\n",
       "Economics                 0.025235\n",
       "Biology                   0.020786\n",
       "Media training            0.020437\n",
       "Teaching English          0.016256\n",
       "Filmmaking                0.013314\n",
       "Child psychology          0.011826\n",
       "Physics                   0.009192\n",
       "Global diplomacy          0.008677\n",
       "Genetics                  0.006347\n",
       "Storytelling              0.004604\n",
       "Disease                   0.002609\n",
       "Thermodynamics            0.000343\n",
       "Travel hacking            0.000003\n",
       "Name: proportion, dtype: float64"
      ]
     },
     "execution_count": 16,
     "metadata": {},
     "output_type": "execute_result"
    }
   ],
   "source": [
    "# product_niche\n",
    "df['product_niche'].value_counts(normalize=True)"
   ]
  },
  {
   "cell_type": "markdown",
   "id": "f6358271",
   "metadata": {},
   "source": [
    "# Transform Data to analysis"
   ]
  },
  {
   "cell_type": "markdown",
   "id": "649bb7c7",
   "metadata": {},
   "source": [
    "- **purchase_value** -> Dado que os dados estão codificados em uma escala fictícia, vou considerar que: Valores negativos não fazem sentido para uma venda. Logo irei trasnformar todos os valores negativos em positivos.\n",
    "\n",
    "- **affiliate_commission_percentual** -> Possue valores NaN, poderia fazer alguma atribuição, mas como são somente 199 registros, optei por dropar os registros onde essas linhas são NaN.\n",
    "\n",
    "- **purchase_id, product_id, affiliate_id, producer_id, buyer_id** -> Tranformar esses tipos para string.\n",
    "\n",
    "- **is_origin_page_social_network** -> Veio como string, irei transformar para inteiro."
   ]
  },
  {
   "cell_type": "markdown",
   "id": "0b931c0c",
   "metadata": {
    "ExecuteTime": {
     "end_time": "2023-06-02T02:21:55.663658Z",
     "start_time": "2023-06-02T02:21:50.625712Z"
    }
   },
   "source": [
    "Para executar tal preparação dos dados criei uma função que se encontra em `src/utils/preprocess.py` "
   ]
  },
  {
   "cell_type": "code",
   "execution_count": 17,
   "id": "a5673f05",
   "metadata": {
    "ExecuteTime": {
     "end_time": "2023-06-02T16:32:18.005780Z",
     "start_time": "2023-06-02T16:32:12.429796Z"
    }
   },
   "outputs": [],
   "source": [
    "df = prepare_data(df_raw)"
   ]
  },
  {
   "cell_type": "markdown",
   "id": "14b52eb5",
   "metadata": {},
   "source": [
    "# perguntas que seriam interessantes de serem respondidas "
   ]
  },
  {
   "cell_type": "markdown",
   "id": "25e9cb48",
   "metadata": {},
   "source": [
    "### A Hotmart depende dos maiores produtores da plataforma? Ou seja, os produtores que mais vendem são responsáveis pela maior parte do faturamento da Hotmart?"
   ]
  },
  {
   "cell_type": "code",
   "execution_count": 18,
   "id": "97312ab3",
   "metadata": {
    "ExecuteTime": {
     "end_time": "2023-06-02T16:32:18.028590Z",
     "start_time": "2023-06-02T16:32:18.008078Z"
    }
   },
   "outputs": [
    {
     "data": {
      "text/html": [
       "<div>\n",
       "<style scoped>\n",
       "    .dataframe tbody tr th:only-of-type {\n",
       "        vertical-align: middle;\n",
       "    }\n",
       "\n",
       "    .dataframe tbody tr th {\n",
       "        vertical-align: top;\n",
       "    }\n",
       "\n",
       "    .dataframe thead th {\n",
       "        text-align: right;\n",
       "    }\n",
       "</style>\n",
       "<table border=\"1\" class=\"dataframe\">\n",
       "  <thead>\n",
       "    <tr style=\"text-align: right;\">\n",
       "      <th></th>\n",
       "      <th>purchase_id</th>\n",
       "      <th>product_id</th>\n",
       "      <th>affiliate_id</th>\n",
       "      <th>producer_id</th>\n",
       "      <th>buyer_id</th>\n",
       "      <th>purchase_date</th>\n",
       "      <th>product_creation_date</th>\n",
       "      <th>product_category</th>\n",
       "      <th>product_niche</th>\n",
       "      <th>purchase_value</th>\n",
       "      <th>affiliate_commission_percentual</th>\n",
       "      <th>purchase_device</th>\n",
       "      <th>purchase_origin</th>\n",
       "      <th>is_origin_page_social_network</th>\n",
       "      <th>Venda</th>\n",
       "      <th>purchase_value_positiva</th>\n",
       "    </tr>\n",
       "  </thead>\n",
       "  <tbody>\n",
       "    <tr>\n",
       "      <th>199</th>\n",
       "      <td>10839481</td>\n",
       "      <td>118733</td>\n",
       "      <td>958412</td>\n",
       "      <td>958412</td>\n",
       "      <td>4984688</td>\n",
       "      <td>2016-01-01 00:04:44</td>\n",
       "      <td>2014-10-04 13:43:24</td>\n",
       "      <td>Phisical book</td>\n",
       "      <td>Organization</td>\n",
       "      <td>-0.428800</td>\n",
       "      <td>0.0</td>\n",
       "      <td>eReaders</td>\n",
       "      <td>Origin adf0</td>\n",
       "      <td>0</td>\n",
       "      <td>1</td>\n",
       "      <td>0.428800</td>\n",
       "    </tr>\n",
       "    <tr>\n",
       "      <th>200</th>\n",
       "      <td>10839484</td>\n",
       "      <td>181119</td>\n",
       "      <td>213339</td>\n",
       "      <td>213339</td>\n",
       "      <td>5917688</td>\n",
       "      <td>2016-01-01 00:05:27</td>\n",
       "      <td>2015-10-22 11:05:58</td>\n",
       "      <td>Phisical book</td>\n",
       "      <td>Organization</td>\n",
       "      <td>0.204131</td>\n",
       "      <td>0.0</td>\n",
       "      <td>Desktop</td>\n",
       "      <td>Origin 3c5a</td>\n",
       "      <td>0</td>\n",
       "      <td>1</td>\n",
       "      <td>0.204131</td>\n",
       "    </tr>\n",
       "    <tr>\n",
       "      <th>201</th>\n",
       "      <td>10839485</td>\n",
       "      <td>155827</td>\n",
       "      <td>2035132</td>\n",
       "      <td>2035132</td>\n",
       "      <td>718553</td>\n",
       "      <td>2016-01-01 00:05:29</td>\n",
       "      <td>2015-06-08 14:28:20</td>\n",
       "      <td>Podcast</td>\n",
       "      <td>Anxiety management</td>\n",
       "      <td>-0.377930</td>\n",
       "      <td>0.0</td>\n",
       "      <td>eReaders</td>\n",
       "      <td>Origin 14ad</td>\n",
       "      <td>0</td>\n",
       "      <td>1</td>\n",
       "      <td>0.377930</td>\n",
       "    </tr>\n",
       "    <tr>\n",
       "      <th>202</th>\n",
       "      <td>10839488</td>\n",
       "      <td>168608</td>\n",
       "      <td>3630929</td>\n",
       "      <td>3630929</td>\n",
       "      <td>5917691</td>\n",
       "      <td>2016-01-01 00:06:30</td>\n",
       "      <td>2015-08-18 14:41:40</td>\n",
       "      <td>Phisical book</td>\n",
       "      <td>Negotiation</td>\n",
       "      <td>-0.503885</td>\n",
       "      <td>0.0</td>\n",
       "      <td>eReaders</td>\n",
       "      <td>Origin 55a8</td>\n",
       "      <td>0</td>\n",
       "      <td>1</td>\n",
       "      <td>0.503885</td>\n",
       "    </tr>\n",
       "    <tr>\n",
       "      <th>203</th>\n",
       "      <td>10839491</td>\n",
       "      <td>130465</td>\n",
       "      <td>275005</td>\n",
       "      <td>275005</td>\n",
       "      <td>5550404</td>\n",
       "      <td>2016-01-01 00:06:50</td>\n",
       "      <td>2014-12-30 17:41:32</td>\n",
       "      <td>Phisical book</td>\n",
       "      <td>Media training</td>\n",
       "      <td>-0.415472</td>\n",
       "      <td>0.0</td>\n",
       "      <td>Desktop</td>\n",
       "      <td>Origin 659b</td>\n",
       "      <td>0</td>\n",
       "      <td>1</td>\n",
       "      <td>0.415472</td>\n",
       "    </tr>\n",
       "  </tbody>\n",
       "</table>\n",
       "</div>"
      ],
      "text/plain": [
       "    purchase_id product_id affiliate_id producer_id buyer_id  \\\n",
       "199    10839481     118733       958412      958412  4984688   \n",
       "200    10839484     181119       213339      213339  5917688   \n",
       "201    10839485     155827      2035132     2035132   718553   \n",
       "202    10839488     168608      3630929     3630929  5917691   \n",
       "203    10839491     130465       275005      275005  5550404   \n",
       "\n",
       "           purchase_date product_creation_date product_category  \\\n",
       "199  2016-01-01 00:04:44   2014-10-04 13:43:24    Phisical book   \n",
       "200  2016-01-01 00:05:27   2015-10-22 11:05:58    Phisical book   \n",
       "201  2016-01-01 00:05:29   2015-06-08 14:28:20          Podcast   \n",
       "202  2016-01-01 00:06:30   2015-08-18 14:41:40    Phisical book   \n",
       "203  2016-01-01 00:06:50   2014-12-30 17:41:32    Phisical book   \n",
       "\n",
       "          product_niche  purchase_value  affiliate_commission_percentual  \\\n",
       "199        Organization       -0.428800                              0.0   \n",
       "200        Organization        0.204131                              0.0   \n",
       "201  Anxiety management       -0.377930                              0.0   \n",
       "202         Negotiation       -0.503885                              0.0   \n",
       "203      Media training       -0.415472                              0.0   \n",
       "\n",
       "    purchase_device purchase_origin  is_origin_page_social_network  Venda  \\\n",
       "199        eReaders     Origin adf0                              0      1   \n",
       "200         Desktop     Origin 3c5a                              0      1   \n",
       "201        eReaders     Origin 14ad                              0      1   \n",
       "202        eReaders     Origin 55a8                              0      1   \n",
       "203         Desktop     Origin 659b                              0      1   \n",
       "\n",
       "     purchase_value_positiva  \n",
       "199                 0.428800  \n",
       "200                 0.204131  \n",
       "201                 0.377930  \n",
       "202                 0.503885  \n",
       "203                 0.415472  "
      ]
     },
     "execution_count": 18,
     "metadata": {},
     "output_type": "execute_result"
    }
   ],
   "source": [
    "df.head()"
   ]
  },
  {
   "cell_type": "code",
   "execution_count": 19,
   "id": "4c362103",
   "metadata": {
    "ExecuteTime": {
     "end_time": "2023-06-02T16:32:18.282878Z",
     "start_time": "2023-06-02T16:32:18.032015Z"
    }
   },
   "outputs": [],
   "source": [
    "df_top_10_maiores_faturamentos = df[['producer_id', 'purchase_value_positiva']].groupby(\"producer_id\")\\\n",
    ".sum().reset_index().sort_values('purchase_value_positiva', ascending=False).head(10)\n",
    "\n",
    "df_top_10_maiores_faturamentos\\\n",
    ".rename(\n",
    "    columns={\n",
    "        'producer_id': 'producer_id_mais_faturamento',\n",
    "        'purchase_value_positiva': 'purchase_value_total'\n",
    "    }, inplace=True)\n",
    "df_top_10_maiores_faturamentos.reset_index(drop=True, inplace=True)"
   ]
  },
  {
   "cell_type": "code",
   "execution_count": 20,
   "id": "b44e89ca",
   "metadata": {
    "ExecuteTime": {
     "end_time": "2023-06-02T16:32:18.518710Z",
     "start_time": "2023-06-02T16:32:18.286037Z"
    }
   },
   "outputs": [],
   "source": [
    "df_top_10_mais_vendem = df['producer_id'].value_counts().reset_index().head(10)\n",
    "df_top_10_mais_vendem.rename(columns={'producer_id': 'producer_id_mais_vendem', 'count': 'qtd_de_vendas'}, inplace=True)"
   ]
  },
  {
   "cell_type": "code",
   "execution_count": 21,
   "id": "2ce33a56",
   "metadata": {
    "ExecuteTime": {
     "end_time": "2023-06-02T16:32:18.535038Z",
     "start_time": "2023-06-02T16:32:18.521263Z"
    }
   },
   "outputs": [
    {
     "data": {
      "text/html": [
       "<div>\n",
       "<style scoped>\n",
       "    .dataframe tbody tr th:only-of-type {\n",
       "        vertical-align: middle;\n",
       "    }\n",
       "\n",
       "    .dataframe tbody tr th {\n",
       "        vertical-align: top;\n",
       "    }\n",
       "\n",
       "    .dataframe thead th {\n",
       "        text-align: right;\n",
       "    }\n",
       "</style>\n",
       "<table border=\"1\" class=\"dataframe\">\n",
       "  <thead>\n",
       "    <tr style=\"text-align: right;\">\n",
       "      <th></th>\n",
       "      <th>producer_id_mais_faturamento</th>\n",
       "      <th>purchase_value_total</th>\n",
       "      <th>producer_id_mais_vendem</th>\n",
       "      <th>qtd_de_vendas</th>\n",
       "    </tr>\n",
       "  </thead>\n",
       "  <tbody>\n",
       "    <tr>\n",
       "      <th>0</th>\n",
       "      <td>42346</td>\n",
       "      <td>26309.795966</td>\n",
       "      <td>6697083</td>\n",
       "      <td>41220</td>\n",
       "    </tr>\n",
       "    <tr>\n",
       "      <th>1</th>\n",
       "      <td>6697083</td>\n",
       "      <td>17041.252187</td>\n",
       "      <td>3992235</td>\n",
       "      <td>39331</td>\n",
       "    </tr>\n",
       "    <tr>\n",
       "      <th>2</th>\n",
       "      <td>464846</td>\n",
       "      <td>15705.049530</td>\n",
       "      <td>464846</td>\n",
       "      <td>35468</td>\n",
       "    </tr>\n",
       "    <tr>\n",
       "      <th>3</th>\n",
       "      <td>3992235</td>\n",
       "      <td>14146.703215</td>\n",
       "      <td>349701</td>\n",
       "      <td>34565</td>\n",
       "    </tr>\n",
       "    <tr>\n",
       "      <th>4</th>\n",
       "      <td>3425706</td>\n",
       "      <td>9850.580539</td>\n",
       "      <td>166090</td>\n",
       "      <td>28895</td>\n",
       "    </tr>\n",
       "    <tr>\n",
       "      <th>5</th>\n",
       "      <td>2546880</td>\n",
       "      <td>9788.894025</td>\n",
       "      <td>442241</td>\n",
       "      <td>27796</td>\n",
       "    </tr>\n",
       "    <tr>\n",
       "      <th>6</th>\n",
       "      <td>166090</td>\n",
       "      <td>9411.283353</td>\n",
       "      <td>2307584</td>\n",
       "      <td>21716</td>\n",
       "    </tr>\n",
       "    <tr>\n",
       "      <th>7</th>\n",
       "      <td>3382787</td>\n",
       "      <td>9295.254940</td>\n",
       "      <td>3382787</td>\n",
       "      <td>20191</td>\n",
       "    </tr>\n",
       "    <tr>\n",
       "      <th>8</th>\n",
       "      <td>442241</td>\n",
       "      <td>9087.500313</td>\n",
       "      <td>4580574</td>\n",
       "      <td>16386</td>\n",
       "    </tr>\n",
       "    <tr>\n",
       "      <th>9</th>\n",
       "      <td>4580574</td>\n",
       "      <td>8535.123909</td>\n",
       "      <td>671256</td>\n",
       "      <td>16096</td>\n",
       "    </tr>\n",
       "  </tbody>\n",
       "</table>\n",
       "</div>"
      ],
      "text/plain": [
       "  producer_id_mais_faturamento  purchase_value_total producer_id_mais_vendem  \\\n",
       "0                        42346          26309.795966                 6697083   \n",
       "1                      6697083          17041.252187                 3992235   \n",
       "2                       464846          15705.049530                  464846   \n",
       "3                      3992235          14146.703215                  349701   \n",
       "4                      3425706           9850.580539                  166090   \n",
       "5                      2546880           9788.894025                  442241   \n",
       "6                       166090           9411.283353                 2307584   \n",
       "7                      3382787           9295.254940                 3382787   \n",
       "8                       442241           9087.500313                 4580574   \n",
       "9                      4580574           8535.123909                  671256   \n",
       "\n",
       "   qtd_de_vendas  \n",
       "0          41220  \n",
       "1          39331  \n",
       "2          35468  \n",
       "3          34565  \n",
       "4          28895  \n",
       "5          27796  \n",
       "6          21716  \n",
       "7          20191  \n",
       "8          16386  \n",
       "9          16096  "
      ]
     },
     "execution_count": 21,
     "metadata": {},
     "output_type": "execute_result"
    }
   ],
   "source": [
    "df_final = pd.concat([df_top_10_maiores_faturamentos, df_top_10_mais_vendem], axis=1)\n",
    "df_final"
   ]
  },
  {
   "cell_type": "markdown",
   "id": "488ae19c",
   "metadata": {},
   "source": [
    "\n",
    "## Conclusão\n",
    "\n",
    "SIM, dado esse nosso range de análise de **10 que mais vendem** e os **10 que mais dão lucro**. Como podemos ver\n",
    "\n",
    "se fizermos um rank dos 10 produtores que mais vendem e dos 10 produtores que mais dão lucro, vemos que existem 7 nomes em comum entre esses dois ranks. Logo, entre os 10 que mais vendem, 7 fazem parte dos 10 que mais dão lucro."
   ]
  },
  {
   "cell_type": "code",
   "execution_count": 22,
   "id": "d6bc3645",
   "metadata": {
    "ExecuteTime": {
     "end_time": "2023-06-02T16:32:18.553991Z",
     "start_time": "2023-06-02T16:32:18.538288Z"
    }
   },
   "outputs": [
    {
     "data": {
      "text/html": [
       "<div>\n",
       "<style scoped>\n",
       "    .dataframe tbody tr th:only-of-type {\n",
       "        vertical-align: middle;\n",
       "    }\n",
       "\n",
       "    .dataframe tbody tr th {\n",
       "        vertical-align: top;\n",
       "    }\n",
       "\n",
       "    .dataframe thead th {\n",
       "        text-align: right;\n",
       "    }\n",
       "</style>\n",
       "<table border=\"1\" class=\"dataframe\">\n",
       "  <thead>\n",
       "    <tr style=\"text-align: right;\">\n",
       "      <th></th>\n",
       "      <th>producer_id_mais_faturamento</th>\n",
       "      <th>purchase_value_total</th>\n",
       "      <th>producer_id_mais_vendem</th>\n",
       "      <th>qtd_de_vendas</th>\n",
       "    </tr>\n",
       "  </thead>\n",
       "  <tbody>\n",
       "    <tr>\n",
       "      <th>0</th>\n",
       "      <td>6697083</td>\n",
       "      <td>17041.252187</td>\n",
       "      <td>3992235</td>\n",
       "      <td>39331</td>\n",
       "    </tr>\n",
       "    <tr>\n",
       "      <th>1</th>\n",
       "      <td>464846</td>\n",
       "      <td>15705.049530</td>\n",
       "      <td>464846</td>\n",
       "      <td>35468</td>\n",
       "    </tr>\n",
       "    <tr>\n",
       "      <th>2</th>\n",
       "      <td>3992235</td>\n",
       "      <td>14146.703215</td>\n",
       "      <td>349701</td>\n",
       "      <td>34565</td>\n",
       "    </tr>\n",
       "    <tr>\n",
       "      <th>3</th>\n",
       "      <td>166090</td>\n",
       "      <td>9411.283353</td>\n",
       "      <td>2307584</td>\n",
       "      <td>21716</td>\n",
       "    </tr>\n",
       "    <tr>\n",
       "      <th>4</th>\n",
       "      <td>3382787</td>\n",
       "      <td>9295.254940</td>\n",
       "      <td>3382787</td>\n",
       "      <td>20191</td>\n",
       "    </tr>\n",
       "    <tr>\n",
       "      <th>5</th>\n",
       "      <td>442241</td>\n",
       "      <td>9087.500313</td>\n",
       "      <td>4580574</td>\n",
       "      <td>16386</td>\n",
       "    </tr>\n",
       "    <tr>\n",
       "      <th>6</th>\n",
       "      <td>4580574</td>\n",
       "      <td>8535.123909</td>\n",
       "      <td>671256</td>\n",
       "      <td>16096</td>\n",
       "    </tr>\n",
       "  </tbody>\n",
       "</table>\n",
       "</div>"
      ],
      "text/plain": [
       "  producer_id_mais_faturamento  purchase_value_total producer_id_mais_vendem  \\\n",
       "0                      6697083          17041.252187                 3992235   \n",
       "1                       464846          15705.049530                  464846   \n",
       "2                      3992235          14146.703215                  349701   \n",
       "3                       166090           9411.283353                 2307584   \n",
       "4                      3382787           9295.254940                 3382787   \n",
       "5                       442241           9087.500313                 4580574   \n",
       "6                      4580574           8535.123909                  671256   \n",
       "\n",
       "   qtd_de_vendas  \n",
       "0          39331  \n",
       "1          35468  \n",
       "2          34565  \n",
       "3          21716  \n",
       "4          20191  \n",
       "5          16386  \n",
       "6          16096  "
      ]
     },
     "execution_count": 22,
     "metadata": {},
     "output_type": "execute_result"
    }
   ],
   "source": [
    "lista_top_10_mais_vendem = df_final['producer_id_mais_vendem'].tolist()\n",
    "df_final[df_final['producer_id_mais_faturamento'].isin(lista_top_10_mais_vendem)].reset_index(drop=True)"
   ]
  },
  {
   "cell_type": "markdown",
   "id": "6d76ebc9",
   "metadata": {},
   "source": [
    "### Existe algum padrão ou tendência relevante nos dados? "
   ]
  },
  {
   "cell_type": "markdown",
   "id": "5ebe2b33",
   "metadata": {},
   "source": [
    "Vemos que existe um padrão na quantidade de produtos criados ao longo dos anos. Como visto abaixo, a\n",
    "quantidade produtos criados tem crescido ao longo dos anos, em outras palavras, existe uma tendência de \n",
    "crescimento dessa métrica ao longo dos anos. \n",
    "\n",
    "Podemos ver que ao longo de cada ano o número de produtos criados cresceu. Mas em 2016, foi o único ano\n",
    "presente no dataset que a quantidade de produtos criados caiu. Isso pode está relacionado com a crise que \n",
    "vivemos no Brasil nesse mesmo ano.\n",
    "\n",
    "Em 2016, o Brasil enfrentou uma crise política e econômica significativa. Durante esse ano, houve uma série de \n",
    "eventos que impactaram o país de maneira intensa. \n",
    "\n",
    "Uma das principais questões que ocorreram em 2016 foi o processo de impeachment da então presidente Dilma Rousseff. O processo foi resultado de uma série de acusações de irregularidades fiscais e políticas, levando a um agravamento da crise política no país. Em agosto de 2016, Dilma Rousseff foi afastada temporariamente da presidência pelo Senado e, posteriormente, destituída do cargo em definitivo.\n",
    "\n",
    "Além disso, o Brasil enfrentou uma crise econômica nesse período. O país sofreu com uma recessão econômica, alta taxa de desemprego, queda nos investimentos e diminuição do crescimento econômico. Essa crise econômica foi resultado de uma combinação de fatores, incluindo a queda nos preços das commodities, desequilíbrios fiscais, escândalos de corrupção e instabilidade política."
   ]
  },
  {
   "cell_type": "code",
   "execution_count": 23,
   "id": "271a9696",
   "metadata": {
    "ExecuteTime": {
     "end_time": "2023-06-02T16:32:20.111085Z",
     "start_time": "2023-06-02T16:32:19.584955Z"
    }
   },
   "outputs": [],
   "source": [
    "df['product_creation_date_year'] = pd.to_datetime(df['product_creation_date']).dt.year.copy()"
   ]
  },
  {
   "cell_type": "code",
   "execution_count": 24,
   "id": "ae8c27cb",
   "metadata": {
    "ExecuteTime": {
     "end_time": "2023-06-02T16:32:20.933458Z",
     "start_time": "2023-06-02T16:32:20.427551Z"
    }
   },
   "outputs": [
    {
     "data": {
      "image/png": "[encoded data removed]",
      "text/plain": [
       "<Figure size 1000x500 with 1 Axes>"
      ]
     },
     "metadata": {},
     "output_type": "display_data"
    }
   ],
   "source": [
    "df_aux = df['product_creation_date_year'].value_counts().reset_index().sort_values(\"count\")\n",
    "\n",
    "sns.regplot(\n",
    "    data=df_aux,\n",
    "    x='product_creation_date_year',\n",
    "    y='count',\n",
    "    line_kws={\"color\": \"C3\"},\n",
    "    scatter_kws={\"s\": 80},\n",
    ")\n",
    "\n",
    "plt.title(\"Quantidade de produtos criados por ano.\");"
   ]
  },
  {
   "cell_type": "markdown",
   "id": "146c9a43",
   "metadata": {},
   "source": [
    "Acompanhando o raciocínio acima, vemos que o valor das vendas totais por ano também aumentaram em uma proporção bem semelhante a do gráfico de cima."
   ]
  },
  {
   "cell_type": "code",
   "execution_count": 25,
   "id": "2e7c7d00",
   "metadata": {
    "ExecuteTime": {
     "end_time": "2023-06-02T16:32:22.132233Z",
     "start_time": "2023-06-02T16:32:21.630422Z"
    }
   },
   "outputs": [
    {
     "data": {
      "image/png": "[encoded data removed]",
      "text/plain": [
       "<Figure size 1000x500 with 1 Axes>"
      ]
     },
     "metadata": {},
     "output_type": "display_data"
    }
   ],
   "source": [
    "df_aux = df[['product_creation_date_year', 'purchase_value_positiva']].groupby(\"product_creation_date_year\").sum().reset_index()\n",
    "\n",
    "sns.regplot(\n",
    "    data=df_aux,\n",
    "    x='product_creation_date_year',\n",
    "    y='purchase_value_positiva',\n",
    "    line_kws={\"color\": \"C3\"},\n",
    "    scatter_kws={\"s\": 80},\n",
    ")\n",
    "\n",
    "plt.title(\"Valores das vendas totais por ano.\");"
   ]
  },
  {
   "cell_type": "markdown",
   "id": "e6114d4f",
   "metadata": {},
   "source": [
    "### É possível segmentar os usuários com base em suas características (faturamento, nicho de produto, etc.)? "
   ]
  },
  {
   "cell_type": "markdown",
   "id": "8c4c61ae",
   "metadata": {},
   "source": [
    "Poderíamos ter utilizado algum algoritmo de Machine learning nesse momento, mas optei por uma abordagem mais\n",
    "simples e de fácil entendimento. Escolhi fazer essa segmentação de clientes utilizando o <mark>RFM model</mark>.\n",
    "\n",
    "> O conceito da análise RFM, foi citado pela primeira vez em um artigo de Jan Roelf Bult e Tom Wansbeek, “Seleção ideal para mala direta“, publicado em uma edição de 1995 da Marketing Science. E foi criado para ajudar os profissionais de marketing a segmentar grupos específicos de clientes. \n",
    "> \n",
    "> A análise de RFM é baseada no principio de Pareto, que quando aplicado no marketing diz que 80% dos resultados vêm de 20% das causas. Da mesma forma, 20% dos clientes contribuem com 80% da sua receita total.\n",
    "> \n",
    "> A análise RFM é um acrônimo para Recência, Frequência e Valor Monetário, e é uma ferramenta de análise de marketing e/ou para o time de CS (Customer Sucess) usada para identificar os melhores clientes de uma empresa ou organização usando determinadas medidas. O modelo RFM é baseado em três fatores quantitativos:\n",
    "> \n",
    "\n",
    "\n",
    "\n",
    "- **Recência**: quão recentemente um cliente fez uma compra;\n",
    "    - No nosso caso, agrupei por **buyer_id** e peguei a data mais recente que efetuou uma compra.\n",
    "    \n",
    "    \n",
    "- **Frequência**: com que frequência um cliente faz uma compra;\n",
    "    - No nosso caso, Agrupei por **buyer_id** e fiz a contagem de quantas vezes esse usuário apareceu na base.\n",
    "\n",
    "\n",
    "- **Valor monetário**: quanto dinheiro um cliente gasta em compras;\n",
    "    - Essa coluna já está presente no dataset como **purchase_value**, o que fiz foi agrupar por **buyer_id**\n",
    "    e fazer a soma de quanto cada usuário já gastou num total.\n",
    "    \n",
    "Utilizaremos o formato dos quintils para poder atribuir notas para cada usuário para cada característica \n",
    "(Recência, Frequência e Valor monetário). Mas afinal, como funcionaria?\n",
    "\n",
    "1. Pega cada coluns e ordena do menor para o maior a frequency e o monetary\n",
    "    - Resumindo, as regras para a pontuação do RFM:\n",
    "\n",
    "        - Quanto mais recente for a compra do cliente, maior será a pontuação de R.\n",
    "        - Quanto mais compras o cliente realizar, maior será a pontuação de F;\n",
    "        - Quanto maior for o gasto dele, maior será o score de M.\n",
    "\n",
    "2. divide ele em cinco partes iguais\n",
    "3. Para cada uma dessas partes, temos um score de 1 a 5 para aqueles que estiverem dentro daquele quintil,\n",
    "sendo 5 a maior pontuação.\n",
    "\n",
    "**Referências**: \n",
    "- http://vidadeproduto.com.br/analise-rfm/\n",
    "- https://www.youtube.com/watch?v=CArRKwrLaeM&t=785s&ab_channel=ComunidadeDS"
   ]
  },
  {
   "cell_type": "code",
   "execution_count": 26,
   "id": "92d91799",
   "metadata": {
    "ExecuteTime": {
     "end_time": "2023-06-02T16:32:31.386787Z",
     "start_time": "2023-06-02T16:32:25.934591Z"
    }
   },
   "outputs": [],
   "source": [
    "# preparação dos dados\n",
    "df_prep = prepare_data(df_raw)"
   ]
  },
  {
   "cell_type": "markdown",
   "id": "9c68050d",
   "metadata": {},
   "source": [
    "Após ter essa coluna `RFM_score` posso segmentar meus clientes. A mais comum são os \n",
    "11 segmentos a seguir:\n",
    "\n",
    "Sendo `R=Recência`, `F=Frequência` e `M=Valor monetário`\n",
    "\n",
    "| index | Segmento de clientes | Atividade | Valor de R | Valor médio de F e M\n",
    "| ------| ------ | ----------- | ------- | ------ |\n",
    "| 1 | Campeões |\tComprou recentemente. Compra com frequência. E gasta muito! | 4 a 5 | 4 a 5\n",
    "| 2 | Clientes fieis |\tGasta um bom dinheiro. Com frequentemente. | 2 a 5 | 3 a 5\n",
    "| 3 | Lealdade potêncial |\tClientes recentes. Gastaram uma boa quantia. Compraram mais de uma vez. | 3 a 5 | 1 a 3 |\n",
    "| 4 | Clientes Recentes |\tComprou recentemente. Mas não com frequência. | 4 a 5 | 1 a 3\n",
    "| 5 | Promissor\t| Compradores recentes. Mas não gastaram muito. | 3 a 4 | 0 a 1\n",
    "| 6 | Precisam de atenção | Recência, frequência e valores monetários acima da média. (Pode não ter comprado muito recentemente). | 2 a 3 | 2 a 3\n",
    "| 7 | Prestes a “hibernar” | Abaixo da média da Recência, Frequência e valores monetários. (Os perderá se não for reativado). | 2 a 3 | 0 a 2\n",
    "| 8 | Em risco | Gastou muito dinheiro e comprou com freqüência. Mas há muito tempo. (Precisa trazê-los de volta)! | 0 a 2 | 2 a 5\n",
    "| 9 | Não posso perdê-los | Fez grandes compras e com frequência. Mas ha algum tempo. | 0 a 2 | 1 a 2\n",
    "| 10 | Hibernando | A última compra foi feita a algum tempo. Pouco gasto e baixo número de pedidos. | 1 a 2 | 1 a 2\n",
    "| 11 | Perdido | Recência, frequência e pontuação monetária mais baixas.| 0 a 2 | 0 a 2"
   ]
  },
  {
   "cell_type": "markdown",
   "id": "4a73c95a",
   "metadata": {
    "ExecuteTime": {
     "end_time": "2023-06-01T23:46:39.027664Z",
     "start_time": "2023-06-01T23:46:39.018299Z"
    }
   },
   "source": [
    "Para simplificar nossa análise vamos utilizar a seguinte regra:\n",
    "    \n",
    "|Segmento de clientes | Valor médio de F e M\n",
    "|------ | ------ |\n",
    "| Campeões | 4 a 5\n",
    "| Promissor | 2 a 4\n",
    "| Hibernando | 0 a 2"
   ]
  },
  {
   "cell_type": "markdown",
   "id": "08d93797",
   "metadata": {},
   "source": [
    "Para Executar todo pipeline descrito criei uma classe presente em `src/utils/preprocess.py`.  \n",
    "\n",
    "A classe se chama RFMModel o método `get_rfm_model`executa o pipeline princial descrito acima para obtenção desse modelo. Os testes unitários para os métodos dessa classe estão em `src/tests/test_preprocess.py`"
   ]
  },
  {
   "cell_type": "code",
   "execution_count": 27,
   "id": "2264357f",
   "metadata": {
    "ExecuteTime": {
     "end_time": "2023-06-02T16:32:56.141031Z",
     "start_time": "2023-06-02T16:32:31.389705Z"
    }
   },
   "outputs": [
    {
     "name": "stderr",
     "output_type": "stream",
     "text": [
      "/home/marcos/Documentos/Projetos/test_hotmart/src/utils/preprocess.py:84: SettingWithCopyWarning: \n",
      "A value is trying to be set on a copy of a slice from a DataFrame.\n",
      "Try using .loc[row_indexer,col_indexer] = value instead\n",
      "\n",
      "See the caveats in the documentation: https://pandas.pydata.org/pandas-docs/stable/user_guide/indexing.html#returning-a-view-versus-a-copy\n",
      "  df_cluster.loc[:, self.recency_colum] = recency.copy()\n"
     ]
    }
   ],
   "source": [
    "rfm_model = RFMModel()\n",
    "df_final = rfm_model.get_rfm_model(df_prep)"
   ]
  },
  {
   "cell_type": "code",
   "execution_count": 28,
   "id": "578fcbae",
   "metadata": {
    "ExecuteTime": {
     "end_time": "2023-06-02T16:32:56.160544Z",
     "start_time": "2023-06-02T16:32:56.143444Z"
    }
   },
   "outputs": [
    {
     "data": {
      "text/html": [
       "<div>\n",
       "<style scoped>\n",
       "    .dataframe tbody tr th:only-of-type {\n",
       "        vertical-align: middle;\n",
       "    }\n",
       "\n",
       "    .dataframe tbody tr th {\n",
       "        vertical-align: top;\n",
       "    }\n",
       "\n",
       "    .dataframe thead th {\n",
       "        text-align: right;\n",
       "    }\n",
       "</style>\n",
       "<table border=\"1\" class=\"dataframe\">\n",
       "  <thead>\n",
       "    <tr style=\"text-align: right;\">\n",
       "      <th></th>\n",
       "      <th>buyer_id</th>\n",
       "      <th>frequency_score</th>\n",
       "      <th>monetary_score</th>\n",
       "      <th>recency_score</th>\n",
       "      <th>RFM_score</th>\n",
       "      <th>FM_mean</th>\n",
       "      <th>clusters</th>\n",
       "    </tr>\n",
       "  </thead>\n",
       "  <tbody>\n",
       "    <tr>\n",
       "      <th>0</th>\n",
       "      <td>7300108</td>\n",
       "      <td>1</td>\n",
       "      <td>1</td>\n",
       "      <td>4</td>\n",
       "      <td>2.000000</td>\n",
       "      <td>1.0</td>\n",
       "      <td>Hibernando</td>\n",
       "    </tr>\n",
       "    <tr>\n",
       "      <th>1</th>\n",
       "      <td>5874005</td>\n",
       "      <td>1</td>\n",
       "      <td>2</td>\n",
       "      <td>1</td>\n",
       "      <td>1.333333</td>\n",
       "      <td>1.5</td>\n",
       "      <td>Hibernando</td>\n",
       "    </tr>\n",
       "    <tr>\n",
       "      <th>2</th>\n",
       "      <td>6499728</td>\n",
       "      <td>1</td>\n",
       "      <td>3</td>\n",
       "      <td>1</td>\n",
       "      <td>1.666667</td>\n",
       "      <td>2.0</td>\n",
       "      <td>Hibernando</td>\n",
       "    </tr>\n",
       "    <tr>\n",
       "      <th>3</th>\n",
       "      <td>6499729</td>\n",
       "      <td>1</td>\n",
       "      <td>4</td>\n",
       "      <td>1</td>\n",
       "      <td>2.000000</td>\n",
       "      <td>2.5</td>\n",
       "      <td>Promissor</td>\n",
       "    </tr>\n",
       "    <tr>\n",
       "      <th>4</th>\n",
       "      <td>6499730</td>\n",
       "      <td>1</td>\n",
       "      <td>4</td>\n",
       "      <td>1</td>\n",
       "      <td>2.000000</td>\n",
       "      <td>2.5</td>\n",
       "      <td>Promissor</td>\n",
       "    </tr>\n",
       "    <tr>\n",
       "      <th>...</th>\n",
       "      <td>...</td>\n",
       "      <td>...</td>\n",
       "      <td>...</td>\n",
       "      <td>...</td>\n",
       "      <td>...</td>\n",
       "      <td>...</td>\n",
       "      <td>...</td>\n",
       "    </tr>\n",
       "    <tr>\n",
       "      <th>1100494</th>\n",
       "      <td>1128526</td>\n",
       "      <td>5</td>\n",
       "      <td>5</td>\n",
       "      <td>5</td>\n",
       "      <td>5.000000</td>\n",
       "      <td>5.0</td>\n",
       "      <td>Campeao</td>\n",
       "    </tr>\n",
       "    <tr>\n",
       "      <th>1100495</th>\n",
       "      <td>336781</td>\n",
       "      <td>5</td>\n",
       "      <td>5</td>\n",
       "      <td>5</td>\n",
       "      <td>5.000000</td>\n",
       "      <td>5.0</td>\n",
       "      <td>Campeao</td>\n",
       "    </tr>\n",
       "    <tr>\n",
       "      <th>1100496</th>\n",
       "      <td>701523</td>\n",
       "      <td>5</td>\n",
       "      <td>5</td>\n",
       "      <td>5</td>\n",
       "      <td>5.000000</td>\n",
       "      <td>5.0</td>\n",
       "      <td>Campeao</td>\n",
       "    </tr>\n",
       "    <tr>\n",
       "      <th>1100497</th>\n",
       "      <td>158226</td>\n",
       "      <td>5</td>\n",
       "      <td>5</td>\n",
       "      <td>5</td>\n",
       "      <td>5.000000</td>\n",
       "      <td>5.0</td>\n",
       "      <td>Campeao</td>\n",
       "    </tr>\n",
       "    <tr>\n",
       "      <th>1100498</th>\n",
       "      <td>4763605</td>\n",
       "      <td>5</td>\n",
       "      <td>5</td>\n",
       "      <td>5</td>\n",
       "      <td>5.000000</td>\n",
       "      <td>5.0</td>\n",
       "      <td>Campeao</td>\n",
       "    </tr>\n",
       "  </tbody>\n",
       "</table>\n",
       "<p>1100499 rows × 7 columns</p>\n",
       "</div>"
      ],
      "text/plain": [
       "        buyer_id  frequency_score  monetary_score  recency_score  RFM_score  \\\n",
       "0        7300108                1               1              4   2.000000   \n",
       "1        5874005                1               2              1   1.333333   \n",
       "2        6499728                1               3              1   1.666667   \n",
       "3        6499729                1               4              1   2.000000   \n",
       "4        6499730                1               4              1   2.000000   \n",
       "...          ...              ...             ...            ...        ...   \n",
       "1100494  1128526                5               5              5   5.000000   \n",
       "1100495   336781                5               5              5   5.000000   \n",
       "1100496   701523                5               5              5   5.000000   \n",
       "1100497   158226                5               5              5   5.000000   \n",
       "1100498  4763605                5               5              5   5.000000   \n",
       "\n",
       "         FM_mean    clusters  \n",
       "0            1.0  Hibernando  \n",
       "1            1.5  Hibernando  \n",
       "2            2.0  Hibernando  \n",
       "3            2.5   Promissor  \n",
       "4            2.5   Promissor  \n",
       "...          ...         ...  \n",
       "1100494      5.0     Campeao  \n",
       "1100495      5.0     Campeao  \n",
       "1100496      5.0     Campeao  \n",
       "1100497      5.0     Campeao  \n",
       "1100498      5.0     Campeao  \n",
       "\n",
       "[1100499 rows x 7 columns]"
      ]
     },
     "execution_count": 28,
     "metadata": {},
     "output_type": "execute_result"
    }
   ],
   "source": [
    "df_final"
   ]
  },
  {
   "cell_type": "markdown",
   "id": "0bba600b",
   "metadata": {},
   "source": [
    "Aqui após nossa clusterização vemos uma contagem das classificações de cada cluster. Podemos ver que tem\n",
    "muitos consumidores segmentados como `promissor`.\t"
   ]
  },
  {
   "cell_type": "code",
   "execution_count": 29,
   "id": "ccb4c5b3",
   "metadata": {
    "ExecuteTime": {
     "end_time": "2023-06-02T16:32:57.012939Z",
     "start_time": "2023-06-02T16:32:56.162869Z"
    }
   },
   "outputs": [
    {
     "data": {
      "image/png": "[encoded data removed]",
      "text/plain": [
       "<Figure size 1000x500 with 1 Axes>"
      ]
     },
     "metadata": {},
     "output_type": "display_data"
    }
   ],
   "source": [
    "sns.countplot(data=df_final, x='clusters');"
   ]
  },
  {
   "cell_type": "markdown",
   "id": "53e1e1f7",
   "metadata": {},
   "source": [
    "Nesse gráfico podemos ver um pouco da distribuição dos clusters seguindo a regra que definimos anteriormente. "
   ]
  },
  {
   "cell_type": "code",
   "execution_count": 30,
   "id": "5a547618",
   "metadata": {
    "ExecuteTime": {
     "end_time": "2023-06-02T16:34:34.839644Z",
     "start_time": "2023-06-02T16:32:57.016681Z"
    }
   },
   "outputs": [
    {
     "name": "stderr",
     "output_type": "stream",
     "text": [
      "/home/marcos/miniconda3/envs/hotmart/lib/python3.11/site-packages/IPython/core/events.py:89: UserWarning: Creating legend with loc=\"best\" can be slow with large amounts of data.\n",
      "  func(*args, **kwargs)\n",
      "/home/marcos/miniconda3/envs/hotmart/lib/python3.11/site-packages/IPython/core/pylabtools.py:152: UserWarning: Creating legend with loc=\"best\" can be slow with large amounts of data.\n",
      "  fig.canvas.print_figure(bytes_io, **kw)\n"
     ]
    },
    {
     "data": {
      "image/png": "[encoded data removed]",
      "text/plain": [
       "<Figure size 1000x500 with 1 Axes>"
      ]
     },
     "metadata": {},
     "output_type": "display_data"
    }
   ],
   "source": [
    "sns.scatterplot(\n",
    "    data=df_final,\n",
    "    x='frequency_score',\n",
    "    y='monetary_score',\n",
    "    hue='clusters'\n",
    ");"
   ]
  },
  {
   "cell_type": "markdown",
   "id": "30cdad53",
   "metadata": {},
   "source": [
    "### É possível estimar quanto de faturamento a Hotmart irá fazer nos próximos três meses a partir do último mês mostrado no dataset? "
   ]
  },
  {
   "cell_type": "markdown",
   "id": "92de12ca",
   "metadata": {},
   "source": [
    "Sim, podemos utilizar um modelo de regressão para poder prever esse valor baseado nos dados que tenho. "
   ]
  },
  {
   "cell_type": "code",
   "execution_count": 31,
   "id": "efbf84d2",
   "metadata": {
    "ExecuteTime": {
     "end_time": "2023-06-02T16:34:41.293454Z",
     "start_time": "2023-06-02T16:34:34.843073Z"
    }
   },
   "outputs": [],
   "source": [
    "df_raw = pd.read_csv(path, index_col=0)\n",
    "\n",
    "df_raw['purchase_date'] = pd.to_datetime(df_raw['purchase_date'])\n",
    "df_raw = df_raw.sort_values('purchase_date').reset_index(drop=True)"
   ]
  },
  {
   "cell_type": "markdown",
   "id": "dc0d3fd3",
   "metadata": {},
   "source": [
    "\n",
    "# TRAIN AND TEST\n",
    "\n",
    "### <font color=\"red\">IMPORTANTE</font>\n",
    "\n",
    "Irei fazer uma amostra da base de dados total. Por dois motivos:\n",
    "\n",
    "- Quantidade de dados muito grande para minha máquina local processar\n",
    "- A finalidade não é necessariamente focar no resultado.\n",
    "\n",
    "pegarei então assim 20.000 registros o que representa 1% da base total.\n",
    "\n",
    "A divisão de treino e teste foi da seguinte forma, como se trata de um problema temporal, ordenei pela data\n",
    "de compra e pegueis os 30% finais e utilizei para teste, enquanto os %70 iniciais usei\n",
    "para treino.\n",
    "\n",
    "Importante que essa divisão seja feita antes de qualquer etapa para simular o que acontece no ambiente de\n",
    "produção e não existir vazamento de dados."
   ]
  },
  {
   "cell_type": "code",
   "execution_count": 32,
   "id": "776d135d",
   "metadata": {
    "ExecuteTime": {
     "end_time": "2023-06-02T16:34:41.426667Z",
     "start_time": "2023-06-02T16:34:41.295603Z"
    }
   },
   "outputs": [],
   "source": [
    "df_raw =df_raw.sample(20000)\n",
    "\n",
    "# train and test\n",
    "df_train = df_raw.head(14000)\n",
    "df_test = df_raw.tail(6000)"
   ]
  },
  {
   "cell_type": "markdown",
   "id": "95f683e4",
   "metadata": {},
   "source": [
    "\n",
    "\n",
    "### Preparações de dados para o machine learning\n",
    "\n",
    "- purchase_value: Transformar para positivo todos os registros.\n",
    "- affiliate_commission_percentual: Drop dos valores NaN.\n",
    "- is_origin_page_social_network: Tranformar para números inteiros.\n",
    "- purchase_id: Drop pois é uma informação não disponível no momento da predição.\n",
    "- purchase_date: Como temos dados sómente do mês 1 do ano de 2016 poderíamis pegar somente o dia para essa coluna. Mas irei criar uma nova coluna chamada `period_of_day`. A qual vai seguir a regra que:\n",
    "    - 0: Manhã, caso a hora da compra seja até 12h \n",
    "    - 1: Tarde, caso a hora da compra seja maior que 12h e menor ou igual a 18h\n",
    "    - 2: Noite, caso a hora da compra esteja entre 18h e 00h\n",
    "- Venda: Dropar essa coluna, pois não traz informação nenhuma para nosso conjunto de dados, já que\n",
    "todos os registros estão com valor 1.\n",
    "- product_creation_date: A partir dessa coluna pegaremos o ano, mes e dia."
   ]
  },
  {
   "cell_type": "markdown",
   "id": "c5007cc4",
   "metadata": {},
   "source": [
    "Fiz uma abstração na preparação dos dados que está presente em `src/utils/machine_learning.py`. A função é `prepare_data_to_regression`"
   ]
  },
  {
   "cell_type": "code",
   "execution_count": 33,
   "id": "72472a71",
   "metadata": {
    "ExecuteTime": {
     "end_time": "2023-06-02T16:34:41.510375Z",
     "start_time": "2023-06-02T16:34:41.428906Z"
    }
   },
   "outputs": [],
   "source": [
    "df_train = prepare_data_to_regression(df_train)"
   ]
  },
  {
   "cell_type": "code",
   "execution_count": 34,
   "id": "7d712cc8",
   "metadata": {
    "ExecuteTime": {
     "end_time": "2023-06-02T16:34:41.521701Z",
     "start_time": "2023-06-02T16:34:41.512455Z"
    }
   },
   "outputs": [],
   "source": [
    "x_train = df_train.drop('purchase_value', axis=1).copy()\n",
    "y_train = df_train['purchase_value'].copy()"
   ]
  },
  {
   "cell_type": "code",
   "execution_count": 35,
   "id": "dbe6371b",
   "metadata": {
    "ExecuteTime": {
     "end_time": "2023-06-02T16:34:41.530081Z",
     "start_time": "2023-06-02T16:34:41.524525Z"
    }
   },
   "outputs": [],
   "source": [
    "num_columns = x_train.select_dtypes(include=[int, float]).columns.tolist()\n",
    "cat_columns = list(set(x_train.columns.tolist()) - set(num_columns)) "
   ]
  },
  {
   "cell_type": "markdown",
   "id": "b7b7d26f",
   "metadata": {},
   "source": [
    "\n",
    "## Pipeline\n",
    "\n",
    "Segue a baixo o pipeline de machine learning para criação do modelo de regressão.\n",
    "\n",
    "### <font color=\"red\">IMPORTANTE</font>\n",
    "\n",
    "O ideal seria fazer o teste com vários modelos de machine learning para poder comparar entre eles e de fato\n",
    "escolher um. Optei por escolher pela RandomForest por 3 motivos:\n",
    "\n",
    "1. É um algoritmo que na maioria dos problemas que resolvi se sai muito bem.\n",
    "2. Tempo para testar outros modelos\n",
    "3. A Random Forest possui a importância de features que vai servir para responder outra questão de negócio."
   ]
  },
  {
   "cell_type": "code",
   "execution_count": 36,
   "id": "8d1551f5",
   "metadata": {
    "ExecuteTime": {
     "end_time": "2023-06-02T16:34:41.541885Z",
     "start_time": "2023-06-02T16:34:41.534711Z"
    }
   },
   "outputs": [],
   "source": [
    "num = Pipeline([\n",
    "    ('mediana', SimpleImputer(strategy='median'))\n",
    "])\n",
    "\n",
    "cat = Pipeline([\n",
    "    ('freq', SimpleImputer(strategy='most_frequent'))\n",
    "])\n",
    "\n",
    "fillna = ColumnTransformer(transformers=[\n",
    "    ('num', num, num_columns),\n",
    "    ('freq', cat, cat_columns)\n",
    "])\n",
    "\n",
    "\n",
    "pipe = Pipeline([\n",
    "    ('fillna', fillna),\n",
    "    ('on', CountEncoder()),\n",
    "     ('scaler', StandardScaler()),\n",
    "     ('clf', RandomForestRegressor())\n",
    " ])"
   ]
  },
  {
   "cell_type": "code",
   "execution_count": 37,
   "id": "b38adf2c",
   "metadata": {
    "ExecuteTime": {
     "end_time": "2023-06-02T16:34:47.534845Z",
     "start_time": "2023-06-02T16:34:41.545251Z"
    }
   },
   "outputs": [
    {
     "data": {
      "text/html": [
       "<style>#sk-container-id-1 {color: black;background-color: white;}#sk-container-id-1 pre{padding: 0;}#sk-container-id-1 div.sk-toggleable {background-color: white;}#sk-container-id-1 label.sk-toggleable__label {cursor: pointer;display: block;width: 100%;margin-bottom: 0;padding: 0.3em;box-sizing: border-box;text-align: center;}#sk-container-id-1 label.sk-toggleable__label-arrow:before {content: \"▸\";float: left;margin-right: 0.25em;color: #696969;}#sk-container-id-1 label.sk-toggleable__label-arrow:hover:before {color: black;}#sk-container-id-1 div.sk-estimator:hover label.sk-toggleable__label-arrow:before {color: black;}#sk-container-id-1 div.sk-toggleable__content {max-height: 0;max-width: 0;overflow: hidden;text-align: left;background-color: #f0f8ff;}#sk-container-id-1 div.sk-toggleable__content pre {margin: 0.2em;color: black;border-radius: 0.25em;background-color: #f0f8ff;}#sk-container-id-1 input.sk-toggleable__control:checked~div.sk-toggleable__content {max-height: 200px;max-width: 100%;overflow: auto;}#sk-container-id-1 input.sk-toggleable__control:checked~label.sk-toggleable__label-arrow:before {content: \"▾\";}#sk-container-id-1 div.sk-estimator input.sk-toggleable__control:checked~label.sk-toggleable__label {background-color: #d4ebff;}#sk-container-id-1 div.sk-label input.sk-toggleable__control:checked~label.sk-toggleable__label {background-color: #d4ebff;}#sk-container-id-1 input.sk-hidden--visually {border: 0;clip: rect(1px 1px 1px 1px);clip: rect(1px, 1px, 1px, 1px);height: 1px;margin: -1px;overflow: hidden;padding: 0;position: absolute;width: 1px;}#sk-container-id-1 div.sk-estimator {font-family: monospace;background-color: #f0f8ff;border: 1px dotted black;border-radius: 0.25em;box-sizing: border-box;margin-bottom: 0.5em;}#sk-container-id-1 div.sk-estimator:hover {background-color: #d4ebff;}#sk-container-id-1 div.sk-parallel-item::after {content: \"\";width: 100%;border-bottom: 1px solid gray;flex-grow: 1;}#sk-container-id-1 div.sk-label:hover label.sk-toggleable__label {background-color: #d4ebff;}#sk-container-id-1 div.sk-serial::before {content: \"\";position: absolute;border-left: 1px solid gray;box-sizing: border-box;top: 0;bottom: 0;left: 50%;z-index: 0;}#sk-container-id-1 div.sk-serial {display: flex;flex-direction: column;align-items: center;background-color: white;padding-right: 0.2em;padding-left: 0.2em;position: relative;}#sk-container-id-1 div.sk-item {position: relative;z-index: 1;}#sk-container-id-1 div.sk-parallel {display: flex;align-items: stretch;justify-content: center;background-color: white;position: relative;}#sk-container-id-1 div.sk-item::before, #sk-container-id-1 div.sk-parallel-item::before {content: \"\";position: absolute;border-left: 1px solid gray;box-sizing: border-box;top: 0;bottom: 0;left: 50%;z-index: -1;}#sk-container-id-1 div.sk-parallel-item {display: flex;flex-direction: column;z-index: 1;position: relative;background-color: white;}#sk-container-id-1 div.sk-parallel-item:first-child::after {align-self: flex-end;width: 50%;}#sk-container-id-1 div.sk-parallel-item:last-child::after {align-self: flex-start;width: 50%;}#sk-container-id-1 div.sk-parallel-item:only-child::after {width: 0;}#sk-container-id-1 div.sk-dashed-wrapped {border: 1px dashed gray;margin: 0 0.4em 0.5em 0.4em;box-sizing: border-box;padding-bottom: 0.4em;background-color: white;}#sk-container-id-1 div.sk-label label {font-family: monospace;font-weight: bold;display: inline-block;line-height: 1.2em;}#sk-container-id-1 div.sk-label-container {text-align: center;}#sk-container-id-1 div.sk-container {/* jupyter's `normalize.less` sets `[hidden] { display: none; }` but bootstrap.min.css set `[hidden] { display: none !important; }` so we also need the `!important` here to be able to override the default hidden behavior on the sphinx rendered scikit-learn.org. See: https://github.com/scikit-learn/scikit-learn/issues/21755 */display: inline-block !important;position: relative;}#sk-container-id-1 div.sk-text-repr-fallback {display: none;}</style><div id=\"sk-container-id-1\" class=\"sk-top-container\"><div class=\"sk-text-repr-fallback\"><pre>Pipeline(steps=[(&#x27;fillna&#x27;,\n",
       "                 ColumnTransformer(transformers=[(&#x27;num&#x27;,\n",
       "                                                  Pipeline(steps=[(&#x27;mediana&#x27;,\n",
       "                                                                   SimpleImputer(strategy=&#x27;median&#x27;))]),\n",
       "                                                  [&#x27;product_id&#x27;, &#x27;affiliate_id&#x27;,\n",
       "                                                   &#x27;producer_id&#x27;, &#x27;buyer_id&#x27;,\n",
       "                                                   &#x27;affiliate_commission_percentual&#x27;,\n",
       "                                                   &#x27;is_origin_page_social_network&#x27;,\n",
       "                                                   &#x27;period_of_day&#x27;, &#x27;year&#x27;,\n",
       "                                                   &#x27;month&#x27;, &#x27;day&#x27;]),\n",
       "                                                 (&#x27;freq&#x27;,\n",
       "                                                  Pipeline(steps=[(&#x27;freq&#x27;,\n",
       "                                                                   SimpleImputer(strategy=&#x27;most_frequent&#x27;))]),\n",
       "                                                  [&#x27;product_category&#x27;,\n",
       "                                                   &#x27;purchase_origin&#x27;,\n",
       "                                                   &#x27;purchase_device&#x27;,\n",
       "                                                   &#x27;product_niche&#x27;])])),\n",
       "                (&#x27;on&#x27;,\n",
       "                 CountEncoder(cols=[0, 1, 2, 3, 4, 5, 6, 7, 8, 9, 10, 11, 12,\n",
       "                                    13],\n",
       "                              combine_min_nan_groups=True)),\n",
       "                (&#x27;scaler&#x27;, StandardScaler()),\n",
       "                (&#x27;clf&#x27;, RandomForestRegressor())])</pre><b>In a Jupyter environment, please rerun this cell to show the HTML representation or trust the notebook. <br />On GitHub, the HTML representation is unable to render, please try loading this page with nbviewer.org.</b></div><div class=\"sk-container\" hidden><div class=\"sk-item sk-dashed-wrapped\"><div class=\"sk-label-container\"><div class=\"sk-label sk-toggleable\"><input class=\"sk-toggleable__control sk-hidden--visually\" id=\"sk-estimator-id-1\" type=\"checkbox\" ><label for=\"sk-estimator-id-1\" class=\"sk-toggleable__label sk-toggleable__label-arrow\">Pipeline</label><div class=\"sk-toggleable__content\"><pre>Pipeline(steps=[(&#x27;fillna&#x27;,\n",
       "                 ColumnTransformer(transformers=[(&#x27;num&#x27;,\n",
       "                                                  Pipeline(steps=[(&#x27;mediana&#x27;,\n",
       "                                                                   SimpleImputer(strategy=&#x27;median&#x27;))]),\n",
       "                                                  [&#x27;product_id&#x27;, &#x27;affiliate_id&#x27;,\n",
       "                                                   &#x27;producer_id&#x27;, &#x27;buyer_id&#x27;,\n",
       "                                                   &#x27;affiliate_commission_percentual&#x27;,\n",
       "                                                   &#x27;is_origin_page_social_network&#x27;,\n",
       "                                                   &#x27;period_of_day&#x27;, &#x27;year&#x27;,\n",
       "                                                   &#x27;month&#x27;, &#x27;day&#x27;]),\n",
       "                                                 (&#x27;freq&#x27;,\n",
       "                                                  Pipeline(steps=[(&#x27;freq&#x27;,\n",
       "                                                                   SimpleImputer(strategy=&#x27;most_frequent&#x27;))]),\n",
       "                                                  [&#x27;product_category&#x27;,\n",
       "                                                   &#x27;purchase_origin&#x27;,\n",
       "                                                   &#x27;purchase_device&#x27;,\n",
       "                                                   &#x27;product_niche&#x27;])])),\n",
       "                (&#x27;on&#x27;,\n",
       "                 CountEncoder(cols=[0, 1, 2, 3, 4, 5, 6, 7, 8, 9, 10, 11, 12,\n",
       "                                    13],\n",
       "                              combine_min_nan_groups=True)),\n",
       "                (&#x27;scaler&#x27;, StandardScaler()),\n",
       "                (&#x27;clf&#x27;, RandomForestRegressor())])</pre></div></div></div><div class=\"sk-serial\"><div class=\"sk-item sk-dashed-wrapped\"><div class=\"sk-label-container\"><div class=\"sk-label sk-toggleable\"><input class=\"sk-toggleable__control sk-hidden--visually\" id=\"sk-estimator-id-2\" type=\"checkbox\" ><label for=\"sk-estimator-id-2\" class=\"sk-toggleable__label sk-toggleable__label-arrow\">fillna: ColumnTransformer</label><div class=\"sk-toggleable__content\"><pre>ColumnTransformer(transformers=[(&#x27;num&#x27;,\n",
       "                                 Pipeline(steps=[(&#x27;mediana&#x27;,\n",
       "                                                  SimpleImputer(strategy=&#x27;median&#x27;))]),\n",
       "                                 [&#x27;product_id&#x27;, &#x27;affiliate_id&#x27;, &#x27;producer_id&#x27;,\n",
       "                                  &#x27;buyer_id&#x27;, &#x27;affiliate_commission_percentual&#x27;,\n",
       "                                  &#x27;is_origin_page_social_network&#x27;,\n",
       "                                  &#x27;period_of_day&#x27;, &#x27;year&#x27;, &#x27;month&#x27;, &#x27;day&#x27;]),\n",
       "                                (&#x27;freq&#x27;,\n",
       "                                 Pipeline(steps=[(&#x27;freq&#x27;,\n",
       "                                                  SimpleImputer(strategy=&#x27;most_frequent&#x27;))]),\n",
       "                                 [&#x27;product_category&#x27;, &#x27;purchase_origin&#x27;,\n",
       "                                  &#x27;purchase_device&#x27;, &#x27;product_niche&#x27;])])</pre></div></div></div><div class=\"sk-parallel\"><div class=\"sk-parallel-item\"><div class=\"sk-item\"><div class=\"sk-label-container\"><div class=\"sk-label sk-toggleable\"><input class=\"sk-toggleable__control sk-hidden--visually\" id=\"sk-estimator-id-3\" type=\"checkbox\" ><label for=\"sk-estimator-id-3\" class=\"sk-toggleable__label sk-toggleable__label-arrow\">num</label><div class=\"sk-toggleable__content\"><pre>[&#x27;product_id&#x27;, &#x27;affiliate_id&#x27;, &#x27;producer_id&#x27;, &#x27;buyer_id&#x27;, &#x27;affiliate_commission_percentual&#x27;, &#x27;is_origin_page_social_network&#x27;, &#x27;period_of_day&#x27;, &#x27;year&#x27;, &#x27;month&#x27;, &#x27;day&#x27;]</pre></div></div></div><div class=\"sk-serial\"><div class=\"sk-item\"><div class=\"sk-serial\"><div class=\"sk-item\"><div class=\"sk-estimator sk-toggleable\"><input class=\"sk-toggleable__control sk-hidden--visually\" id=\"sk-estimator-id-4\" type=\"checkbox\" ><label for=\"sk-estimator-id-4\" class=\"sk-toggleable__label sk-toggleable__label-arrow\">SimpleImputer</label><div class=\"sk-toggleable__content\"><pre>SimpleImputer(strategy=&#x27;median&#x27;)</pre></div></div></div></div></div></div></div></div><div class=\"sk-parallel-item\"><div class=\"sk-item\"><div class=\"sk-label-container\"><div class=\"sk-label sk-toggleable\"><input class=\"sk-toggleable__control sk-hidden--visually\" id=\"sk-estimator-id-5\" type=\"checkbox\" ><label for=\"sk-estimator-id-5\" class=\"sk-toggleable__label sk-toggleable__label-arrow\">freq</label><div class=\"sk-toggleable__content\"><pre>[&#x27;product_category&#x27;, &#x27;purchase_origin&#x27;, &#x27;purchase_device&#x27;, &#x27;product_niche&#x27;]</pre></div></div></div><div class=\"sk-serial\"><div class=\"sk-item\"><div class=\"sk-serial\"><div class=\"sk-item\"><div class=\"sk-estimator sk-toggleable\"><input class=\"sk-toggleable__control sk-hidden--visually\" id=\"sk-estimator-id-6\" type=\"checkbox\" ><label for=\"sk-estimator-id-6\" class=\"sk-toggleable__label sk-toggleable__label-arrow\">SimpleImputer</label><div class=\"sk-toggleable__content\"><pre>SimpleImputer(strategy=&#x27;most_frequent&#x27;)</pre></div></div></div></div></div></div></div></div></div></div><div class=\"sk-item\"><div class=\"sk-estimator sk-toggleable\"><input class=\"sk-toggleable__control sk-hidden--visually\" id=\"sk-estimator-id-7\" type=\"checkbox\" ><label for=\"sk-estimator-id-7\" class=\"sk-toggleable__label sk-toggleable__label-arrow\">CountEncoder</label><div class=\"sk-toggleable__content\"><pre>CountEncoder(cols=[0, 1, 2, 3, 4, 5, 6, 7, 8, 9, 10, 11, 12, 13],\n",
       "             combine_min_nan_groups=True)</pre></div></div></div><div class=\"sk-item\"><div class=\"sk-estimator sk-toggleable\"><input class=\"sk-toggleable__control sk-hidden--visually\" id=\"sk-estimator-id-8\" type=\"checkbox\" ><label for=\"sk-estimator-id-8\" class=\"sk-toggleable__label sk-toggleable__label-arrow\">StandardScaler</label><div class=\"sk-toggleable__content\"><pre>StandardScaler()</pre></div></div></div><div class=\"sk-item\"><div class=\"sk-estimator sk-toggleable\"><input class=\"sk-toggleable__control sk-hidden--visually\" id=\"sk-estimator-id-9\" type=\"checkbox\" ><label for=\"sk-estimator-id-9\" class=\"sk-toggleable__label sk-toggleable__label-arrow\">RandomForestRegressor</label><div class=\"sk-toggleable__content\"><pre>RandomForestRegressor()</pre></div></div></div></div></div></div></div>"
      ],
      "text/plain": [
       "Pipeline(steps=[('fillna',\n",
       "                 ColumnTransformer(transformers=[('num',\n",
       "                                                  Pipeline(steps=[('mediana',\n",
       "                                                                   SimpleImputer(strategy='median'))]),\n",
       "                                                  ['product_id', 'affiliate_id',\n",
       "                                                   'producer_id', 'buyer_id',\n",
       "                                                   'affiliate_commission_percentual',\n",
       "                                                   'is_origin_page_social_network',\n",
       "                                                   'period_of_day', 'year',\n",
       "                                                   'month', 'day']),\n",
       "                                                 ('freq',\n",
       "                                                  Pipeline(steps=[('freq',\n",
       "                                                                   SimpleImputer(strategy='most_frequent'))]),\n",
       "                                                  ['product_category',\n",
       "                                                   'purchase_origin',\n",
       "                                                   'purchase_device',\n",
       "                                                   'product_niche'])])),\n",
       "                ('on',\n",
       "                 CountEncoder(cols=[0, 1, 2, 3, 4, 5, 6, 7, 8, 9, 10, 11, 12,\n",
       "                                    13],\n",
       "                              combine_min_nan_groups=True)),\n",
       "                ('scaler', StandardScaler()),\n",
       "                ('clf', RandomForestRegressor())])"
      ]
     },
     "execution_count": 37,
     "metadata": {},
     "output_type": "execute_result"
    }
   ],
   "source": [
    "pipe.fit(x_train, y_train.to_numpy())"
   ]
  },
  {
   "cell_type": "markdown",
   "id": "54542058",
   "metadata": {
    "ExecuteTime": {
     "end_time": "2023-06-02T15:47:47.386413Z",
     "start_time": "2023-06-02T15:47:18.660338Z"
    }
   },
   "source": [
    "Otimização de hiperparâmetros com cross-validation.\n",
    "\n",
    "```\n",
    "params = {\n",
    "    'clf__n_estimators': [100, 500, 1000],\n",
    "    'clf__max_depth': list(range(1,10)),\n",
    "}\n",
    "\n",
    "model = RandomizedSearchCV(estimator=pipe, param_distributions=params, scoring='r2', cv=5, n_iter=15, verbose=True)\n",
    "model.fit(x_train, y_train.to_numpy())\n",
    "```"
   ]
  },
  {
   "cell_type": "markdown",
   "id": "07817fd2",
   "metadata": {
    "ExecuteTime": {
     "end_time": "2023-06-02T15:50:28.855567Z",
     "start_time": "2023-06-02T15:50:28.769620Z"
    }
   },
   "source": [
    "Salvando o modelo para que não seja preciso rodar todas as vezes que abrir o notebook.\n",
    "\n",
    "```\n",
    "pickle.dump(pipe, open('src/model/randomForestModel.pkl', 'wb' ) )\n",
    "```"
   ]
  },
  {
   "cell_type": "code",
   "execution_count": 39,
   "id": "5774e28d",
   "metadata": {
    "ExecuteTime": {
     "end_time": "2023-06-02T16:35:07.554244Z",
     "start_time": "2023-06-02T16:35:07.345308Z"
    }
   },
   "outputs": [],
   "source": [
    "with open('src/model/randomForestModel.pkl', 'rb') as file:\n",
    "    model = pickle.load(file)"
   ]
  },
  {
   "cell_type": "markdown",
   "id": "18c47df9",
   "metadata": {},
   "source": [
    "Encapsulei esse método `ml_error` presente em `src/utils/machine_learning.py` para poder calcular os erros\n",
    "MAE, MAPE e RMSE de forma rápida."
   ]
  },
  {
   "cell_type": "code",
   "execution_count": 40,
   "id": "d2295beb",
   "metadata": {
    "ExecuteTime": {
     "end_time": "2023-06-02T16:35:08.955906Z",
     "start_time": "2023-06-02T16:35:08.508736Z"
    }
   },
   "outputs": [
    {
     "data": {
      "text/html": [
       "<div>\n",
       "<style scoped>\n",
       "    .dataframe tbody tr th:only-of-type {\n",
       "        vertical-align: middle;\n",
       "    }\n",
       "\n",
       "    .dataframe tbody tr th {\n",
       "        vertical-align: top;\n",
       "    }\n",
       "\n",
       "    .dataframe thead th {\n",
       "        text-align: right;\n",
       "    }\n",
       "</style>\n",
       "<table border=\"1\" class=\"dataframe\">\n",
       "  <thead>\n",
       "    <tr style=\"text-align: right;\">\n",
       "      <th></th>\n",
       "      <th>Model Name</th>\n",
       "      <th>MAE</th>\n",
       "      <th>MAPE</th>\n",
       "      <th>RMSE</th>\n",
       "    </tr>\n",
       "  </thead>\n",
       "  <tbody>\n",
       "    <tr>\n",
       "      <th>0</th>\n",
       "      <td>Random Forest</td>\n",
       "      <td>0.185911</td>\n",
       "      <td>1.333964</td>\n",
       "      <td>0.535623</td>\n",
       "    </tr>\n",
       "  </tbody>\n",
       "</table>\n",
       "</div>"
      ],
      "text/plain": [
       "      Model Name       MAE      MAPE      RMSE\n",
       "0  Random Forest  0.185911  1.333964  0.535623"
      ]
     },
     "execution_count": 40,
     "metadata": {},
     "output_type": "execute_result"
    }
   ],
   "source": [
    "yhat = model.predict(x_train)\n",
    "df_erros = ml_error('Random Forest', y_train, yhat)\n",
    "df_erros"
   ]
  },
  {
   "cell_type": "markdown",
   "id": "9229ebb7",
   "metadata": {},
   "source": [
    "\n",
    "### Voltando à questão\n",
    "\n",
    "*É possível estimar quanto de faturamento a Hotmart irá fazer nos próximos três meses a partir do último mês \n",
    "mostrado no dataset?*  \n",
    "\n",
    "<font color=\"green\">**SIM**</font>. Com este modelo apresentado podemos fazer a previsão da variável `purchase_value` pra o pŕoximo mês. Faríamos então a previsão de produtos vendidos no próximo mês, e daí então\n",
    "somaríamos esses valores e teríamos o resultado para o mês."
   ]
  },
  {
   "cell_type": "markdown",
   "id": "3cfab798",
   "metadata": {},
   "source": [
    "### Quais características mais impactam no sucesso de um produto? Ou seja, o que faz um produto vender mais? "
   ]
  },
  {
   "cell_type": "markdown",
   "id": "b1528d90",
   "metadata": {},
   "source": [
    "Como dito anteriormente, o algoritmo da Random Forest fornece essa importância de features para as decisões\n",
    "do modelo ao longo do processo. \n",
    "\n",
    "Como visto no gráfico abaixo as características que mais influenciam o modelo são:\n",
    "\n",
    "1. **is_origin_page_social_network**: informa se essa compra veio de uma URL do Facebook, Youtube, Instagram, Pinterest, ou Twitter.\n",
    "2. **product_id**: Identificação do produto na Hotmart;\n",
    "3. **month**: Feature criada a parti da coluna `product_creation_date`."
   ]
  },
  {
   "cell_type": "code",
   "execution_count": 41,
   "id": "2bc48b2d",
   "metadata": {
    "ExecuteTime": {
     "end_time": "2023-06-02T16:35:11.217854Z",
     "start_time": "2023-06-02T16:35:11.194546Z"
    }
   },
   "outputs": [],
   "source": [
    "importances = model.steps[-1][1].feature_importances_"
   ]
  },
  {
   "cell_type": "code",
   "execution_count": 42,
   "id": "26d312ac",
   "metadata": {
    "ExecuteTime": {
     "end_time": "2023-06-02T16:35:12.214338Z",
     "start_time": "2023-06-02T16:35:11.772967Z"
    }
   },
   "outputs": [
    {
     "data": {
      "image/png": "[encoded data removed]",
      "text/plain": [
       "<Figure size 1000x500 with 1 Axes>"
      ]
     },
     "metadata": {},
     "output_type": "display_data"
    }
   ],
   "source": [
    "indices = np.argsort( importances )[::-1]\n",
    "\n",
    "df = pd.DataFrame()\n",
    "\n",
    "for i,j in zip(x_train, importances):\n",
    "    aux = pd.DataFrame( {'feature': i, 'importance': j}, index=[0] )\n",
    "    df = pd.concat( [df,aux], axis=0 )\n",
    "    \n",
    "# plot\n",
    "features = pd.DataFrame( {'features': x_train.columns, 'score': importances} ).sort_values( 'score', ascending=False )\n",
    "sns.barplot( data=features, x='score', y='features', palette='Blues_r');"
   ]
  }
 ],
 "metadata": {
  "kernelspec": {
   "display_name": "hotmart",
   "language": "python",
   "name": "hotmart"
  },
  "language_info": {
   "codemirror_mode": {
    "name": "ipython",
    "version": 3
   },
   "file_extension": ".py",
   "mimetype": "text/x-python",
   "name": "python",
   "nbconvert_exporter": "python",
   "pygments_lexer": "ipython3",
   "version": "3.11.3"
  }
 },
 "nbformat": 4,
 "nbformat_minor": 5
}
