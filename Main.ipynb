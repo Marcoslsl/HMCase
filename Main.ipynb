{
 "cells": [
  {
   "cell_type": "code",
   "execution_count": 1,
   "id": "d833d7b0",
   "metadata": {
    "ExecuteTime": {
     "end_time": "2023-05-31T13:43:47.834617Z",
     "start_time": "2023-05-31T13:43:46.942831Z"
    }
   },
   "outputs": [],
   "source": [
    "from sqlalchemy import create_engine, MetaData, Table, Column, Integer, String\n",
    "from sqlalchemy.orm import sessionmaker\n",
    "import pandas as pd"
   ]
  },
  {
   "cell_type": "markdown",
   "id": "6df000bb",
   "metadata": {},
   "source": [
    "# 1.0 Get Data "
   ]
  },
  {
   "cell_type": "code",
   "execution_count": 2,
   "id": "9b67f1cc",
   "metadata": {
    "ExecuteTime": {
     "end_time": "2023-05-31T13:43:47.842282Z",
     "start_time": "2023-05-31T13:43:47.837359Z"
    }
   },
   "outputs": [],
   "source": [
    "host = 'interview-2.ck1h5ksgzpiq.us-east-1.rds.amazonaws.com'  \n",
    "porta = 3306\n",
    "usuario = 'hotinterview'\n",
    "senha = '6cT4jk9QWPhQC9KXWKDd'\n",
    "schema = 'innodb'\n",
    "tabela = 'sales_data'\n",
    "\n",
    "url_conexao = f'mysql+pymysql://{usuario}:{senha}@{host}:{porta}/{schema}'"
   ]
  },
  {
   "cell_type": "code",
   "execution_count": 3,
   "id": "558d7593",
   "metadata": {
    "ExecuteTime": {
     "end_time": "2023-05-31T13:43:47.890338Z",
     "start_time": "2023-05-31T13:43:47.845097Z"
    }
   },
   "outputs": [],
   "source": [
    "engine = create_engine(url_conexao, echo=True)  # Use \"echo=True\" para ver as mensagens de log"
   ]
  },
  {
   "cell_type": "code",
   "execution_count": 4,
   "id": "1e4dc822",
   "metadata": {
    "ExecuteTime": {
     "end_time": "2023-05-31T13:43:49.346653Z",
     "start_time": "2023-05-31T13:43:49.338627Z"
    }
   },
   "outputs": [],
   "source": [
    "Session = sessionmaker(bind=engine)\n",
    "session = Session()\n",
    "session.close()"
   ]
  },
  {
   "cell_type": "code",
   "execution_count": 5,
   "id": "9cc95a6b",
   "metadata": {
    "ExecuteTime": {
     "end_time": "2023-05-31T13:44:39.650164Z",
     "start_time": "2023-05-31T13:43:49.660135Z"
    }
   },
   "outputs": [
    {
     "name": "stdout",
     "output_type": "stream",
     "text": [
      "2023-05-31 10:43:51,272 INFO sqlalchemy.engine.Engine SELECT DATABASE()\n",
      "2023-05-31 10:43:51,273 INFO sqlalchemy.engine.Engine [raw sql] {}\n",
      "2023-05-31 10:43:51,680 INFO sqlalchemy.engine.Engine SELECT @@sql_mode\n",
      "2023-05-31 10:43:51,681 INFO sqlalchemy.engine.Engine [raw sql] {}\n",
      "2023-05-31 10:43:51,886 INFO sqlalchemy.engine.Engine SELECT @@lower_case_table_names\n",
      "2023-05-31 10:43:51,889 INFO sqlalchemy.engine.Engine [raw sql] {}\n",
      "2023-05-31 10:43:52,225 INFO sqlalchemy.engine.Engine BEGIN (implicit)\n",
      "2023-05-31 10:43:52,226 INFO sqlalchemy.engine.Engine DESCRIBE `innodb`.`SELECT * FROM sales_data`\n",
      "2023-05-31 10:43:52,230 INFO sqlalchemy.engine.Engine [raw sql] {}\n",
      "2023-05-31 10:43:52,347 INFO sqlalchemy.engine.Engine SELECT * FROM sales_data\n",
      "2023-05-31 10:43:52,349 INFO sqlalchemy.engine.Engine [raw sql] {}\n",
      "2023-05-31 10:44:39,299 INFO sqlalchemy.engine.Engine ROLLBACK\n"
     ]
    }
   ],
   "source": [
    "query = 'SELECT * FROM sales_data'\n",
    "df = pd.read_sql(query, engine)"
   ]
  },
  {
   "cell_type": "markdown",
   "id": "af381ee9",
   "metadata": {},
   "source": [
    "# 2.0 Observações iniciais "
   ]
  },
  {
   "cell_type": "markdown",
   "id": "a5b1eb1c",
   "metadata": {},
   "source": [
    "- purchase_id: Identificação da compra na Hotmart;\n",
    "- product_id: Identificação do produto na Hotmart;\n",
    "- affiliate_id: Identificação do afiliado na Hotmart;\n",
    "- producer_id: Identificação do produtor na Hotmart;\n",
    "- buyer_id: Identificação do comprador na Hotmart;\n",
    "- purchase_date: Data e hora em que a compra foi realizada;\n",
    "- product_creation_date: Data e hora em que o produto foi criado na Hotmart;\n",
    "- product_category: categoria do produto na Hotmart. Exemplo: e-book,\n",
    "software, curso online, e-tickets, etc.;\n",
    "- product_niche: nicho de mercado que o produto faz parte. Exemplo:\n",
    "educação, saúde e bem-estar, sexualidade, etc.;\n",
    "- purchase_value: valor da compra. Esse dado, assim como nicho e categoria foi\n",
    "codificado para manter a confidencialidade. O valor apresentado no dataset é\n",
    "o z-score do valor real;\n",
    "- affiliate_commission_percentual: percentual de comissão que o afiliado\n",
    "receberá da compra;\n",
    "- purchase_device: tipo de dispositivo utilizado no momento da compra, como:\n",
    "Desktop, Mobile, Tablet, ou Outros;\n",
    "- purchase_origin: endereço do site do qual a pessoa veio antes da compra. Por\n",
    "exemplo, se uma pessoa veio do Facebook, Youtube, ou até mesmo de outra\n",
    "página no site oficial do produto;\n",
    "- is_origin_page_social_network: informa se essa compra veio de uma URL do\n",
    "Facebook, Youtube, Instagram, Pinterest, ou Twitter.\n",
    "\n",
    "## Algumas regras de negócio\n",
    "- Quando a compra for feita diretamente pelo produtor, ou seja, quando não\n",
    "houver afiliado intermediando a compra, o campo\n",
    "affiliate_commission_percentual terá valor 0, e o campo affiliate_id será\n",
    "igual ao producer_id;\n",
    "- No campo purchase_origin nós apenas consideramos o host do site. Isso quer\n",
    "dizer que, se uma pessoa veio do site www.meuproduto.com/promocoes,\n",
    "esse campo só irá retornar o valor www.meuproduto.com;"
   ]
  },
  {
   "cell_type": "markdown",
   "id": "d6880a01",
   "metadata": {},
   "source": [
    "Validação da primeira regra de negócio. Nesse caso não temos nenhum registro onde a compra foi feita\n",
    "diretamente pelo produtor."
   ]
  },
  {
   "cell_type": "code",
   "execution_count": 6,
   "id": "f323af96",
   "metadata": {
    "ExecuteTime": {
     "end_time": "2023-05-31T13:44:39.699444Z",
     "start_time": "2023-05-31T13:44:39.656560Z"
    }
   },
   "outputs": [
    {
     "data": {
      "text/html": [
       "<div>\n",
       "<style scoped>\n",
       "    .dataframe tbody tr th:only-of-type {\n",
       "        vertical-align: middle;\n",
       "    }\n",
       "\n",
       "    .dataframe tbody tr th {\n",
       "        vertical-align: top;\n",
       "    }\n",
       "\n",
       "    .dataframe thead th {\n",
       "        text-align: right;\n",
       "    }\n",
       "</style>\n",
       "<table border=\"1\" class=\"dataframe\">\n",
       "  <thead>\n",
       "    <tr style=\"text-align: right;\">\n",
       "      <th></th>\n",
       "      <th>purchase_id</th>\n",
       "      <th>product_id</th>\n",
       "      <th>affiliate_id</th>\n",
       "      <th>producer_id</th>\n",
       "      <th>buyer_id</th>\n",
       "      <th>purchase_date</th>\n",
       "      <th>product_creation_date</th>\n",
       "      <th>product_category</th>\n",
       "      <th>product_niche</th>\n",
       "      <th>purchase_value</th>\n",
       "      <th>affiliate_commission_percentual</th>\n",
       "      <th>purchase_device</th>\n",
       "      <th>purchase_origin</th>\n",
       "      <th>is_origin_page_social_network</th>\n",
       "      <th>Venda</th>\n",
       "    </tr>\n",
       "  </thead>\n",
       "  <tbody>\n",
       "  </tbody>\n",
       "</table>\n",
       "</div>"
      ],
      "text/plain": [
       "Empty DataFrame\n",
       "Columns: [purchase_id, product_id, affiliate_id, producer_id, buyer_id, purchase_date, product_creation_date, product_category, product_niche, purchase_value, affiliate_commission_percentual, purchase_device, purchase_origin, is_origin_page_social_network, Venda]\n",
       "Index: []"
      ]
     },
     "execution_count": 6,
     "metadata": {},
     "output_type": "execute_result"
    }
   ],
   "source": [
    "df[df['product_id'] == df['affiliate_id']]"
   ]
  },
  {
   "cell_type": "markdown",
   "id": "17423f61",
   "metadata": {},
   "source": [
    "A coluna **purchase_origin** não possui um comportamento de host como **www.meuproduto.com**, mas irei considerar que a informação é essa mesmo. "
   ]
  },
  {
   "cell_type": "code",
   "execution_count": 18,
   "id": "ac42f6c0",
   "metadata": {
    "ExecuteTime": {
     "end_time": "2023-05-31T13:57:47.552786Z",
     "start_time": "2023-05-31T13:57:47.331915Z"
    }
   },
   "outputs": [
    {
     "data": {
      "text/plain": [
       "purchase_origin\n",
       "Origin ef2b    330077\n",
       "Origin 5187    167028\n",
       "Origin adf0     77857\n",
       "Origin 18eb     28693\n",
       "Origin 3ade     13069\n",
       "                ...  \n",
       "Origin e51d         1\n",
       "Origin d5eb         1\n",
       "Origin 00ca         1\n",
       "Origin 7475         1\n",
       "Origin 290d         1\n",
       "Name: count, Length: 9603, dtype: int64"
      ]
     },
     "execution_count": 18,
     "metadata": {},
     "output_type": "execute_result"
    }
   ],
   "source": [
    "df['purchase_origin'].value_counts()"
   ]
  },
  {
   "cell_type": "code",
   "execution_count": null,
   "id": "03b8ef19",
   "metadata": {},
   "outputs": [],
   "source": [
    "df"
   ]
  },
  {
   "cell_type": "code",
   "execution_count": null,
   "id": "e4079494",
   "metadata": {},
   "outputs": [],
   "source": []
  },
  {
   "cell_type": "code",
   "execution_count": null,
   "id": "330b7d56",
   "metadata": {},
   "outputs": [],
   "source": []
  },
  {
   "cell_type": "markdown",
   "id": "f216ebea",
   "metadata": {},
   "source": [
    "# DATA CLEANING "
   ]
  },
  {
   "cell_type": "code",
   "execution_count": 21,
   "id": "4afad532",
   "metadata": {
    "ExecuteTime": {
     "end_time": "2023-05-31T14:00:54.305301Z",
     "start_time": "2023-05-31T14:00:54.261698Z"
    }
   },
   "outputs": [
    {
     "data": {
      "text/plain": [
       "affiliate_commission_percentual\n",
       "0.00     1338727\n",
       "50.00      70931\n",
       "60.00      33794\n",
       "30.00      20419\n",
       "40.00      19606\n",
       "          ...   \n",
       "29.60          1\n",
       "29.48          1\n",
       "39.03          1\n",
       "30.11          1\n",
       "28.88          1\n",
       "Name: count, Length: 279, dtype: int64"
      ]
     },
     "execution_count": 21,
     "metadata": {},
     "output_type": "execute_result"
    }
   ],
   "source": [
    "df['affiliate_commission_percentual'].value_counts()"
   ]
  }
 ],
 "metadata": {
  "kernelspec": {
   "display_name": "hotmart",
   "language": "python",
   "name": "hotmart"
  },
  "language_info": {
   "codemirror_mode": {
    "name": "ipython",
    "version": 3
   },
   "file_extension": ".py",
   "mimetype": "text/x-python",
   "name": "python",
   "nbconvert_exporter": "python",
   "pygments_lexer": "ipython3",
   "version": "3.11.3"
  }
 },
 "nbformat": 4,
 "nbformat_minor": 5
}
