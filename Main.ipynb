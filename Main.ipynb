{
 "cells": [
  {
   "cell_type": "code",
   "execution_count": 30,
   "id": "d833d7b0",
   "metadata": {
    "ExecuteTime": {
     "end_time": "2023-05-31T14:23:58.937049Z",
     "start_time": "2023-05-31T14:23:58.931583Z"
    }
   },
   "outputs": [],
   "source": [
    "from sqlalchemy import create_engine, MetaData, Table, Column, Integer, String\n",
    "from sqlalchemy.orm import sessionmaker\n",
    "import pandas as pd\n",
    "from src.utils import numeric_statistics"
   ]
  },
  {
   "cell_type": "markdown",
   "id": "6df000bb",
   "metadata": {},
   "source": [
    "# 1.0 Get Data "
   ]
  },
  {
   "cell_type": "code",
   "execution_count": 31,
   "id": "9b67f1cc",
   "metadata": {
    "ExecuteTime": {
     "end_time": "2023-05-31T14:24:01.896722Z",
     "start_time": "2023-05-31T14:24:01.891129Z"
    }
   },
   "outputs": [],
   "source": [
    "host = 'interview-2.ck1h5ksgzpiq.us-east-1.rds.amazonaws.com'  \n",
    "porta = 3306\n",
    "usuario = 'hotinterview'\n",
    "senha = '6cT4jk9QWPhQC9KXWKDd'\n",
    "schema = 'innodb'\n",
    "tabela = 'sales_data'\n",
    "\n",
    "url_conexao = f'mysql+pymysql://{usuario}:{senha}@{host}:{porta}/{schema}'"
   ]
  },
  {
   "cell_type": "code",
   "execution_count": 32,
   "id": "558d7593",
   "metadata": {
    "ExecuteTime": {
     "end_time": "2023-05-31T14:24:02.240674Z",
     "start_time": "2023-05-31T14:24:02.236363Z"
    }
   },
   "outputs": [],
   "source": [
    "engine = create_engine(url_conexao, echo=True)  # Use \"echo=True\" para ver as mensagens de log"
   ]
  },
  {
   "cell_type": "code",
   "execution_count": 33,
   "id": "1e4dc822",
   "metadata": {
    "ExecuteTime": {
     "end_time": "2023-05-31T14:24:02.640145Z",
     "start_time": "2023-05-31T14:24:02.626280Z"
    }
   },
   "outputs": [],
   "source": [
    "Session = sessionmaker(bind=engine)\n",
    "session = Session()\n",
    "session.close()"
   ]
  },
  {
   "cell_type": "code",
   "execution_count": 34,
   "id": "9cc95a6b",
   "metadata": {
    "ExecuteTime": {
     "end_time": "2023-05-31T14:25:23.597376Z",
     "start_time": "2023-05-31T14:24:05.149107Z"
    }
   },
   "outputs": [
    {
     "name": "stdout",
     "output_type": "stream",
     "text": [
      "2023-05-31 11:24:06,248 INFO sqlalchemy.engine.Engine SELECT DATABASE()\n",
      "2023-05-31 11:24:06,256 INFO sqlalchemy.engine.Engine [raw sql] {}\n",
      "2023-05-31 11:24:06,481 INFO sqlalchemy.engine.Engine SELECT @@sql_mode\n",
      "2023-05-31 11:24:06,486 INFO sqlalchemy.engine.Engine [raw sql] {}\n",
      "2023-05-31 11:24:06,605 INFO sqlalchemy.engine.Engine SELECT @@lower_case_table_names\n",
      "2023-05-31 11:24:06,606 INFO sqlalchemy.engine.Engine [raw sql] {}\n",
      "2023-05-31 11:24:06,833 INFO sqlalchemy.engine.Engine BEGIN (implicit)\n",
      "2023-05-31 11:24:06,835 INFO sqlalchemy.engine.Engine DESCRIBE `innodb`.`SELECT * FROM sales_data`\n",
      "2023-05-31 11:24:06,837 INFO sqlalchemy.engine.Engine [raw sql] {}\n",
      "2023-05-31 11:24:06,948 INFO sqlalchemy.engine.Engine SELECT * FROM sales_data\n",
      "2023-05-31 11:24:06,950 INFO sqlalchemy.engine.Engine [raw sql] {}\n",
      "2023-05-31 11:25:22,789 INFO sqlalchemy.engine.Engine ROLLBACK\n"
     ]
    }
   ],
   "source": [
    "query = 'SELECT * FROM sales_data'\n",
    "df = pd.read_sql(query, engine)"
   ]
  },
  {
   "cell_type": "markdown",
   "id": "8ce51c1c",
   "metadata": {},
   "source": [
    "Para não ficar fazendo consultas ao banco de dados todas as vezes que abrir esse notebook, decidi salvar\n",
    "esses dados como um arquivo .csv nesse path `src/data/data.csv`. Mas não subirei esse arquivo para o GitHub,\n",
    "pois não são dados públicos. Ou seja, só quem tem acesso é de fato quem tem acesso ao banco de dados."
   ]
  },
  {
   "cell_type": "code",
   "execution_count": 35,
   "id": "d63f8d18",
   "metadata": {
    "ExecuteTime": {
     "end_time": "2023-05-31T14:28:37.684581Z",
     "start_time": "2023-05-31T14:28:15.503631Z"
    }
   },
   "outputs": [],
   "source": [
    "# path = \"src/data/data.csv\"\n",
    "# df.to_csv(path)"
   ]
  },
  {
   "cell_type": "code",
   "execution_count": 36,
   "id": "4c8119d1",
   "metadata": {
    "ExecuteTime": {
     "end_time": "2023-05-31T14:28:47.697817Z",
     "start_time": "2023-05-31T14:28:40.000791Z"
    }
   },
   "outputs": [],
   "source": [
    "df = pd.read_csv(path)"
   ]
  },
  {
   "cell_type": "markdown",
   "id": "af381ee9",
   "metadata": {},
   "source": [
    "# 2.0 Observações iniciais "
   ]
  },
  {
   "cell_type": "markdown",
   "id": "a5b1eb1c",
   "metadata": {},
   "source": [
    "- purchase_id: Identificação da compra na Hotmart;\n",
    "- product_id: Identificação do produto na Hotmart;\n",
    "- affiliate_id: Identificação do afiliado na Hotmart;\n",
    "- producer_id: Identificação do produtor na Hotmart;\n",
    "- buyer_id: Identificação do comprador na Hotmart;\n",
    "- purchase_date: Data e hora em que a compra foi realizada;\n",
    "- product_creation_date: Data e hora em que o produto foi criado na Hotmart;\n",
    "- product_category: categoria do produto na Hotmart. Exemplo: e-book,\n",
    "software, curso online, e-tickets, etc.;\n",
    "- product_niche: nicho de mercado que o produto faz parte. Exemplo:\n",
    "educação, saúde e bem-estar, sexualidade, etc.;\n",
    "- purchase_value: valor da compra. Esse dado, assim como nicho e categoria foi\n",
    "codificado para manter a confidencialidade. O valor apresentado no dataset é\n",
    "o z-score do valor real;\n",
    "- affiliate_commission_percentual: percentual de comissão que o afiliado\n",
    "receberá da compra;\n",
    "- purchase_device: tipo de dispositivo utilizado no momento da compra, como:\n",
    "Desktop, Mobile, Tablet, ou Outros;\n",
    "- purchase_origin: endereço do site do qual a pessoa veio antes da compra. Por\n",
    "exemplo, se uma pessoa veio do Facebook, Youtube, ou até mesmo de outra\n",
    "página no site oficial do produto;\n",
    "- is_origin_page_social_network: informa se essa compra veio de uma URL do\n",
    "Facebook, Youtube, Instagram, Pinterest, ou Twitter.\n",
    "\n",
    "## Algumas regras de negócio\n",
    "- Quando a compra for feita diretamente pelo produtor, ou seja, quando não\n",
    "houver afiliado intermediando a compra, o campo\n",
    "affiliate_commission_percentual terá valor 0, e o campo affiliate_id será\n",
    "igual ao producer_id;\n",
    "- No campo purchase_origin nós apenas consideramos o host do site. Isso quer\n",
    "dizer que, se uma pessoa veio do site www.meuproduto.com/promocoes,\n",
    "esse campo só irá retornar o valor www.meuproduto.com;"
   ]
  },
  {
   "cell_type": "markdown",
   "id": "44331c44",
   "metadata": {},
   "source": [
    "Validação da primeira regra de negócio. Nesse caso não temos nenhum registro onde a compra foi feita\n",
    "diretamente pelo produtor."
   ]
  },
  {
   "cell_type": "code",
   "execution_count": 6,
   "id": "f323af96",
   "metadata": {
    "ExecuteTime": {
     "end_time": "2023-05-31T13:44:39.699444Z",
     "start_time": "2023-05-31T13:44:39.656560Z"
    }
   },
   "outputs": [
    {
     "data": {
      "text/html": [
       "<div>\n",
       "<style scoped>\n",
       "    .dataframe tbody tr th:only-of-type {\n",
       "        vertical-align: middle;\n",
       "    }\n",
       "\n",
       "    .dataframe tbody tr th {\n",
       "        vertical-align: top;\n",
       "    }\n",
       "\n",
       "    .dataframe thead th {\n",
       "        text-align: right;\n",
       "    }\n",
       "</style>\n",
       "<table border=\"1\" class=\"dataframe\">\n",
       "  <thead>\n",
       "    <tr style=\"text-align: right;\">\n",
       "      <th></th>\n",
       "      <th>purchase_id</th>\n",
       "      <th>product_id</th>\n",
       "      <th>affiliate_id</th>\n",
       "      <th>producer_id</th>\n",
       "      <th>buyer_id</th>\n",
       "      <th>purchase_date</th>\n",
       "      <th>product_creation_date</th>\n",
       "      <th>product_category</th>\n",
       "      <th>product_niche</th>\n",
       "      <th>purchase_value</th>\n",
       "      <th>affiliate_commission_percentual</th>\n",
       "      <th>purchase_device</th>\n",
       "      <th>purchase_origin</th>\n",
       "      <th>is_origin_page_social_network</th>\n",
       "      <th>Venda</th>\n",
       "    </tr>\n",
       "  </thead>\n",
       "  <tbody>\n",
       "  </tbody>\n",
       "</table>\n",
       "</div>"
      ],
      "text/plain": [
       "Empty DataFrame\n",
       "Columns: [purchase_id, product_id, affiliate_id, producer_id, buyer_id, purchase_date, product_creation_date, product_category, product_niche, purchase_value, affiliate_commission_percentual, purchase_device, purchase_origin, is_origin_page_social_network, Venda]\n",
       "Index: []"
      ]
     },
     "execution_count": 6,
     "metadata": {},
     "output_type": "execute_result"
    }
   ],
   "source": [
    "df[df['product_id'] == df['affiliate_id']]"
   ]
  },
  {
   "cell_type": "markdown",
   "id": "e8d01b78",
   "metadata": {},
   "source": [
    "A coluna **purchase_origin** não possui um comportamento de host como **www.meuproduto.com**, mas irei considerar que a informação é essa mesmo. "
   ]
  },
  {
   "cell_type": "code",
   "execution_count": 18,
   "id": "aa4614a5",
   "metadata": {
    "ExecuteTime": {
     "end_time": "2023-05-31T13:57:47.552786Z",
     "start_time": "2023-05-31T13:57:47.331915Z"
    }
   },
   "outputs": [
    {
     "data": {
      "text/plain": [
       "purchase_origin\n",
       "Origin ef2b    330077\n",
       "Origin 5187    167028\n",
       "Origin adf0     77857\n",
       "Origin 18eb     28693\n",
       "Origin 3ade     13069\n",
       "                ...  \n",
       "Origin e51d         1\n",
       "Origin d5eb         1\n",
       "Origin 00ca         1\n",
       "Origin 7475         1\n",
       "Origin 290d         1\n",
       "Name: count, Length: 9603, dtype: int64"
      ]
     },
     "execution_count": 18,
     "metadata": {},
     "output_type": "execute_result"
    }
   ],
   "source": [
    "df['purchase_origin'].value_counts()"
   ]
  },
  {
   "cell_type": "code",
   "execution_count": 25,
   "id": "25b1e9d2",
   "metadata": {
    "ExecuteTime": {
     "end_time": "2023-05-31T14:19:33.207075Z",
     "start_time": "2023-05-31T14:19:33.171910Z"
    }
   },
   "outputs": [
    {
     "data": {
      "text/html": [
       "<div>\n",
       "<style scoped>\n",
       "    .dataframe tbody tr th:only-of-type {\n",
       "        vertical-align: middle;\n",
       "    }\n",
       "\n",
       "    .dataframe tbody tr th {\n",
       "        vertical-align: top;\n",
       "    }\n",
       "\n",
       "    .dataframe thead th {\n",
       "        text-align: right;\n",
       "    }\n",
       "</style>\n",
       "<table border=\"1\" class=\"dataframe\">\n",
       "  <thead>\n",
       "    <tr style=\"text-align: right;\">\n",
       "      <th></th>\n",
       "      <th>type</th>\n",
       "      <th>Unique_Values</th>\n",
       "      <th>Mean</th>\n",
       "      <th>Median</th>\n",
       "      <th>Std</th>\n",
       "      <th>Min</th>\n",
       "      <th>Max</th>\n",
       "      <th>Range</th>\n",
       "      <th>Skew</th>\n",
       "      <th>Kurtosis</th>\n",
       "    </tr>\n",
       "  </thead>\n",
       "  <tbody>\n",
       "    <tr>\n",
       "      <th>0</th>\n",
       "      <td>float64</td>\n",
       "      <td>10</td>\n",
       "      <td>0.345106</td>\n",
       "      <td>0.264265</td>\n",
       "      <td>0.285324</td>\n",
       "      <td>0.003009</td>\n",
       "      <td>0.943589</td>\n",
       "      <td>0.940580</td>\n",
       "      <td>1.027361</td>\n",
       "      <td>0.731008</td>\n",
       "    </tr>\n",
       "    <tr>\n",
       "      <th>1</th>\n",
       "      <td>float64</td>\n",
       "      <td>10</td>\n",
       "      <td>0.478060</td>\n",
       "      <td>0.427820</td>\n",
       "      <td>0.326569</td>\n",
       "      <td>0.028562</td>\n",
       "      <td>0.947067</td>\n",
       "      <td>0.918505</td>\n",
       "      <td>0.274694</td>\n",
       "      <td>-1.283361</td>\n",
       "    </tr>\n",
       "    <tr>\n",
       "      <th>2</th>\n",
       "      <td>float64</td>\n",
       "      <td>10</td>\n",
       "      <td>0.608442</td>\n",
       "      <td>0.609995</td>\n",
       "      <td>0.248933</td>\n",
       "      <td>0.283783</td>\n",
       "      <td>0.960927</td>\n",
       "      <td>0.677144</td>\n",
       "      <td>0.058754</td>\n",
       "      <td>-1.147297</td>\n",
       "    </tr>\n",
       "    <tr>\n",
       "      <th>3</th>\n",
       "      <td>float64</td>\n",
       "      <td>10</td>\n",
       "      <td>0.632378</td>\n",
       "      <td>0.623229</td>\n",
       "      <td>0.232442</td>\n",
       "      <td>0.166794</td>\n",
       "      <td>0.979037</td>\n",
       "      <td>0.812243</td>\n",
       "      <td>-0.502208</td>\n",
       "      <td>0.754721</td>\n",
       "    </tr>\n",
       "    <tr>\n",
       "      <th>4</th>\n",
       "      <td>float64</td>\n",
       "      <td>10</td>\n",
       "      <td>0.541905</td>\n",
       "      <td>0.589338</td>\n",
       "      <td>0.256004</td>\n",
       "      <td>0.147459</td>\n",
       "      <td>0.885584</td>\n",
       "      <td>0.738125</td>\n",
       "      <td>-0.477016</td>\n",
       "      <td>-1.021316</td>\n",
       "    </tr>\n",
       "  </tbody>\n",
       "</table>\n",
       "</div>"
      ],
      "text/plain": [
       "      type  Unique_Values      Mean    Median       Std       Min       Max  \\\n",
       "0  float64             10  0.345106  0.264265  0.285324  0.003009  0.943589   \n",
       "1  float64             10  0.478060  0.427820  0.326569  0.028562  0.947067   \n",
       "2  float64             10  0.608442  0.609995  0.248933  0.283783  0.960927   \n",
       "3  float64             10  0.632378  0.623229  0.232442  0.166794  0.979037   \n",
       "4  float64             10  0.541905  0.589338  0.256004  0.147459  0.885584   \n",
       "\n",
       "      Range      Skew  Kurtosis  \n",
       "0  0.940580  1.027361  0.731008  \n",
       "1  0.918505  0.274694 -1.283361  \n",
       "2  0.677144  0.058754 -1.147297  \n",
       "3  0.812243 -0.502208  0.754721  \n",
       "4  0.738125 -0.477016 -1.021316  "
      ]
     },
     "execution_count": 25,
     "metadata": {},
     "output_type": "execute_result"
    }
   ],
   "source": [
    "numeric_statistics(df)"
   ]
  },
  {
   "cell_type": "markdown",
   "id": "f6358271",
   "metadata": {},
   "source": [
    "# DATA CLEANING "
   ]
  },
  {
   "cell_type": "code",
   "execution_count": 21,
   "id": "77e1407f",
   "metadata": {
    "ExecuteTime": {
     "end_time": "2023-05-31T14:00:54.305301Z",
     "start_time": "2023-05-31T14:00:54.261698Z"
    }
   },
   "outputs": [
    {
     "data": {
      "text/plain": [
       "affiliate_commission_percentual\n",
       "0.00     1338727\n",
       "50.00      70931\n",
       "60.00      33794\n",
       "30.00      20419\n",
       "40.00      19606\n",
       "          ...   \n",
       "29.60          1\n",
       "29.48          1\n",
       "39.03          1\n",
       "30.11          1\n",
       "28.88          1\n",
       "Name: count, Length: 279, dtype: int64"
      ]
     },
     "execution_count": 21,
     "metadata": {},
     "output_type": "execute_result"
    }
   ],
   "source": [
    "df['affiliate_commission_percentual'].value_counts()"
   ]
  }
 ],
 "metadata": {
  "kernelspec": {
   "display_name": "hotmart",
   "language": "python",
   "name": "hotmart"
  },
  "language_info": {
   "codemirror_mode": {
    "name": "ipython",
    "version": 3
   },
   "file_extension": ".py",
   "mimetype": "text/x-python",
   "name": "python",
   "nbconvert_exporter": "python",
   "pygments_lexer": "ipython3",
   "version": "3.11.3"
  }
 },
 "nbformat": 4,
 "nbformat_minor": 5
}
